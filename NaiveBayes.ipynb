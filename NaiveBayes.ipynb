{
 "cells": [
  {
   "cell_type": "markdown",
   "id": "cc416063",
   "metadata": {},
   "source": [
    "# Skills lab: Conditional Probabilities\n",
    "#### Sentiment analysis of tweets with Naive Bayes\n"
   ]
  },
  {
   "cell_type": "markdown",
   "id": "09f3616a",
   "metadata": {},
   "source": [
    "The idea of summarizing and visualizing events and emotions of the entire world received a lot of attention in the Machine Learning community. As an example see how the [GDELT project](https://www.gdeltproject.org/) tried to convert world media and news into visualizations of the events and emotions: [LINK](https://firstmonday.org/ojs/index.php/fm/article/view/4366/3654) \n",
    "\n",
    "Our goal in this assignment is less extreme: we want to create a system for monitoring emotions of Twitter users and plot the positivity score for small geographic areas on Google maps.\n",
    "\n",
    "To classify each tweet we are going to use the Naive Bayes classifier, which, despite its “naive” assumptions, has great performance in classifying documents based on their word content.\n",
    "\n",
    "The main idea of the Document classification with Naive Bayes is as following:\n",
    "\n",
    "For each new document with words $Word_1 … Word_n$ and each category $c$ compute the probability:\n",
    "\n",
    "$P(Category = c | Word1 = true, …, Wordn = true) =\\alpha*P(Category = c) \\prod_{i=1}^n P(Wordi = true | Category = c)$\n",
    "\n",
    "Then a new document can be classified as belonging to a category $c_{best}$ for which the above probability is the highest:\n",
    "\n",
    "$c_{best} = argmax(c \\in C) P(Category = c | Word_1 = true, …, Word_n = true)$ \n",
    "\n",
    "Note, that we don't calculate any real probabilities here. Instead, we are estimating which class is more likely, given the evidence (words). This is another reason why Naïve Bayes is so robust: It is not so much interested in the real probabilities, but only determines which class is more likely. "
   ]
  },
  {
   "cell_type": "markdown",
   "id": "302a5d67",
   "metadata": {},
   "source": [
    "## Dataset\n",
    "Our training dataset was obtained from the Niek Sanders corpus, who has done an awesome job of **manually** labeling more than 5,000 tweets with 4 categories: Positive, Negative, Neutral, and Irrelevant. In general, you could use his script, [install.py](https://github.com/zfz/twitter_corpus.git), to fetch the corresponding Twitter text by tweet id. Because the script is playing nicely with Twitter's servers, it might take quite some time to download the data, so the dataset [full-corpus.csv](https://drive.google.com/file/d/1n3XFcUp8yoLf4BOj0rxEpTw1VCwyK1s-/view?usp=sharing) has been already pre-created for you by your hard-working instructor:). \n",
    "\n",
    "We also preprocessed the dataset, leaving only 2 relevant columns: the text of a twit, and the sentiment class. The preprocessed dataset is in file [labeled_corpus.tsv](https://drive.google.com/file/d/1NXvKTuTO6oNjonKkDm2DGdN5fqj-2RE7/view?usp=drive_link), and the tweet text is separated from the class label using tab (‘\\t’). That is why the file extension is tsv - which means tab-separated values (similar to csv - comma-separated values). This is our training dataset, used to estimate the probabilities of words given a category. Download the dataset [labeled_corpus.tsv](https://drive.google.com/file/d/1NXvKTuTO6oNjonKkDm2DGdN5fqj-2RE7/view?usp=drive_link), and place it in the same directory where your notebook is.\n",
    "\n",
    "Let's open the dataset and look at the first five rows:"
   ]
  },
  {
   "cell_type": "code",
   "execution_count": 1,
   "id": "bc2f8a37",
   "metadata": {},
   "outputs": [
    {
     "name": "stdout",
     "output_type": "stream",
     "text": [
      "Now all @Apple has to do is get swype on the iphone and it will be crack. Iphone that is\n",
      "positive\n",
      "\n",
      "@Apple will be adding more carrier support to the iPhone 4S (just announced)\n",
      "positive\n",
      "\n",
      "Hilarious @youtube video - guy does a duet with @apple 's Siri. Pretty much sums up the love affair! http://t.co/8ExbnQjY\n",
      "positive\n",
      "\n",
      "Why is #Google advertising Adwords Express on #Bing? Hmmm, I know Ballmer is happy :-D. #Google, your already a monopoly.\n",
      "negative\n",
      "\n",
      "@RIM you made it too easy for me to switch to @Apple iPhone. See ya!\n",
      "positive\n",
      "\n"
     ]
    }
   ],
   "source": [
    "import csv\n",
    "\n",
    "with open(\"labeled_corpus.tsv\", encoding=\"utf-8\") as csvfile:\n",
    "    readCSV = csv.reader(csvfile, delimiter='\\t')\n",
    "    countdown = 5\n",
    "    \n",
    "    for row in readCSV:\n",
    "        line_arr = list(row)\n",
    "\n",
    "        tweet = line_arr[0]\n",
    "        sentiment = line_arr[1]        \n",
    "                 \n",
    "        print (tweet)\n",
    "        print (sentiment)\n",
    "        print()\n",
    "        \n",
    "        countdown-=1\n",
    "        if countdown==0: \n",
    "            break"
   ]
  },
  {
   "cell_type": "markdown",
   "id": "7dd44b83",
   "metadata": {},
   "source": [
    "We see that some tweets are labeled as 'positive' and others as 'negative'. There are overall four different categories of documents (tweets) in this dataset. Let's store these categories in a set. We can also make use of categories as numbers or as indexes in the array."
   ]
  },
  {
   "cell_type": "code",
   "execution_count": 2,
   "id": "f2a671d4",
   "metadata": {},
   "outputs": [],
   "source": [
    "categories = {'positive', 'negative', 'neutral', 'irrelevant'}\n",
    "category_to_num = {\"positive\": 0, \"negative\":1, \"neutral\":2, \"irrelevant\": 3}\n",
    "num_to_category = {0: \"positive\", 1: \"negative\", 2: \"neutral\", 3: \"irrelevant\"}"
   ]
  },
  {
   "cell_type": "markdown",
   "id": "cf1fec21",
   "metadata": {},
   "source": [
    "## Cleaning tweets\n",
    "The main characteristic of a single tweet is that unlike other documents, the tweet is short (limited by 140 characters) and contains a lot of shortcuts and emoticons. We need to carefully preserve every single word, unlike in normal natural language documents, where we would remove some words (stop words). It is probably wise to remove words starting with @ as they represent user names. It is also desirable to strip the hashtag from the word it is attached to.\n",
    "\n",
    "To take into account all abbreviations and emoticons, we replace the most obvious of them with the words which may help us with sentiment analysis. The range of frequent emoticons and their replacement is defined in emo_repl dictionary below. "
   ]
  },
  {
   "cell_type": "code",
   "execution_count": 3,
   "id": "cb57548d",
   "metadata": {},
   "outputs": [],
   "source": [
    "emo_repl = {\n",
    "    # positive emoticons\n",
    "    \"&lt;3\": \" good \",\n",
    "    \":d\": \" good \",  # :D in lower case\n",
    "    \":dd\": \" good \", # :DD in lower case\n",
    "    \"8)\": \" good \",\n",
    "    \":-)\": \" good \",\n",
    "    \":)\": \" good \",\n",
    "    \";)\": \" good \",\n",
    "    \"(-:\": \" good \",\n",
    "    \"(:\": \" good \",\n",
    "    # negative emoticons:\n",
    "    \":/\": \" bad \",\n",
    "    \":&gt;\": \" sad \",\n",
    "    \":')\": \" sad \",\n",
    "    \":-(\": \" bad \",\n",
    "    \":(\": \" bad \",\n",
    "    \":S\": \" bad \",\n",
    "    \":-S\": \" bad \",\n",
    "}"
   ]
  },
  {
   "cell_type": "markdown",
   "id": "f24d6601",
   "metadata": {},
   "source": [
    "Here are also the most common abbreviations to be replaced with actual words:"
   ]
  },
  {
   "cell_type": "code",
   "execution_count": 4,
   "id": "fd94829a",
   "metadata": {},
   "outputs": [],
   "source": [
    "import re #regular expressions module\n",
    "\n",
    "# Define abbreviations\n",
    "# as regular expressions together with their expansions\n",
    "# (\\b marks the word boundary):\n",
    "re_repl = {\n",
    "    r\"\\br\\b\": \"are\",\n",
    "    r\"\\bu\\b\": \"you\",\n",
    "    r\"\\bhaha\\b\": \"ha\",\n",
    "    r\"\\bhahaha\\b\": \"ha\",\n",
    "    r\"\\bdon't\\b\": \"do not\",\n",
    "    r\"\\bdoesn't\\b\": \"does not\",\n",
    "    r\"\\bdidn't\\b\": \"did not\",\n",
    "    r\"\\bhasn't\\b\": \"has not\",\n",
    "    r\"\\bhaven't\\b\": \"have not\",\n",
    "    r\"\\bhadn't\\b\": \"had not\",\n",
    "    r\"\\bwon't\\b\": \"will not\",\n",
    "    r\"\\bwouldn't\\b\": \"would not\",\n",
    "    r\"\\bcan't\\b\": \"can not\",\n",
    "    r\"\\bcannot\\b\": \"can not\"\n",
    "}"
   ]
  },
  {
   "cell_type": "code",
   "execution_count": 5,
   "id": "3c2eb85b",
   "metadata": {},
   "outputs": [],
   "source": [
    "# make sure that e.g. :dd is replaced before :d\n",
    "emo_repl_order = [k for (k_len,k) in\n",
    "                  reversed(sorted([(len(k),k) for k in emo_repl.keys()]))]"
   ]
  },
  {
   "cell_type": "markdown",
   "id": "4c5d4af6",
   "metadata": {},
   "source": [
    "And here is a function that will apply all of the above to a single tweet:"
   ]
  },
  {
   "cell_type": "code",
   "execution_count": 6,
   "id": "6c066e11",
   "metadata": {},
   "outputs": [],
   "source": [
    "def clean_tweet(tweet):\n",
    "    tweet = tweet.lower()\n",
    "    for k in emo_repl_order:\n",
    "        tweet = tweet.replace(k, emo_repl[k])\n",
    "\n",
    "    for r, repl in re_repl.items():\n",
    "        tweet = re.sub(r, repl, tweet)\n",
    "\n",
    "    return tweet"
   ]
  },
  {
   "cell_type": "markdown",
   "id": "9040af0e",
   "metadata": {},
   "source": [
    "## Parsing and counting words\n",
    "To work with a tweet as a document, we first need to obtain separate words from a tweet text. \n",
    "\n",
    "Because the same word rarely occurs in a tweet, we are going to account for the presence/absence of a word rather than the count of words per tweet. \n",
    "\n",
    "**Stop and think:** words with which prefix should you ignore when parsing a tweet? (#, @?)"
   ]
  },
  {
   "cell_type": "markdown",
   "id": "339e354e",
   "metadata": {},
   "source": [
    "\n",
    "<div style=\"background-color:yellow;\">\n",
    "    <h3>Task 1. Count words in each category</h3>    \n",
    "</div>"
   ]
  },
  {
   "cell_type": "code",
   "execution_count": 7,
   "id": "f4eb30c7",
   "metadata": {},
   "outputs": [],
   "source": [
    "import string\n",
    "exclude = set(string.punctuation)\n",
    "\n",
    "def split_tweet(string):\n",
    "    split = string.split()\n",
    "    output = []\n",
    "    for w in split:\n",
    "        if '#' not in w and '@' not in w:\n",
    "            str = \"\"\n",
    "            for ch in w:\n",
    "                if (ch not in exclude):\n",
    "                    str += ch\n",
    "            output += [str]\n",
    "    return output"
   ]
  },
  {
   "cell_type": "markdown",
   "id": "8d19e0fc",
   "metadata": {},
   "source": [
    "The probabilities of  $P(Word_i = true | Category = c)$ can be easily computed from the dataset as the number of documents in category $c$ which contain this word / total number of documents in this category (conditional probability). $P(Category=c)$ is simply the number of all documents in this category divided by the total number of documents in the dataset.\n",
    "\n",
    "Based on all the information given above, read the dataset, clean each tweet, remove some prefixed words, and split the tweet into words using the function `split_tweet()` defined above.\n",
    "\n",
    "Then for each word from an obtained list generate the following counts: \n",
    "- Number of tweets in category \"positive\" that contain this word  \n",
    "- Number of tweets in category \"negative\" that contain this word  \n",
    "- Number of tweets in category \"neutral\" that contain this word   \n",
    "- Number of tweets in category \"irrelevant\" that contain this word   \n",
    "\n",
    "Also count the total number of tweets in each category and the overall total number of tweets.\n",
    "\n",
    "Implement this inside the routine called `produce_counts`. Add counts to the corresponding entries of `word_counts_dict` and `total_entries`  "
   ]
  },
  {
   "cell_type": "code",
   "execution_count": 8,
   "id": "57960897",
   "metadata": {},
   "outputs": [],
   "source": [
    "def produce_counts():\n",
    "    csvfile = open(\"labeled_corpus.tsv\", encoding=\"utf-8\")\n",
    "    readCSV = csv.reader(csvfile, delimiter='\\t')\n",
    "    \n",
    "    for row in readCSV:\n",
    "        line_arr = list(row)\n",
    "\n",
    "        tweet = line_arr[0]\n",
    "        sentiment = line_arr[1] \n",
    "        tweet = clean_tweet(tweet)\n",
    "        tweet_words = split_tweet(tweet)\n",
    "        \n",
    "        for word in tweet_words:\n",
    "            if word not in word_counts_dict:\n",
    "                word_counts_dict[word] = [0, 0, 0, 0, 0]\n",
    "            word_counts_dict[word][4] += 1\n",
    "            word_counts_dict[word][category_to_num[sentiment]] += 1\n",
    "            \n",
    "        total_entries[4] += 1\n",
    "        total_entries[category_to_num[sentiment]] += 1"
   ]
  },
  {
   "cell_type": "code",
   "execution_count": 9,
   "id": "87d7971d",
   "metadata": {},
   "outputs": [
    {
     "name": "stdout",
     "output_type": "stream",
     "text": [
      "total positives = 519\n",
      "total negatives = 572\n",
      "total documents = 5107\n",
      "[6, 8, 12, 0, 26]\n",
      "[12, 6, 16, 0, 34]\n"
     ]
    }
   ],
   "source": [
    "word_counts_dict = {} # \"word\": [positive, negative, neutral, irrelevant, total counts]\n",
    "total_entries = [0, 0, 0, 0, 0] #[positive, negative, neutral, irrelevant, total counts]\n",
    "\n",
    "produce_counts()\n",
    "\n",
    "##### Double-check that your counts are correct\n",
    "# total positives = 519\n",
    "print (\"total positives =\", total_entries[0])\n",
    "\n",
    "# total negatives = 572\n",
    "print (\"total negatives =\", total_entries[1])\n",
    "\n",
    "# total documents = 5107\n",
    "print (\"total documents =\", total_entries[-1])\n",
    "\n",
    "#'made': [6, 8, 12, 0, 26]\n",
    "print(word_counts_dict['made'])\n",
    "#'thank': [12, 6, 16, 0, 34]\n",
    "print(word_counts_dict['thank'])"
   ]
  },
  {
   "cell_type": "markdown",
   "id": "1fdf90ad",
   "metadata": {},
   "source": [
    "## Build Naive Bayes\n",
    "\n",
    "It is time to build a classifier - that is to precompute: for each category $c$ the $P(Category = c)$, and for each $Word_i$ the value of  $P(Word_i|c)$. "
   ]
  },
  {
   "cell_type": "markdown",
   "id": "d2313dbd",
   "metadata": {},
   "source": [
    "<div style=\"background-color:yellow;\">\n",
    "    <h3>Task 2. Compute probabilities</h3>    \n",
    "</div>"
   ]
  },
  {
   "cell_type": "markdown",
   "id": "b9ba20c2",
   "metadata": {},
   "source": [
    "Store the probability for each word in a dictionary `probabilities_dict` where the key is the word itself, and the value is a list of probabilities of this word occuring in 4 different categories. Store prior probabilities of $P(c)$ in `prior_probabilities` list with a separate entry for each category. \n",
    "\n",
    "Use counts obtained in the previous section and implement the `probabilities()` function below:"
   ]
  },
  {
   "cell_type": "code",
   "execution_count": 10,
   "id": "b8e05703",
   "metadata": {},
   "outputs": [],
   "source": [
    "def probabilities():\n",
    "    for i in range(0, 4):\n",
    "        prior_probabilities[i] = float(total_entries[i]/total_entries[4])\n",
    "    for word in word_counts_dict.keys():\n",
    "        probabilities_dict[word] = []\n",
    "        for i in range(0, 4):\n",
    "            probabilities_dict[word].append(float(word_counts_dict[word][i]/total_entries[i]))\n",
    "    "
   ]
  },
  {
   "cell_type": "markdown",
   "id": "ae6cd706",
   "metadata": {},
   "source": [
    "Now run the function and double-check that your probabilities are correct."
   ]
  },
  {
   "cell_type": "code",
   "execution_count": 11,
   "id": "5977f42e",
   "metadata": {},
   "outputs": [
    {
     "name": "stdout",
     "output_type": "stream",
     "text": [
      "P('positive') 0.10162522028588213\n",
      "P('negative') 0.11200313295476796\n",
      "P('neutral') 0.4558449187389857\n",
      "P('irrelevant') 0.3305267280203642\n",
      "[0.011560693641618497, 0.013986013986013986, 0.005154639175257732, 0.0]\n",
      "[0.023121387283236993, 0.01048951048951049, 0.006872852233676976, 0.0]\n"
     ]
    }
   ],
   "source": [
    "prior_probabilities = [0,0,0,0] #probabilities of 'positive', 'negative', 'neutral', 'irrelevant'\n",
    "probabilities_dict = {} #key: word, value array [positive, negative, neutral, irrelevant]\n",
    "\n",
    "probabilities()\n",
    "\n",
    "print(\"P('positive')\", prior_probabilities[0])     # 0.10162522028588213\n",
    "print(\"P('negative')\", prior_probabilities[1])     # 0.11200313295476796\n",
    "print(\"P('neutral')\", prior_probabilities[2])      # 0.4558449187389857\n",
    "print(\"P('irrelevant')\", prior_probabilities[3])   # 0.3305267280203642 \n",
    "\n",
    "print(probabilities_dict['made'])   #[0.011560693641618497, 0.013986013986013986, 0.005154639175257732, 0.0]\n",
    "print(probabilities_dict['thank'])  #[0.023121387283236993, 0.01048951048951049, 0.006872852233676976, 0.0]\n"
   ]
  },
  {
   "cell_type": "markdown",
   "id": "7a2dc365",
   "metadata": {},
   "source": [
    "## Classify geo-tagged tweets\n",
    "\n",
    "The second dataset we are using in this lab is the dataset of geo-tagged tweets containing the latitude and the longitude of an author: [geodata.txt](https://drive.google.com/file/d/1u6fmbjCdsP9AA7z1tkYfLVSMFlDFW-nJ/view?usp=sharing). \n",
    "\n",
    "This dataset comes from the paper: “A Latent Variable Model for Geographic Lexical Variation”  \n",
    "by Jacob Eisenstein, Brendan O'Connor, Noah A. Smith, and Eric P. Xing,  \n",
    "In Proceedings of the Conference on Empirical Methods in Natural Language Processing, Cambridge, MA, 2010.\n",
    " \n",
    "For this dataset, we want to predict a category label \n",
    "of each tweet using probabilities computed in the previous step. \n",
    "\n",
    "We cannot use this dataset directly -- we need to redistribute data points into small rectangular areas of the map.\n",
    "This should be done because Google maps API would not be able to handle all our data points due to the memory and processing power constraints of the browser. Instead, we assign each data point to a small rectangular area of 0.05 x 0.05 degrees in size, and then we compute a single score for each such area to plot the center of the area as a representative of several data points. Note that this step is already completed for you: in the [geo-twits_squares.csv](https://drive.google.com/file/d/1JDEUPGqxGvt9_r8YfQ1yZM_VuQawhHEf/view?usp=sharing) the latitude and longitude represent the upper left corner of a rectangular area to which each original tweet in geo_data.txt belongs. You can download *geo-twits_squares.csv* and place it into the same directory where you store your notebook."
   ]
  },
  {
   "cell_type": "markdown",
   "id": "e4785c37",
   "metadata": {},
   "source": [
    "<div style=\"background-color:yellow;\">\n",
    "    <h3>Task 3. Classify geo-tweets</h3>    \n",
    "</div>"
   ]
  },
  {
   "cell_type": "markdown",
   "id": "49645a67",
   "metadata": {},
   "source": [
    "For each twit in the [geo_twits_squares.tsv](https://drive.google.com/file/d/1JDEUPGqxGvt9_r8YfQ1yZM_VuQawhHEf/view?usp=sharing), compute probabilities of it belonging to one of 4 categories - positive, negative, neutral or irrelevant - and choose the category which is most probable. Perform the same cleaning and parsing procedures as before before computing these classes.\n",
    "\n",
    "Because the formula for classification contains a lengthy sequence of multiplications, and the multiplied probabilities are all smaller than 1, to prevent a possible numerical underflow,  we should use the log of probability instead, and compare the logs (the logs will be negative, but we still can compare them):\n",
    "\n",
    "$c_{best} = argmax(c \\in C) [log P(Category = c) + \\sum_{i=1}^n log P(Word_i = true | Category = c)]$\n",
    "\n",
    "At the end of this step, you should have a file **locations_classified.tsv**, where for each tweet you keep 3 columns: latitude, longitude, and the most probable class label."
   ]
  },
  {
   "cell_type": "markdown",
   "id": "e177a73c",
   "metadata": {},
   "source": [
    "It might take some time to run the classifier, so you might consider using the `tqdm` Python library which will show the progress, but you do not have to. AN example of its usage is shown in the cell below (this cell is not runnable)"
   ]
  },
  {
   "cell_type": "raw",
   "id": "a908164f",
   "metadata": {},
   "source": [
    "!pip install tqdm\n",
    "from tqdm import tqdm\n",
    "\n",
    "for row in tqdm(readTSV):"
   ]
  },
  {
   "cell_type": "code",
   "execution_count": 25,
   "id": "92841f22",
   "metadata": {},
   "outputs": [
    {
     "name": "stdout",
     "output_type": "stream",
     "text": [
      "Requirement already satisfied: tqdm in /Users/kunalsaxena/opt/anaconda3/lib/python3.8/site-packages (4.59.0)\r\n"
     ]
    }
   ],
   "source": [
    "from math import * # for log\n",
    "!pip install tqdm\n",
    "from tqdm import tqdm\n",
    "\n",
    "def classify():\n",
    "    input_file_path = 'geo_twits_squares.tsv'\n",
    "    output_file_path = 'geo_twits_squares_cleaned.tsv'\n",
    "\n",
    "    with open(input_file_path, 'rb') as infile, open(output_file_path, 'wb') as outfile:\n",
    "        for line in infile:\n",
    "            cleaned_line = line.replace(b'\\x00', b'')\n",
    "            outfile.write(cleaned_line)\n",
    "    \n",
    "    tsvfile = open(\"geo_twits_squares_cleaned.tsv\", encoding=\"utf-8\")\n",
    "    readCSV = csv.reader(tsvfile, delimiter='\\t')\n",
    "    \n",
    "    outfile = open(\"locations_classified.tsv\", 'wb')\n",
    "    \n",
    "    for row in tqdm(readCSV):\n",
    "        line_arr = list(row)\n",
    "        \n",
    "        long = line_arr[0]\n",
    "        lat = line_arr[1]\n",
    "        tweet = line_arr[2]\n",
    "        tweet = clean_tweet(tweet)\n",
    "        tweet_words = split_tweet(tweet)\n",
    "        \n",
    "        maxValue = float('-inf')\n",
    "        maxClass = 0\n",
    "        for i in range(0, 4):\n",
    "            currValue = log(prior_probabilities[i])\n",
    "            for word in tweet_words:\n",
    "                if word not in probabilities_dict.keys() or probabilities_dict[word][i] == 0.0:\n",
    "                    continue\n",
    "                else:\n",
    "                    currValue += log(probabilities_dict[word][i])\n",
    "            #print(f'Sentiment {i}: {currValue}')\n",
    "            if(maxValue < currValue):\n",
    "                maxValue = currValue\n",
    "                maxClass = i\n",
    "        #print(f'Max Class: {maxClass}')\n",
    "        result.append([long, lat, maxClass])\n",
    "        outfile.write('\\t'.join(map(str, [long, lat, maxClass])).encode('utf-8') + b'\\n')\n"
   ]
  },
  {
   "cell_type": "markdown",
   "id": "ba09080a",
   "metadata": {},
   "source": [
    "Now you can run this classification routine, which might take some time to finish. \n",
    "\n",
    "If for each tweet you also add the result \\[lat, long, class\\] to the results array then the first 5 entries in this array should look like:\n",
    "`[['40.2', '-74.85', 3], ['40.2', '-74.85', 1], ['40.2', '-74.85', 0], ['40.2', '-74.85', 2], ['40.2', '-74.85', 3]]`"
   ]
  },
  {
   "cell_type": "code",
   "execution_count": 26,
   "id": "05f03a7a",
   "metadata": {},
   "outputs": [
    {
     "name": "stderr",
     "output_type": "stream",
     "text": [
      "363386it [00:36, 9870.57it/s] "
     ]
    },
    {
     "name": "stdout",
     "output_type": "stream",
     "text": [
      "[['40.2', '-74.85', 3], ['40.2', '-74.85', 1], ['40.2', '-74.85', 0], ['40.2', '-74.85', 2], ['40.2', '-74.85', 0]]\n"
     ]
    },
    {
     "name": "stderr",
     "output_type": "stream",
     "text": [
      "\n"
     ]
    }
   ],
   "source": [
    "result = []\n",
    "classify()\n",
    "print(result[:5])   "
   ]
  },
  {
   "cell_type": "markdown",
   "id": "8cf0103e",
   "metadata": {},
   "source": [
    "## Positivity score\n",
    "Here is where some creativity is needed.\n",
    "\n",
    "Now that we can count the number of total tweets per area, the number of positive twits and the number of negative twits in it, how would you assign a single positivity score to each area?\n",
    "\n",
    "The goal is to have a single score which reflects both the proportion of positive and the proportion of negative tweets, and we want this score to range from 0 to 1.  We want the score >=0.5 to indicate an overall positive spirit of the area, and the score < 0.5 its negative spirit.\n",
    "\n",
    "Here is one possible suggestion:\n",
    "\n",
    "Consider the following example: \n",
    "There are a total of 10 tweets in the area.\n",
    "5 of them are positive, 3 are negative, 2 irrelevant/neutral.\n",
    "Positivity = total_positive/total - total_negative/total = 5/10 - 2/10 = 3/10 > 0\n",
    "\n",
    "Let’s say in another square:\n",
    "2 are positive, 7 are negative, and total is 10.\n",
    "Positivity = 2/10 - 7/10 = -5/10 < 0.\n",
    "\n",
    "Because the positivity score defined above varies from -1 to 1, and we want it to vary from 0 to 1, we could just add 1 and divide by 2 - and we get the score in the desired interval.\n",
    "\n",
    "You can think of a different score, or you can make changes in the visualization code to accommodate the different score interval. "
   ]
  },
  {
   "cell_type": "markdown",
   "id": "8dce8672",
   "metadata": {},
   "source": [
    "<div style=\"background-color:yellow;\">\n",
    "    <h3>Task 4. Compute positivity scores</h3>    \n",
    "</div>"
   ]
  },
  {
   "cell_type": "markdown",
   "id": "e3da5a9d",
   "metadata": {},
   "source": [
    "For each rectangular geographic area compute a single positivity score.\n",
    "\n",
    "The output from this step is a dataset where for each area we have its left upper corner (latitude, longitude) and the average positivity score. You may store this dataset in file **positivity_score.tsv**. For us to be able to test your work, please  print several scores here."
   ]
  },
  {
   "cell_type": "code",
   "execution_count": 28,
   "id": "79868cbd",
   "metadata": {},
   "outputs": [],
   "source": [
    "def positivity_score():\n",
    "    position_score_dict = {}\n",
    "    position_dict = {}\n",
    "    outfile = open(\"positivity_score.tsv\", 'wb')\n",
    "    for tweet in result:\n",
    "        if tuple([tweet[0], tweet[1]]) not in position_dict.keys():\n",
    "            position_dict[tuple([tweet[0], tweet[1]])] = [0, 0]\n",
    "        if(tweet[2] == 0):\n",
    "            position_dict[tuple([tweet[0], tweet[1]])][0] += 1\n",
    "        elif(tweet[2] == 1):\n",
    "            position_dict[tuple([tweet[0], tweet[1]])][0] += (-1)\n",
    "        position_dict[tweet[0], tweet[1]][1] += 1\n",
    "    for position in position_dict.keys():\n",
    "        position_score_dict[position] = ((position_dict[position][0] / position_dict[position][1]) + 1) / 2\n",
    "        outfile.write('\\t'.join(map(str, [position[0], position[1], position_score_dict[position]])).encode('utf-8') + b'\\n')\n",
    "    counter = 0\n",
    "    for location in position_score_dict.keys():\n",
    "        print(\"Longitude: \" + location[0] + \", Latitude: \" + location[1] + \", Score: \" + str(position_score_dict[location]))\n",
    "        counter += 1\n",
    "        if(counter == 50):\n",
    "            break"
   ]
  },
  {
   "cell_type": "code",
   "execution_count": 29,
   "id": "11fc2859",
   "metadata": {},
   "outputs": [
    {
     "name": "stdout",
     "output_type": "stream",
     "text": [
      "Longitude: 40.2, Latitude: -74.85, Score: 0.6428571428571428\n",
      "Longitude: 40.2, Latitude: -74.75, Score: 0.4891304347826087\n",
      "Longitude: 40.2, Latitude: -74.8, Score: 0.5441176470588235\n",
      "Longitude: 40.15, Latitude: -74.8, Score: 0.45\n",
      "Longitude: 40.25, Latitude: -74.7, Score: 0.25\n",
      "Longitude: 40.3, Latitude: -74.7, Score: 0.625\n",
      "Longitude: 40.25, Latitude: -74.8, Score: 0.45\n",
      "Longitude: 40.25, Latitude: -74.75, Score: 0.8333333333333333\n",
      "Longitude: 40.1, Latitude: -74.9, Score: 0.6166666666666667\n",
      "Longitude: 40.45, Latitude: -74.3, Score: 0.5083333333333333\n",
      "Longitude: 40.65, Latitude: -74.0, Score: 0.5145538412597424\n",
      "Longitude: 40.8, Latitude: -73.95, Score: 0.5163657617872451\n",
      "Longitude: 40.8, Latitude: -73.9, Score: 0.49919250645994834\n",
      "Longitude: 40.7, Latitude: -74.0, Score: 0.5091370558375634\n",
      "Longitude: 41.9, Latitude: -87.7, Score: 0.5254777070063694\n",
      "Longitude: 41.85, Latitude: -87.75, Score: 0.5049019607843137\n",
      "Longitude: 41.85, Latitude: -87.7, Score: 0.5474308300395256\n",
      "Longitude: 42.05, Latitude: -88.05, Score: 0.5714285714285714\n",
      "Longitude: 41.75, Latitude: -87.9, Score: 0.5\n",
      "Longitude: 38.15, Latitude: -84.9, Score: 0.603225806451613\n",
      "Longitude: 38.15, Latitude: -84.95, Score: 0.5\n",
      "Longitude: 39.1, Latitude: -84.5, Score: 0.5428571428571428\n",
      "Longitude: 40.05, Latitude: -83.0, Score: 0.4708171206225681\n",
      "Longitude: 39.95, Latitude: -83.05, Score: 0.5155038759689923\n",
      "Longitude: 39.8, Latitude: -83.15, Score: 0.0\n",
      "Longitude: 39.5, Latitude: -83.85, Score: 1.0\n",
      "Longitude: 39.35, Latitude: -84.2, Score: 0.25\n",
      "Longitude: 38.5, Latitude: -84.6, Score: 0.0\n",
      "Longitude: 38.35, Latitude: -84.6, Score: 1.0\n",
      "Longitude: 38.15, Latitude: -84.65, Score: 0.5\n",
      "Longitude: 43.8, Latitude: -79.25, Score: 0.5617977528089888\n",
      "Longitude: 43.75, Latitude: -79.35, Score: 0.4875\n",
      "Longitude: 43.75, Latitude: -79.45, Score: 0.5166666666666667\n",
      "Longitude: 43.8, Latitude: -79.35, Score: 0.6875\n",
      "Longitude: 43.75, Latitude: -79.4, Score: 0.5\n",
      "Longitude: 37.5, Latitude: -77.5, Score: 0.48961661341853036\n",
      "Longitude: 37.5, Latitude: -77.45, Score: 0.5289855072463768\n",
      "Longitude: 37.55, Latitude: -77.5, Score: 0.5081081081081081\n",
      "Longitude: 37.45, Latitude: -77.55, Score: 0.5508982035928144\n",
      "Longitude: 37.45, Latitude: -77.6, Score: 0.46296296296296297\n",
      "Longitude: 38.15, Latitude: -79.05, Score: 0.0\n",
      "Longitude: 41.5, Latitude: -95.9, Score: 0.33333333333333337\n",
      "Longitude: 41.55, Latitude: -95.95, Score: 0.875\n",
      "Longitude: 41.5, Latitude: -95.95, Score: 0.6111111111111112\n",
      "Longitude: 41.25, Latitude: -95.8, Score: 0.33333333333333337\n",
      "Longitude: 41.35, Latitude: -95.9, Score: 0.5\n",
      "Longitude: 34.2, Latitude: -118.65, Score: 0.5212765957446809\n",
      "Longitude: 30.35, Latitude: -91.15, Score: 0.5192307692307693\n",
      "Longitude: 30.4, Latitude: -91.1, Score: 0.5251396648044693\n",
      "Longitude: 30.4, Latitude: -91.15, Score: 0.5461538461538462\n",
      "[('20.45', '-87.0'), ('21.799999999999997', '-112.2'), ('24.55', '-81.8'), ('24.55', '-81.85'), ('25.05', '-77.4'), ('25.4', '-101.0'), ('25.4', '-80.5'), ('25.4', '-80.55'), ('25.45', '-80.45'), ('25.45', '-80.5'), ('25.5', '-80.4'), ('25.5', '-80.45'), ('25.55', '-100.3'), ('25.55', '-103.0'), ('25.55', '-80.35'), ('25.55', '-80.4'), ('25.55', '-80.5'), ('25.6', '-100.3'), ('25.6', '-100.35'), ('25.6', '-100.4'), ('25.6', '-80.35'), ('25.6', '-80.4'), ('25.6', '-80.45'), ('25.6', '-80.5'), ('25.65', '-100.25'), ('25.65', '-100.3'), ('25.65', '-100.35'), ('25.65', '-100.4'), ('25.65', '-100.45'), ('25.65', '-80.35'), ('25.65', '-80.4'), ('25.65', '-80.45'), ('25.65', '-80.5'), ('25.7', '-100.35'), ('25.7', '-100.4'), ('25.7', '-70.95'), ('25.7', '-80.25'), ('25.7', '-80.3'), ('25.7', '-80.35'), ('25.7', '-80.4'), ('25.7', '-80.45'), ('25.7', '-80.5'), ('25.75', '-100.3'), ('25.75', '-100.35'), ('25.75', '-100.45'), ('25.75', '-109.0'), ('25.75', '-80.15'), ('25.75', '-80.2'), ('25.75', '-80.25'), ('25.75', '-80.3'), ('25.75', '-80.35'), ('25.75', '-80.4'), ('25.75', '-80.45'), ('25.8', '-100.3'), ('25.8', '-100.35'), ('25.8', '-80.15'), ('25.8', '-80.2'), ('25.8', '-80.25'), ('25.8', '-80.3'), ('25.8', '-80.35'), ('25.8', '-80.4'), ('25.85', '-80.15'), ('25.85', '-80.2'), ('25.85', '-80.25'), ('25.85', '-80.3'), ('25.85', '-80.35'), ('25.85', '-80.4'), ('25.85', '-97.55'), ('25.9', '-80.15'), ('25.9', '-80.2'), ('25.9', '-80.25'), ('25.9', '-80.3'), ('25.9', '-80.35'), ('25.9', '-80.4'), ('25.95', '-80.15'), ('25.95', '-80.2'), ('25.95', '-80.25'), ('25.95', '-80.3'), ('25.95', '-80.35'), ('25.95', '-80.4'), ('25.95', '-98.1'), ('26.0', '-80.15'), ('26.0', '-80.2'), ('26.0', '-80.25'), ('26.0', '-80.3'), ('26.0', '-80.35'), ('26.0', '-80.4'), ('26.0', '-80.45'), ('26.0', '-81.75'), ('26.05', '-80.15'), ('26.05', '-80.2'), ('26.05', '-80.25'), ('26.05', '-80.3'), ('26.05', '-80.35'), ('26.05', '-80.4'), ('26.05', '-80.45'), ('26.1', '-80.15'), ('26.1', '-80.2'), ('26.1', '-80.25'), ('26.1', '-80.3'), ('26.1', '-80.35'), ('26.1', '-80.4'), ('26.1', '-80.45'), ('26.1', '-81.7'), ('26.1', '-81.8'), ('26.1', '-82.35'), ('26.15', '-80.15'), ('26.15', '-80.2'), ('26.15', '-80.25'), ('26.15', '-80.3'), ('26.15', '-80.35'), ('26.2', '-80.15'), ('26.2', '-80.2'), ('26.2', '-80.25'), ('26.2', '-80.3'), ('26.2', '-81.75'), ('26.2', '-98.2'), ('26.2', '-98.25'), ('26.2', '-98.3'), ('26.25', '-80.1'), ('26.25', '-80.15'), ('26.25', '-80.2'), ('26.25', '-80.25'), ('26.25', '-80.3'), ('26.25', '-98.25'), ('26.3', '-80.1'), ('26.3', '-80.15'), ('26.3', '-80.2'), ('26.3', '-80.25'), ('26.3', '-81.45'), ('26.3', '-81.75'), ('26.35', '-80.1'), ('26.35', '-80.15'), ('26.35', '-80.2'), ('26.35', '-80.25'), ('26.4', '-80.1'), ('26.4', '-80.15'), ('26.4', '-80.2'), ('26.45', '-80.1'), ('26.45', '-80.15'), ('26.5', '-80.1'), ('26.5', '-80.15'), ('26.5', '-80.2'), ('26.5', '-82.2'), ('26.55', '-80.05'), ('26.55', '-80.1'), ('26.55', '-80.15'), ('26.55', '-80.2'), ('26.55', '-81.9'), ('26.6', '-80.1'), ('26.6', '-80.15'), ('26.6', '-80.2'), ('26.6', '-80.25'), ('26.6', '-81.8'), ('26.6', '-81.85'), ('26.6', '-81.9'), ('26.6', '-82.05'), ('26.65', '-80.1'), ('26.65', '-80.15'), ('26.65', '-80.2'), ('26.65', '-80.25'), ('26.7', '-80.1'), ('26.7', '-80.15'), ('26.7', '-80.25'), ('26.75', '-80.05'), ('26.75', '-80.1'), ('26.75', '-80.15'), ('26.8', '-80.1'), ('26.8', '-80.15'), ('26.85', '-80.15'), ('26.85', '-82.0'), ('26.9', '-101.45'), ('26.9', '-80.2'), ('26.95', '-82.25'), ('27.05', '-82.45'), ('27.1', '-80.3'), ('27.1', '-80.35'), ('27.1', '-82.45'), ('27.2', '-106.3'), ('27.2', '-80.25'), ('27.2', '-80.3'), ('27.25', '-80.3'), ('27.25', '-80.35'), ('27.25', '-80.4'), ('27.25', '-80.45'), ('27.3', '-80.35'), ('27.3', '-80.45'), ('27.3', '-82.55'), ('27.35', '-80.35'), ('27.35', '-80.4'), ('27.35', '-82.5'), ('27.35', '-82.6'), ('27.4', '-80.35'), ('27.4', '-80.4'), ('27.4', '-82.55'), ('27.45', '-109.95'), ('27.45', '-110.0'), ('27.45', '-82.5'), ('27.45', '-82.55'), ('27.45', '-82.6'), ('27.5', '-109.95'), ('27.5', '-80.65'), ('27.5', '-82.55'), ('27.5', '-99.55'), ('27.55', '-80.75'), ('27.55', '-82.55'), ('27.6', '-82.5'), ('27.65', '-82.45'), ('27.65', '-82.7'), ('27.7', '-80.95'), ('27.7', '-82.75'), ('27.7', '-97.4'), ('27.7', '-97.45'), ('27.75', '-82.35'), ('27.75', '-82.4'), ('27.75', '-82.65'), ('27.75', '-82.75'), ('27.75', '-97.4'), ('27.75', '-97.45'), ('27.8', '-82.65'), ('27.8', '-82.75'), ('27.8', '-82.8'), ('27.8', '-97.4'), ('27.85', '-81.6'), ('27.85', '-82.35'), ('27.85', '-82.4'), ('27.85', '-82.5'), ('27.85', '-82.55'), ('27.85', '-82.7'), ('27.85', '-82.75'), ('27.85', '-82.8'), ('27.85', '-97.15'), ('27.85', '-97.2'), ('27.85', '-97.25'), ('27.9', '-80.7'), ('27.9', '-81.1'), ('27.9', '-81.65'), ('27.9', '-82.05'), ('27.9', '-82.3'), ('27.9', '-82.35'), ('27.9', '-82.5'), ('27.9', '-82.55'), ('27.9', '-82.75'), ('27.9', '-82.8'), ('27.9', '-97.2'), ('27.95', '-80.7'), ('27.95', '-81.1'), ('27.95', '-81.55'), ('27.95', '-81.65'), ('27.95', '-81.95'), ('27.95', '-82.35'), ('27.95', '-82.4'), ('27.95', '-82.5'), ('27.95', '-82.55'), ('27.95', '-82.6'), ('27.95', '-82.75'), ('28.0', '-80.6'), ('28.0', '-80.65'), ('28.0', '-80.7'), ('28.0', '-81.7'), ('28.0', '-81.75'), ('28.0', '-82.0'), ('28.0', '-82.1'), ('28.0', '-82.2'), ('28.0', '-82.4'), ('28.0', '-82.45'), ('28.0', '-82.55'), ('28.0', '-82.6'), ('28.0', '-82.8'), ('28.05', '-80.6'), ('28.05', '-80.65'), ('28.05', '-80.7'), ('28.05', '-81.65'), ('28.05', '-81.8'), ('28.05', '-81.85'), ('28.05', '-81.95'), ('28.05', '-82.0'), ('28.05', '-82.4'), ('28.05', '-82.45'), ('28.05', '-82.5'), ('28.05', '-82.6'), ('28.1', '-80.65'), ('28.1', '-80.7'), ('28.1', '-80.75'), ('28.1', '-81.65'), ('28.1', '-81.9'), ('28.1', '-81.95'), ('28.1', '-82.35'), ('28.1', '-82.4'), ('28.1', '-82.45'), ('28.1', '-82.5'), ('28.1', '-82.6'), ('28.15', '-80.65'), ('28.15', '-80.7'), ('28.15', '-81.8'), ('28.15', '-82.35'), ('28.15', '-82.4'), ('28.15', '-82.45'), ('28.2', '-81.3'), ('28.2', '-81.45'), ('28.2', '-81.5'), ('28.2', '-82.4'), ('28.2', '-82.5'), ('28.2', '-97.9'), ('28.25', '-80.75'), ('28.25', '-81.35'), ('28.25', '-81.4'), ('28.25', '-81.5'), ('28.25', '-82.35'), ('28.25', '-98.0'), ('28.3', '-80.75'), ('28.3', '-80.8'), ('28.3', '-81.4'), ('28.3', '-81.45'), ('28.3', '-81.5'), ('28.3', '-81.55'), ('28.3', '-81.6'), ('28.3', '-98.05'), ('28.35', '-80.75'), ('28.35', '-81.45'), ('28.35', '-81.5'), ('28.35', '-81.55'), ('28.35', '-81.6'), ('28.4', '-81.35'), ('28.4', '-81.4'), ('28.4', '-81.45'), ('28.4', '-81.5'), ('28.4', '-81.55'), ('28.45', '-81.3'), ('28.45', '-81.35'), ('28.45', '-81.4'), ('28.45', '-81.45'), ('28.45', '-81.5'), ('28.45', '-81.55'), ('28.45', '-81.6'), ('28.45', '-81.65'), ('28.45', '-81.75'), ('28.45', '-82.5'), ('28.45', '-82.55'), ('28.5', '-81.1'), ('28.5', '-81.2'), ('28.5', '-81.25'), ('28.5', '-81.3'), ('28.5', '-81.35'), ('28.5', '-81.4'), ('28.5', '-81.45'), ('28.5', '-81.5'), ('28.5', '-81.55'), ('28.5', '-81.6'), ('28.5', '-81.65'), ('28.5', '-81.75'), ('28.5', '-81.8'), ('28.55', '-80.9'), ('28.55', '-81.05'), ('28.55', '-81.2'), ('28.55', '-81.25'), ('28.55', '-81.3'), ('28.55', '-81.35'), ('28.55', '-81.4'), ('28.55', '-81.45'), ('28.55', '-81.5'), ('28.55', '-81.55'), ('28.55', '-81.7'), ('28.55', '-81.75'), ('28.6', '-106.1'), ('28.6', '-81.2'), ('28.6', '-81.25'), ('28.6', '-81.3'), ('28.6', '-81.35'), ('28.6', '-81.4'), ('28.6', '-81.45'), ('28.6', '-81.5'), ('28.6', '-81.55'), ('28.6', '-81.8'), ('28.6', '-96.65'), ('28.65', '-106.1'), ('28.65', '-106.15'), ('28.65', '-81.25'), ('28.65', '-81.35'), ('28.65', '-81.4'), ('28.65', '-81.45'), ('28.65', '-81.85'), ('28.7', '-81.35'), ('28.7', '-81.4'), ('28.7', '-81.9'), ('28.7', '-82.15'), ('28.75', '-81.3'), ('28.75', '-81.4'), ('28.75', '-82.0'), ('28.75', '-82.1'), ('28.8', '-81.3'), ('28.8', '-81.35'), ('28.8', '-81.75'), ('28.8', '-82.05'), ('28.85', '-81.35'), ('28.9', '-81.25'), ('28.9', '-81.3'), ('28.95', '-81.35'), ('28.95', '-98.55'), ('29.0', '-81.25'), ('29.0', '-81.3'), ('29.0', '-81.35'), ('29.0', '-82.2'), ('29.05', '-110.95'), ('29.05', '-111.0'), ('29.05', '-111.05'), ('29.05', '-80.95'), ('29.1', '-111.0'), ('29.1', '-111.05'), ('29.1', '-81.05'), ('29.1', '-82.05'), ('29.1', '-82.1'), ('29.1', '-89.2'), ('29.15', '-81.0'), ('29.15', '-81.05'), ('29.15', '-81.1'), ('29.15', '-82.2'), ('29.15', '-95.0'), ('29.2', '-81.05'), ('29.2', '-81.1'), ('29.25', '-81.05'), ('29.25', '-81.1'), ('29.25', '-81.15'), ('29.25', '-82.2'), ('29.25', '-94.85'), ('29.25', '-94.9'), ('29.35', '-81.15'), ('29.35', '-94.95'), ('29.35', '-95.0'), ('29.35', '-95.05'), ('29.35', '-98.55'), ('29.35', '-98.65'), ('29.4', '-81.75'), ('29.4', '-82.3'), ('29.4', '-94.95'), ('29.4', '-95.05'), ('29.4', '-95.1'), ('29.4', '-98.45'), ('29.4', '-98.5'), ('29.4', '-98.55'), ('29.4', '-98.65'), ('29.4', '-98.7'), ('29.45', '-81.15'), ('29.45', '-95.15'), ('29.45', '-95.45'), ('29.45', '-98.25'), ('29.45', '-98.35'), ('29.45', '-98.4'), ('29.45', '-98.45'), ('29.45', '-98.55'), ('29.45', '-98.65'), ('29.45', '-98.7'), ('29.45', '-98.75'), ('29.5', '-95.05'), ('29.5', '-95.15'), ('29.5', '-95.2'), ('29.5', '-95.25'), ('29.5', '-95.4'), ('29.5', '-95.45'), ('29.5', '-95.5'), ('29.5', '-95.55'), ('29.5', '-95.75'), ('29.5', '-98.35'), ('29.5', '-98.4'), ('29.5', '-98.45'), ('29.5', '-98.5'), ('29.5', '-98.55'), ('29.5', '-98.6'), ('29.5', '-98.65'), ('29.5', '-98.7'), ('29.55', '-82.4'), ('29.55', '-90.75'), ('29.55', '-95.15'), ('29.55', '-95.2'), ('29.55', '-95.25'), ('29.55', '-95.3'), ('29.55', '-95.35'), ('29.55', '-95.4'), ('29.55', '-95.45'), ('29.55', '-95.5'), ('29.55', '-95.55'), ('29.55', '-95.6'), ('29.55', '-95.65'), ('29.55', '-95.8'), ('29.55', '-98.25'), ('29.55', '-98.3'), ('29.55', '-98.35'), ('29.55', '-98.4'), ('29.55', '-98.45'), ('29.55', '-98.5'), ('29.55', '-98.55'), ('29.55', '-98.6'), ('29.55', '-98.65'), ('29.6', '-82.35'), ('29.6', '-82.4'), ('29.6', '-82.45'), ('29.6', '-95.2'), ('29.6', '-95.25'), ('29.6', '-95.3'), ('29.6', '-95.35'), ('29.6', '-95.4'), ('29.6', '-95.45'), ('29.6', '-95.5'), ('29.6', '-95.55'), ('29.6', '-95.6'), ('29.6', '-95.65'), ('29.6', '-95.7'), ('29.6', '-95.75'), ('29.6', '-98.25'), ('29.6', '-98.4'), ('29.6', '-98.45'), ('29.6', '-98.5'), ('29.6', '-98.55'), ('29.65', '-81.35'), ('29.65', '-82.3'), ('29.65', '-82.35'), ('29.65', '-82.4'), ('29.65', '-82.45'), ('29.65', '-91.15'), ('29.65', '-95.25'), ('29.65', '-95.3'), ('29.65', '-95.35'), ('29.65', '-95.4'), ('29.65', '-95.45'), ('29.65', '-95.5'), ('29.65', '-95.55'), ('29.65', '-95.6'), ('29.65', '-95.65'), ('29.65', '-95.7'), ('29.65', '-95.75'), ('29.65', '-95.8'), ('29.65', '-98.2'), ('29.65', '-98.45'), ('29.7', '-82.05'), ('29.7', '-82.4'), ('29.7', '-82.5'), ('29.7', '-95.3'), ('29.7', '-95.35'), ('29.7', '-95.4'), ('29.7', '-95.45'), ('29.7', '-95.5'), ('29.7', '-95.55'), ('29.7', '-95.6'), ('29.7', '-95.65'), ('29.7', '-95.7'), ('29.75', '-95.05'), ('29.75', '-95.1'), ('29.75', '-95.15'), ('29.75', '-95.25'), ('29.75', '-95.3'), ('29.75', '-95.35'), ('29.75', '-95.4'), ('29.75', '-95.45'), ('29.75', '-95.5'), ('29.75', '-95.55'), ('29.75', '-95.6'), ('29.75', '-95.65'), ('29.75', '-95.7'), ('29.75', '-95.75'), ('29.75', '-95.8'), ('29.75', '-95.85'), ('29.75', '-95.9'), ('29.75', '-95.95'), ('29.75', '-96.05'), ('29.8', '-81.4'), ('29.8', '-90.05'), ('29.8', '-90.1'), ('29.8', '-90.15'), ('29.8', '-91.6'), ('29.8', '-94.4'), ('29.8', '-94.45'), ('29.8', '-94.85'), ('29.8', '-94.95'), ('29.8', '-95.2'), ('29.8', '-95.3'), ('29.8', '-95.35'), ('29.8', '-95.4'), ('29.8', '-95.45'), ('29.8', '-95.5'), ('29.8', '-95.55'), ('29.8', '-95.6'), ('29.8', '-95.65'), ('29.8', '-95.7'), ('29.8', '-95.75'), ('29.8', '-95.8'), ('29.8', '-95.85'), ('29.8', '-98.0'), ('29.85', '-90.05'), ('29.85', '-90.1'), ('29.85', '-90.15'), ('29.85', '-93.95'), ('29.85', '-95.1'), ('29.85', '-95.3'), ('29.85', '-95.35'), ('29.85', '-95.4'), ('29.85', '-95.45'), ('29.85', '-95.5'), ('29.85', '-95.55'), ('29.85', '-95.6'), ('29.85', '-95.65'), ('29.85', '-95.7'), ('29.85', '-95.75'), ('29.85', '-95.8'), ('29.85', '-97.95'), ('29.85', '-98.0'), ('29.9', '-90.0'), ('29.9', '-90.05'), ('29.9', '-90.1'), ('29.9', '-90.15'), ('29.9', '-90.2'), ('29.9', '-90.25'), ('29.9', '-90.3'), ('29.9', '-90.35'), ('29.9', '-90.4'), ('29.9', '-90.7'), ('29.9', '-93.95'), ('29.9', '-94.0'), ('29.9', '-94.3'), ('29.9', '-95.3'), ('29.9', '-95.4'), ('29.9', '-95.45'), ('29.9', '-95.5'), ('29.9', '-95.55'), ('29.9', '-95.6'), ('29.9', '-95.65'), ('29.9', '-95.7'), ('29.9', '-95.75'), ('29.9', '-96.05'), ('29.9', '-97.95'), ('29.95', '-90.05'), ('29.95', '-90.1'), ('29.95', '-90.15'), ('29.95', '-90.2'), ('29.95', '-90.25'), ('29.95', '-90.3'), ('29.95', '-90.35'), ('29.95', '-92.15'), ('29.95', '-94.0'), ('29.95', '-95.15'), ('29.95', '-95.2'), ('29.95', '-95.3'), ('29.95', '-95.35'), ('29.95', '-95.4'), ('29.95', '-95.45'), ('29.95', '-95.5'), ('29.95', '-95.55'), ('29.95', '-95.6'), ('29.95', '-95.65'), ('29.95', '-95.7'), ('29.95', '-95.75'), ('29.95', '-95.8'), ('30.0', '-90.0'), ('30.0', '-90.05'), ('30.0', '-90.1'), ('30.0', '-90.15'), ('30.0', '-90.2'), ('30.0', '-90.25'), ('30.0', '-91.85'), ('30.0', '-94.1'), ('30.0', '-94.15'), ('30.0', '-94.2'), ('30.0', '-94.45'), ('30.0', '-95.05'), ('30.0', '-95.2'), ('30.0', '-95.25'), ('30.0', '-95.3'), ('30.0', '-95.35'), ('30.0', '-95.4'), ('30.0', '-95.45'), ('30.0', '-95.5'), ('30.0', '-95.8'), ('30.0', '-95.85'), ('30.0', '-95.9'), ('30.05', '-82.65'), ('30.05', '-89.95'), ('30.05', '-94.1'), ('30.05', '-94.15'), ('30.05', '-94.2'), ('30.05', '-95.45'), ('30.05', '-95.5'), ('30.05', '-95.55'), ('30.05', '-95.9'), ('30.05', '-95.95'), ('30.05', '-96.0'), ('30.05', '-96.05'), ('30.05', '-96.1'), ('30.05', '-96.2'), ('30.05', '-97.85'), ('30.1', '-90.55'), ('30.1', '-94.1'), ('30.1', '-94.15'), ('30.1', '-94.2'), ('30.1', '-95.45'), ('30.1', '-95.5'), ('30.1', '-96.0'), ('30.1', '-96.05'), ('30.1', '-96.1'), ('30.15', '-81.55'), ('30.15', '-81.6'), ('30.15', '-81.65'), ('30.15', '-81.7'), ('30.15', '-81.75'), ('30.15', '-81.85'), ('30.15', '-82.7'), ('30.15', '-85.65'), ('30.15', '-85.7'), ('30.15', '-85.75'), ('30.15', '-85.8'), ('30.15', '-85.85'), ('30.15', '-90.85'), ('30.15', '-92.0'), ('30.15', '-92.1'), ('30.15', '-95.5'), ('30.15', '-95.55'), ('30.15', '-97.8'), ('30.15', '-97.85'), ('30.2', '-81.55'), ('30.2', '-81.6'), ('30.2', '-81.65'), ('30.2', '-81.75'), ('30.2', '-81.8'), ('30.2', '-81.85'), ('30.2', '-82.25'), ('30.2', '-82.75'), ('30.2', '-85.65'), ('30.2', '-85.9'), ('30.2', '-85.95'), ('30.2', '-89.8'), ('30.2', '-92.05'), ('30.2', '-92.95'), ('30.2', '-93.25'), ('30.2', '-93.35'), ('30.2', '-95.4'), ('30.2', '-95.45'), ('30.2', '-95.5'), ('30.2', '-95.6'), ('30.2', '-95.65'), ('30.2', '-97.7'), ('30.2', '-97.75'), ('30.2', '-97.8'), ('30.2', '-97.85'), ('30.2', '-97.9'), ('30.25', '-81.5'), ('30.25', '-81.55'), ('30.25', '-81.6'), ('30.25', '-81.65'), ('30.25', '-81.75'), ('30.25', '-81.8'), ('30.25', '-81.95'), ('30.25', '-82.55'), ('30.25', '-82.8'), ('30.25', '-82.9'), ('30.25', '-87.65'), ('30.25', '-87.7'), ('30.25', '-89.7'), ('30.25', '-89.75'), ('30.25', '-89.8'), ('30.25', '-91.0'), ('30.25', '-92.05'), ('30.25', '-95.5'), ('30.25', '-97.7'), ('30.25', '-97.75'), ('30.25', '-97.8'), ('30.25', '-97.85'), ('30.3', '-81.55'), ('30.3', '-81.6'), ('30.3', '-81.65'), ('30.3', '-81.7'), ('30.3', '-81.75'), ('30.3', '-81.8'), ('30.3', '-83.0'), ('30.3', '-83.05'), ('30.3', '-83.1'), ('30.3', '-87.7'), ('30.3', '-88.05'), ('30.3', '-89.25'), ('30.3', '-89.85'), ('30.3', '-90.0'), ('30.3', '-90.95'), ('30.3', '-92.05'), ('30.3', '-95.85'), ('30.3', '-97.7'), ('30.3', '-97.8'), ('30.35', '-81.5'), ('30.35', '-81.6'), ('30.35', '-81.7'), ('30.35', '-82.85'), ('30.35', '-83.25'), ('30.35', '-83.3'), ('30.35', '-83.35'), ('30.35', '-84.3'), ('30.35', '-84.35'), ('30.35', '-86.65'), ('30.35', '-87.4'), ('30.35', '-87.7'), ('30.35', '-88.8'), ('30.35', '-88.9'), ('30.35', '-88.95'), ('30.35', '-89.8'), ('30.35', '-91.05'), ('30.35', '-91.1'), ('30.35', '-91.15'), ('30.35', '-91.2'), ('30.35', '-96.1'), ('30.35', '-97.7'), ('30.35', '-97.75'), ('30.35', '-97.8'), ('30.4', '-81.6'), ('30.4', '-81.65'), ('30.4', '-83.55'), ('30.4', '-83.65'), ('30.4', '-84.25'), ('30.4', '-84.3'), ('30.4', '-84.35'), ('30.4', '-84.4'), ('30.4', '-87.25'), ('30.4', '-87.35'), ('30.4', '-88.9'), ('30.4', '-88.95'), ('30.4', '-89.0'), ('30.4', '-91.0'), ('30.4', '-91.05'), ('30.4', '-91.1'), ('30.4', '-91.15'), ('30.4', '-91.2'), ('30.4', '-96.1'), ('30.4', '-96.15'), ('30.4', '-97.6'), ('30.4', '-97.7'), ('30.4', '-97.75'), ('30.4', '-97.8'), ('30.45', '-81.65'), ('30.45', '-81.7'), ('30.45', '-84.25'), ('30.45', '-84.3'), ('30.45', '-84.35'), ('30.45', '-84.4'), ('30.45', '-87.2'), ('30.45', '-87.3'), ('30.45', '-87.35'), ('30.45', '-88.9'), ('30.45', '-88.95'), ('30.45', '-89.0'), ('30.45', '-90.35'), ('30.45', '-90.5'), ('30.45', '-91.05'), ('30.45', '-91.1'), ('30.45', '-91.15'), ('30.45', '-91.2'), ('30.45', '-96.15'), ('30.45', '-97.7'), ('30.45', '-97.75'), ('30.45', '-97.8'), ('30.5', '-103.45'), ('30.5', '-81.8'), ('30.5', '-84.25'), ('30.5', '-84.35'), ('30.5', '-84.5'), ('30.5', '-84.55'), ('30.5', '-87.25'), ('30.5', '-87.35'), ('30.5', '-88.25'), ('30.5', '-90.45'), ('30.5', '-90.5'), ('30.5', '-90.55'), ('30.5', '-91.15'), ('30.5', '-91.2'), ('30.5', '-91.25'), ('30.5', '-91.45'), ('30.5', '-96.25'), ('30.5', '-96.65'), ('30.5', '-97.7'), ('30.5', '-97.85'), ('30.55', '-84.25'), ('30.55', '-84.4'), ('30.55', '-87.15'), ('30.55', '-87.9'), ('30.55', '-91.25'), ('30.55', '-91.55'), ('30.55', '-96.3'), ('30.55', '-96.35'), ('30.55', '-96.4'), ('30.55', '-97.7'), ('30.6', '-102.65'), ('30.6', '-81.45'), ('30.6', '-81.5'), ('30.6', '-81.6'), ('30.6', '-81.7'), ('30.6', '-84.4'), ('30.6', '-84.45'), ('30.6', '-87.1'), ('30.6', '-87.15'), ('30.6', '-95.55'), ('30.6', '-96.3'), ('30.6', '-96.35'), ('30.6', '-96.4'), ('30.65', '-102.95'), ('30.65', '-81.45'), ('30.65', '-81.5'), ('30.65', '-81.7'), ('30.65', '-81.95'), ('30.65', '-87.85'), ('30.65', '-87.95'), ('30.65', '-88.05'), ('30.65', '-88.1'), ('30.65', '-88.15'), ('30.65', '-88.2'), ('30.65', '-95.55'), ('30.65', '-96.35'), ('30.65', '-96.4'), ('30.7', '-81.7'), ('30.7', '-81.95'), ('30.7', '-88.1'), ('30.7', '-88.2'), ('30.7', '-95.55'), ('30.7', '-95.6'), ('30.75', '-81.7'), ('30.75', '-96.75'), ('30.8', '-81.7'), ('30.8', '-83.3'), ('30.8', '-83.35'), ('30.8', '-83.95'), ('30.8', '-84.0'), ('30.8', '-88.15'), ('30.85', '-102.85'), ('30.85', '-102.9'), ('30.85', '-83.3'), ('30.85', '-83.35'), ('30.9', '-102.9'), ('30.9', '-81.7'), ('30.95', '-81.7'), ('30.95', '-83.2'), ('30.95', '-83.25'), ('30.95', '-92.35'), ('31.0', '-104.95'), ('31.05', '-105.0'), ('31.05', '-116.25'), ('31.05', '-85.45'), ('31.05', '-93.3'), ('31.05', '-97.5'), ('31.05', '-97.55'), ('31.05', '-97.65'), ('31.05', '-97.7'), ('31.05', '-97.75'), ('31.05', '-97.8'), ('31.1', '-88.3'), ('31.1', '-93.3'), ('31.1', '-97.45'), ('31.1', '-97.7'), ('31.1', '-97.75'), ('31.1', '-97.8'), ('31.1', '-97.95'), ('31.15', '-83.8'), ('31.15', '-85.45'), ('31.2', '-85.25'), ('31.2', '-85.4'), ('31.2', '-85.45'), ('31.2', '-89.3'), ('31.2', '-90.45'), ('31.2', '-92.45'), ('31.25', '-81.5'), ('31.25', '-85.3'), ('31.25', '-85.4'), ('31.25', '-85.45'), ('31.25', '-89.3'), ('31.25', '-89.35'), ('31.25', '-89.45'), ('31.25', '-89.7'), ('31.25', '-89.85'), ('31.25', '-90.5'), ('31.3', '-85.55'), ('31.3', '-85.85'), ('31.3', '-89.3'), ('31.3', '-89.35'), ('31.3', '-89.4'), ('31.3', '-89.45'), ('31.3', '-92.5'), ('31.3', '-92.55'), ('31.35', '-81.5'), ('31.35', '-84.95'), ('31.35', '-89.35'), ('31.35', '-89.4'), ('31.4', '-100.45'), ('31.4', '-100.5'), ('31.4', '-83.55'), ('31.4', '-88.5'), ('31.4', '-89.35'), ('31.45', '-81.45'), ('31.45', '-83.55'), ('31.45', '-89.45'), ('31.45', '-90.9'), ('31.45', '-90.95'), ('31.45', '-91.0'), ('31.5', '-110.3'), ('31.5', '-84.15'), ('31.5', '-84.2'), ('31.5', '-84.25'), ('31.5', '-89.5'), ('31.5', '-97.1'), ('31.5', '-97.15'), ('31.55', '-110.3'), ('31.55', '-110.35'), ('31.55', '-84.1'), ('31.55', '-84.15'), ('31.55', '-84.2'), ('31.55', '-84.25'), ('31.55', '-89.25'), ('31.55', '-89.55'), ('31.55', '-93.5'), ('31.55', '-97.15'), ('31.6', '-110.35'), ('31.6', '-84.2'), ('31.6', '-84.25'), ('31.6', '-94.65'), ('31.6', '-94.7'), ('31.6', '-97.1'), ('31.65', '-106.35'), ('31.65', '-110.35'), ('31.65', '-83.65'), ('31.65', '-88.65'), ('31.65', '-89.55'), ('31.65', '-89.6'), ('31.65', '-93.1'), ('31.65', '-93.15'), ('31.65', '-93.3'), ('31.7', '-106.4'), ('31.7', '-85.85'), ('31.7', '-88.7'), ('31.7', '-89.15'), ('31.7', '-89.2'), ('31.7', '-93.1'), ('31.7', '-93.15'), ('31.7', '-93.2'), ('31.75', '-106.35'), ('31.75', '-106.4'), ('31.75', '-106.5'), ('31.75', '-106.55'), ('31.75', '-85.9'), ('31.75', '-85.95'), ('31.75', '-86.0'), ('31.75', '-89.2'), ('31.75', '-89.7'), ('31.75', '-93.1'), ('31.75', '-93.15'), ('31.8', '-106.45'), ('31.8', '-106.55'), ('31.8', '-106.6'), ('31.85', '-102.3'), ('31.85', '-106.55'), ('31.85', '-106.65'), ('31.85', '-81.6'), ('31.85', '-83.75'), ('31.9', '-102.25'), ('31.9', '-102.3'), ('31.9', '-102.45'), ('31.9', '-81.35'), ('31.9', '-83.75'), ('31.9', '-88.6'), ('31.95', '-102.15'), ('31.95', '-102.2'), ('31.95', '-81.1'), ('31.95', '-81.15'), ('31.95', '-81.2'), ('31.95', '-83.75'), ('31.95', '-83.8'), ('31.95', '-83.95'), ('32.0', '-102.15'), ('32.0', '-102.2'), ('32.0', '-81.0'), ('32.0', '-81.05'), ('32.0', '-81.1'), ('32.0', '-81.15'), ('32.0', '-81.2'), ('32.0', '-81.3'), ('32.0', '-83.8'), ('32.0', '-97.1'), ('32.05', '-110.8'), ('32.05', '-81.05'), ('32.05', '-81.1'), ('32.05', '-81.15'), ('32.05', '-81.2'), ('32.05', '-81.25'), ('32.05', '-81.3'), ('32.05', '-83.75'), ('32.05', '-83.8'), ('32.05', '-84.2'), ('32.05', '-84.25'), ('32.05', '-84.3'), ('32.05', '-96.45'), ('32.05', '-96.5'), ('32.05', '-96.55'), ('32.05', '-97.1'), ('32.1', '-102.5'), ('32.1', '-110.9'), ('32.1', '-111.0'), ('32.1', '-111.05'), ('32.1', '-111.1'), ('32.1', '-81.45'), ('32.1', '-83.8'), ('32.15', '-110.85'), ('32.15', '-110.9'), ('32.15', '-110.95'), ('32.15', '-111.0'), ('32.15', '-111.05'), ('32.15', '-81.45'), ('32.15', '-83.2'), ('32.15', '-96.5'), ('32.2', '-110.8'), ('32.2', '-110.85'), ('32.2', '-110.9'), ('32.2', '-110.95'), ('32.2', '-111.0'), ('32.2', '-111.05'), ('32.2', '-111.15'), ('32.2', '-81.65'), ('32.2', '-86.4'), ('32.2', '-90.1'), ('32.2', '-90.2'), ('32.2', '-96.55'), ('32.25', '-101.45'), ('32.25', '-101.5'), ('32.25', '-106.75'), ('32.25', '-106.8'), ('32.25', '-110.95'), ('32.25', '-111.0'), ('32.25', '-111.05'), ('32.25', '-64.8'), ('32.25', '-64.85'), ('32.25', '-81.75'), ('32.25', '-83.8'), ('32.25', '-84.05'), ('32.25', '-86.2'), ('32.25', '-86.7'), ('32.25', '-87.1'), ('32.25', '-90.05'), ('32.25', '-90.1'), ('32.25', '-90.15'), ('32.25', '-90.2'), ('32.25', '-90.25'), ('32.25', '-90.3'), ('32.25', '-95.35'), ('32.3', '-102.7'), ('32.3', '-106.75'), ('32.3', '-106.8'), ('32.3', '-111.0'), ('32.3', '-64.75'), ('32.3', '-64.8'), ('32.3', '-64.85'), ('32.3', '-81.75'), ('32.3', '-86.25'), ('32.3', '-86.3'), ('32.3', '-86.35'), ('32.3', '-88.9'), ('32.3', '-89.75'), ('32.3', '-90.05'), ('32.3', '-90.2'), ('32.3', '-90.25'), ('32.3', '-90.3'), ('32.3', '-90.35'), ('32.3', '-93.3'), ('32.3', '-96.65'), ('32.3', '-96.7'), ('32.35', '-106.75'), ('32.35', '-106.85'), ('32.35', '-111.05'), ('32.35', '-64.75'), ('32.35', '-81.7'), ('32.35', '-81.75'), ('32.35', '-81.8'), ('32.35', '-81.85'), ('32.35', '-82.05'), ('32.35', '-83.35'), ('32.35', '-83.4'), ('32.35', '-86.0'), ('32.35', '-86.1'), ('32.35', '-86.15'), ('32.35', '-86.2'), ('32.35', '-86.25'), ('32.35', '-86.3'), ('32.35', '-86.35'), ('32.35', '-88.6'), ('32.35', '-90.0'), ('32.35', '-90.05'), ('32.35', '-90.15'), ('32.35', '-90.2'), ('32.35', '-90.25'), ('32.35', '-96.65'), ('32.4', '-103.2'), ('32.4', '-106.85'), ('32.4', '-80.8'), ('32.4', '-81.75'), ('32.4', '-81.8'), ('32.4', '-81.85'), ('32.4', '-85.0'), ('32.4', '-85.05'), ('32.4', '-85.7'), ('32.4', '-85.75'), ('32.4', '-85.8'), ('32.4', '-86.35'), ('32.4', '-86.4'), ('32.4', '-87.05'), ('32.4', '-88.5'), ('32.4', '-90.1'), ('32.4', '-90.15'), ('32.4', '-90.2'), ('32.4', '-93.7'), ('32.4', '-93.8'), ('32.4', '-96.85'), ('32.45', '-81.8'), ('32.45', '-83.7'), ('32.45', '-83.75'), ('32.45', '-84.9'), ('32.45', '-84.95'), ('32.45', '-85.0'), ('32.45', '-85.05'), ('32.45', '-85.7'), ('32.45', '-86.55'), ('32.45', '-87.55'), ('32.45', '-90.15'), ('32.45', '-92.7'), ('32.45', '-93.7'), ('32.45', '-93.75'), ('32.45', '-93.8'), ('32.45', '-94.75'), ('32.45', '-94.8'), ('32.45', '-96.7'), ('32.45', '-96.85'), ('32.45', '-99.75'), ('32.5', '-117.0'), ('32.5', '-117.05'), ('32.5', '-83.6'), ('32.5', '-83.75'), ('32.5', '-83.9'), ('32.5', '-83.95'), ('32.5', '-84.95'), ('32.5', '-85.0'), ('32.5', '-90.05'), ('32.5', '-90.1'), ('32.5', '-90.2'), ('32.5', '-90.35'), ('32.5', '-92.2'), ('32.5', '-92.3'), ('32.5', '-92.5'), ('32.5', '-92.65'), ('32.5', '-92.7'), ('32.5', '-92.75'), ('32.5', '-93.7'), ('32.5', '-93.75'), ('32.5', '-94.75'), ('32.5', '-94.8'), ('32.5', '-96.8'), ('32.5', '-96.85'), ('32.5', '-96.9'), ('32.5', '-97.35'), ('32.55', '-111.35'), ('32.55', '-115.45'), ('32.55', '-115.5'), ('32.55', '-117.1'), ('32.55', '-80.95'), ('32.55', '-83.4'), ('32.55', '-83.7'), ('32.55', '-83.75'), ('32.55', '-83.9'), ('32.55', '-83.95'), ('32.55', '-85.5'), ('32.55', '-86.5'), ('32.55', '-89.95'), ('32.55', '-90.05'), ('32.55', '-90.1'), ('32.55', '-96.8'), ('32.55', '-96.85'), ('32.55', '-96.9'), ('32.55', '-96.95'), ('32.55', '-97.35'), ('32.6', '-115.45'), ('32.6', '-115.5'), ('32.6', '-117.0'), ('32.6', '-117.05'), ('32.6', '-117.1'), ('32.6', '-80.95'), ('32.6', '-81.85'), ('32.6', '-83.7'), ('32.6', '-83.75'), ('32.6', '-83.8'), ('32.6', '-85.0'), ('32.6', '-85.4'), ('32.6', '-85.45'), ('32.6', '-85.5'), ('32.6', '-86.5'), ('32.6', '-89.9'), ('32.6', '-89.95'), ('32.6', '-90.0'), ('32.6', '-90.05'), ('32.6', '-90.1'), ('32.6', '-90.4'), ('32.6', '-90.45'), ('32.6', '-96.75'), ('32.6', '-96.8'), ('32.6', '-96.85'), ('32.6', '-96.9'), ('32.6', '-96.95'), ('32.6', '-97.1'), ('32.6', '-97.15'), ('32.6', '-97.4'), ('32.65', '-111.45'), ('32.65', '-114.5'), ('32.65', '-114.55'), ('32.65', '-114.65'), ('32.65', '-114.7'), ('32.65', '-115.5'), ('32.65', '-117.0'), ('32.65', '-117.05'), ('32.65', '-117.1'), ('32.65', '-117.15'), ('32.65', '-117.2'), ('32.65', '-86.55'), ('32.65', '-89.8'), ('32.65', '-89.85'), ('32.65', '-90.05'), ('32.65', '-96.75'), ('32.65', '-96.8'), ('32.65', '-96.85'), ('32.65', '-96.9'), ('32.65', '-96.95'), ('32.65', '-97.05'), ('32.65', '-97.1'), ('32.65', '-97.15'), ('32.65', '-97.2'), ('32.65', '-97.35'), ('32.65', '-97.5'), ('32.7', '-103.15'), ('32.7', '-111.6'), ('32.7', '-114.65'), ('32.7', '-114.7'), ('32.7', '-115.15'), ('32.7', '-117.0'), ('32.7', '-117.05'), ('32.7', '-117.1'), ('32.7', '-117.15'), ('32.7', '-117.2'), ('32.7', '-80.1'), ('32.7', '-80.15'), ('32.7', '-82.75'), ('32.7', '-86.55'), ('32.7', '-89.9'), ('32.7', '-89.95'), ('32.7', '-96.6'), ('32.7', '-96.65'), ('32.7', '-96.7'), ('32.7', '-96.75'), ('32.7', '-96.8'), ('32.7', '-96.85'), ('32.7', '-96.9'), ('32.7', '-97.05'), ('32.7', '-97.1'), ('32.7', '-97.15'), ('32.7', '-97.2'), ('32.7', '-97.3'), ('32.7', '-97.35'), ('32.7', '-97.4'), ('32.75', '-101.65'), ('32.75', '-111.65'), ('32.75', '-116.95'), ('32.75', '-117.0'), ('32.75', '-117.05'), ('32.75', '-117.1'), ('32.75', '-117.15'), ('32.75', '-117.2'), ('32.75', '-117.25'), ('32.75', '-117.3'), ('32.75', '-79.85'), ('32.75', '-79.9'), ('32.75', '-79.95'), ('32.75', '-80.0'), ('32.75', '-80.05'), ('32.75', '-80.1'), ('32.75', '-80.15'), ('32.75', '-83.7'), ('32.75', '-83.75'), ('32.75', '-85.05'), ('32.75', '-88.05'), ('32.75', '-90.4'), ('32.75', '-96.6'), ('32.75', '-96.65'), ('32.75', '-96.7'), ('32.75', '-96.75'), ('32.75', '-96.8'), ('32.75', '-96.85'), ('32.75', '-96.9'), ('32.75', '-97.1'), ('32.75', '-97.15'), ('32.75', '-97.2'), ('32.75', '-97.35'), ('32.75', '-97.4'), ('32.75', '-97.45'), ('32.8', '-111.7'), ('32.8', '-116.9'), ('32.8', '-116.95'), ('32.8', '-117.0'), ('32.8', '-117.05'), ('32.8', '-117.15'), ('32.8', '-117.2'), ('32.8', '-117.25'), ('32.8', '-79.85'), ('32.8', '-79.9'), ('32.8', '-79.95'), ('32.8', '-80.0'), ('32.8', '-80.05'), ('32.8', '-80.1'), ('32.8', '-83.65'), ('32.8', '-83.7'), ('32.8', '-83.75'), ('32.8', '-85.2'), ('32.8', '-86.6'), ('32.8', '-86.65'), ('32.8', '-88.0'), ('32.8', '-96.65'), ('32.8', '-96.7'), ('32.8', '-96.75'), ('32.8', '-96.8'), ('32.8', '-96.85'), ('32.8', '-96.9'), ('32.8', '-96.95'), ('32.8', '-97.05'), ('32.8', '-97.1'), ('32.8', '-97.15'), ('32.8', '-97.25'), ('32.8', '-97.35'), ('32.8', '-97.4'), ('32.8', '-97.45'), ('32.85', '-111.75'), ('32.85', '-116.95'), ('32.85', '-117.1'), ('32.85', '-117.15'), ('32.85', '-117.2'), ('32.85', '-117.25'), ('32.85', '-79.8'), ('32.85', '-79.95'), ('32.85', '-80.0'), ('32.85', '-80.05'), ('32.85', '-80.1'), ('32.85', '-80.75'), ('32.85', '-83.7'), ('32.85', '-91.25'), ('32.85', '-91.45'), ('32.85', '-96.25'), ('32.85', '-96.7'), ('32.85', '-96.75'), ('32.85', '-96.8'), ('32.85', '-96.85'), ('32.85', '-96.9'), ('32.85', '-97.0'), ('32.85', '-97.05'), ('32.85', '-97.2'), ('32.85', '-97.35'), ('32.85', '-97.45'), ('32.9', '-116.9'), ('32.9', '-117.15'), ('32.9', '-117.2'), ('32.9', '-117.25'), ('32.9', '-79.75'), ('32.9', '-79.8'), ('32.9', '-80.05'), ('32.9', '-80.1'), ('32.9', '-80.15'), ('32.9', '-80.2'), ('32.9', '-81.25'), ('32.9', '-82.4'), ('32.9', '-83.75'), ('32.9', '-84.35'), ('32.9', '-84.7'), ('32.9', '-85.95'), ('32.9', '-91.25'), ('32.9', '-96.25'), ('32.9', '-96.4'), ('32.9', '-96.7'), ('32.9', '-96.75'), ('32.9', '-96.8'), ('32.9', '-96.85'), ('32.9', '-96.95'), ('32.9', '-97.0'), ('32.9', '-97.05'), ('32.9', '-97.1'), ('32.9', '-97.2'), ('32.95', '-117.05'), ('32.95', '-117.1'), ('32.95', '-117.2'), ('32.95', '-117.25'), ('32.95', '-117.3'), ('32.95', '-80.05'), ('32.95', '-80.1'), ('32.95', '-80.15'), ('32.95', '-80.2'), ('32.95', '-84.2'), ('32.95', '-85.05'), ('32.95', '-86.05'), ('32.95', '-87.15'), ('32.95', '-91.25'), ('32.95', '-94.45'), ('32.95', '-96.25'), ('32.95', '-96.3'), ('32.95', '-96.35'), ('32.95', '-96.75'), ('32.95', '-96.8'), ('32.95', '-96.85'), ('32.95', '-96.9'), ('32.95', '-97.0'), ('32.95', '-97.2'), ('33.0', '-117.1'), ('33.0', '-117.3'), ('33.0', '-80.05'), ('33.0', '-80.2'), ('33.0', '-83.95'), ('33.0', '-84.25'), ('33.0', '-85.05'), ('33.0', '-85.1'), ('33.0', '-85.15'), ('33.0', '-86.1'), ('33.0', '-86.15'), ('33.0', '-87.35'), ('33.0', '-94.05'), ('33.0', '-94.35'), ('33.0', '-96.6'), ('33.0', '-96.8'), ('33.0', '-96.85'), ('33.0', '-97.0'), ('33.0', '-97.05'), ('33.0', '-97.1'), ('33.0', '-97.2'), ('33.0', '-97.25'), ('33.05', '-117.1'), ('33.05', '-117.2'), ('33.05', '-117.3'), ('33.05', '-80.2'), ('33.05', '-80.3'), ('33.05', '-82.0'), ('33.05', '-82.05'), ('33.05', '-82.25'), ('33.05', '-83.2'), ('33.05', '-83.25'), ('33.05', '-83.3'), ('33.05', '-84.2'), ('33.05', '-85.05'), ('33.05', '-86.15'), ('33.05', '-90.05'), ('33.05', '-94.15'), ('33.05', '-96.7'), ('33.05', '-96.85'), ('33.1', '-101.85'), ('33.1', '-117.05'), ('33.1', '-117.1'), ('33.1', '-117.15'), ('33.1', '-117.2'), ('33.1', '-117.25'), ('33.1', '-117.35'), ('33.1', '-82.05'), ('33.1', '-83.25'), ('33.1', '-83.3'), ('33.1', '-87.55'), ('33.1', '-90.1'), ('33.1', '-94.2'), ('33.1', '-96.7'), ('33.1', '-96.75'), ('33.15', '-111.6'), ('33.15', '-117.15'), ('33.15', '-117.2'), ('33.15', '-117.25'), ('33.15', '-117.3'), ('33.15', '-117.35'), ('33.15', '-84.25'), ('33.15', '-84.35'), ('33.15', '-84.9'), ('33.15', '-86.3'), ('33.15', '-87.3'), ('33.15', '-87.5'), ('33.15', '-87.55'), ('33.15', '-87.6'), ('33.15', '-90.5'), ('33.15', '-94.2'), ('33.15', '-95.0'), ('33.15', '-97.1'), ('33.15', '-97.15'), ('33.2', '-117.25'), ('33.2', '-84.1'), ('33.2', '-84.3'), ('33.2', '-84.35'), ('33.2', '-87.45'), ('33.2', '-87.55'), ('33.2', '-87.6'), ('33.2', '-94.75'), ('33.2', '-97.1'), ('33.2', '-97.15'), ('33.2', '-97.2'), ('33.25', '-111.65'), ('33.25', '-111.7'), ('33.25', '-111.8'), ('33.25', '-111.9'), ('33.25', '-112.0'), ('33.25', '-80.4'), ('33.25', '-84.1'), ('33.25', '-84.65'), ('33.25', '-86.85'), ('33.25', '-94.2'), ('33.25', '-97.15'), ('33.3', '-111.7'), ('33.3', '-111.75'), ('33.3', '-111.8'), ('33.3', '-111.85'), ('33.3', '-111.9'), ('33.3', '-111.95'), ('33.3', '-112.0'), ('33.3', '-112.65'), ('33.3', '-117.35'), ('33.3', '-82.05'), ('33.3', '-82.1'), ('33.3', '-86.95'), ('33.3', '-87.0'), ('33.3', '-93.4'), ('33.3', '-94.75'), ('33.35', '-110.75'), ('33.35', '-110.8'), ('33.35', '-111.7'), ('33.35', '-111.75'), ('33.35', '-111.85'), ('33.35', '-111.9'), ('33.35', '-111.95'), ('33.35', '-112.0'), ('33.35', '-112.05'), ('33.35', '-112.1'), ('33.35', '-112.15'), ('33.35', '-117.25'), ('33.35', '-117.3'), ('33.35', '-79.3'), ('33.35', '-80.7'), ('33.35', '-82.05'), ('33.35', '-82.1'), ('33.35', '-82.15'), ('33.35', '-84.15'), ('33.35', '-84.3'), ('33.35', '-84.35'), ('33.35', '-84.4'), ('33.35', '-84.45'), ('33.35', '-84.65'), ('33.35', '-84.75'), ('33.35', '-84.8'), ('33.35', '-84.85'), ('33.35', '-86.7'), ('33.35', '-86.8'), ('33.35', '-86.85'), ('33.35', '-86.9'), ('33.35', '-91.05'), ('33.35', '-93.75'), ('33.35', '-94.15'), ('33.4', '-111.7'), ('33.4', '-111.8'), ('33.4', '-111.85'), ('33.4', '-111.9'), ('33.4', '-111.95'), ('33.4', '-112.0'), ('33.4', '-112.05'), ('33.4', '-112.1'), ('33.4', '-112.15'), ('33.4', '-112.2'), ('33.4', '-112.25'), ('33.4', '-112.3'), ('33.4', '-70.65'), ('33.4', '-79.3'), ('33.4', '-82.0'), ('33.4', '-82.05'), ('33.4', '-82.1'), ('33.4', '-82.15'), ('33.4', '-82.2'), ('33.4', '-82.5'), ('33.4', '-84.2'), ('33.4', '-84.35'), ('33.4', '-84.4'), ('33.4', '-84.5'), ('33.4', '-84.6'), ('33.4', '-84.7'), ('33.4', '-84.75'), ('33.4', '-84.8'), ('33.4', '-86.75'), ('33.4', '-86.8'), ('33.4', '-86.85'), ('33.4', '-86.9'), ('33.4', '-88.85'), ('33.4', '-88.9'), ('33.4', '-90.65'), ('33.4', '-91.05'), ('33.4', '-94.05'), ('33.4', '-94.1'), ('33.45', '-111.85'), ('33.45', '-111.95'), ('33.45', '-112.0'), ('33.45', '-112.05'), ('33.45', '-112.1'), ('33.45', '-112.15'), ('33.45', '-112.2'), ('33.45', '-112.25'), ('33.45', '-112.3'), ('33.45', '-112.35'), ('33.45', '-112.4'), ('33.45', '-112.45'), ('33.45', '-117.1'), ('33.45', '-117.15'), ('33.45', '-117.7'), ('33.45', '-80.55'), ('33.45', '-80.85'), ('33.45', '-80.9'), ('33.45', '-81.95'), ('33.45', '-82.0'), ('33.45', '-82.05'), ('33.45', '-82.1'), ('33.45', '-82.15'), ('33.45', '-82.25'), ('33.45', '-82.5'), ('33.45', '-82.55'), ('33.45', '-84.2'), ('33.45', '-84.25'), ('33.45', '-84.3'), ('33.45', '-84.35'), ('33.45', '-84.4'), ('33.45', '-84.45'), ('33.45', '-86.3'), ('33.45', '-86.75'), ('33.45', '-86.8'), ('33.45', '-86.85'), ('33.45', '-86.9'), ('33.45', '-86.95'), ('33.45', '-87.0'), ('33.45', '-87.05'), ('33.45', '-88.8'), ('33.45', '-88.85'), ('33.45', '-88.9'), ('33.45', '-90.4'), ('33.45', '-90.65'), ('33.45', '-94.0'), ('33.45', '-94.05'), ('33.45', '-94.1'), ('33.45', '-94.35'), ('33.45', '-94.4'), ('33.45', '-94.45'), ('33.5', '-101.85'), ('33.5', '-101.9'), ('33.5', '-101.95'), ('33.5', '-111.95'), ('33.5', '-112.0'), ('33.5', '-112.05'), ('33.5', '-112.1'), ('33.5', '-112.15'), ('33.5', '-112.2'), ('33.5', '-112.25'), ('33.5', '-112.3'), ('33.5', '-112.35'), ('33.5', '-113.2'), ('33.5', '-117.15'), ('33.5', '-117.2'), ('33.5', '-117.8'), ('33.5', '-80.85'), ('33.5', '-80.9'), ('33.5', '-81.3'), ('33.5', '-81.7'), ('33.5', '-81.75'), ('33.5', '-81.8'), ('33.5', '-81.85'), ('33.5', '-81.9'), ('33.5', '-82.0'), ('33.5', '-82.1'), ('33.5', '-82.15'), ('33.5', '-82.2'), ('33.5', '-82.45'), ('33.5', '-82.5'), ('33.5', '-82.55'), ('33.5', '-84.2'), ('33.5', '-84.25'), ('33.5', '-84.3'), ('33.5', '-84.35'), ('33.5', '-84.4'), ('33.5', '-84.45'), ('33.5', '-84.5'), ('33.5', '-84.55'), ('33.5', '-84.6'), ('33.5', '-84.65'), ('33.5', '-85.1'), ('33.5', '-86.3'), ('33.5', '-86.7'), ('33.5', '-86.8'), ('33.5', '-86.85'), ('33.5', '-86.9'), ('33.5', '-86.95'), ('33.5', '-87.0'), ('33.5', '-95.4'), ('33.55', '-101.85'), ('33.55', '-101.9'), ('33.55', '-101.95'), ('33.55', '-111.9'), ('33.55', '-111.95'), ('33.55', '-112.05'), ('33.55', '-112.1'), ('33.55', '-112.15'), ('33.55', '-112.2'), ('33.55', '-112.25'), ('33.55', '-112.3'), ('33.55', '-117.2'), ('33.55', '-117.25'), ('33.55', '-117.85'), ('33.55', '-80.4'), ('33.55', '-80.85'), ('33.55', '-81.0'), ('33.55', '-81.7'), ('33.55', '-81.75'), ('33.55', '-81.8'), ('33.55', '-81.9'), ('33.55', '-83.9'), ('33.55', '-83.95'), ('33.55', '-84.0'), ('33.55', '-84.05'), ('33.55', '-84.2'), ('33.55', '-84.25'), ('33.55', '-84.3'), ('33.55', '-84.35'), ('33.55', '-84.4'), ('33.55', '-84.45'), ('33.55', '-84.5'), ('33.55', '-84.55'), ('33.55', '-84.6'), ('33.55', '-85.05'), ('33.55', '-85.1'), ('33.55', '-85.15'), ('33.55', '-85.9'), ('33.55', '-86.15'), ('33.55', '-86.4'), ('33.55', '-86.5'), ('33.55', '-86.7'), ('33.55', '-86.8'), ('33.55', '-86.85'), ('33.55', '-86.95'), ('33.55', '-87.0'), ('33.55', '-93.9'), ('33.6', '-101.85'), ('33.6', '-101.9'), ('33.6', '-101.95'), ('33.6', '-111.65'), ('33.6', '-111.75'), ('33.6', '-111.9'), ('33.6', '-111.95'), ('33.6', '-112.05'), ('33.6', '-112.1'), ('33.6', '-112.15'), ('33.6', '-112.2'), ('33.6', '-112.25'), ('33.6', '-112.4'), ('33.6', '-117.15'), ('33.6', '-117.2'), ('33.6', '-117.3'), ('33.6', '-117.65'), ('33.6', '-117.7'), ('33.6', '-117.95'), ('33.6', '-80.9'), ('33.6', '-81.9'), ('33.6', '-83.95'), ('33.6', '-84.0'), ('33.6', '-84.05'), ('33.6', '-84.1'), ('33.6', '-84.15'), ('33.6', '-84.2'), ('33.6', '-84.25'), ('33.6', '-84.3'), ('33.6', '-84.35'), ('33.6', '-84.4'), ('33.6', '-84.45'), ('33.6', '-84.5'), ('33.6', '-84.55'), ('33.6', '-84.6'), ('33.6', '-84.65'), ('33.6', '-84.85'), ('33.6', '-85.0'), ('33.6', '-85.05'), ('33.6', '-85.1'), ('33.6', '-85.8'), ('33.6', '-86.1'), ('33.6', '-86.15'), ('33.6', '-86.25'), ('33.6', '-86.65'), ('33.6', '-86.7'), ('33.6', '-86.75'), ('33.6', '-90.75'), ('33.65', '-111.9'), ('33.65', '-111.95'), ('33.65', '-112.0'), ('33.65', '-112.05'), ('33.65', '-112.1'), ('33.65', '-112.15'), ('33.65', '-112.2'), ('33.65', '-112.25'), ('33.65', '-112.4'), ('33.65', '-116.2'), ('33.65', '-116.3'), ('33.65', '-117.15'), ('33.65', '-117.2'), ('33.65', '-117.25'), ('33.65', '-117.3'), ('33.65', '-117.35'), ('33.65', '-117.85'), ('33.65', '-117.9'), ('33.65', '-117.95'), ('33.65', '-118.05'), ('33.65', '-78.95'), ('33.65', '-79.8'), ('33.65', '-79.9'), ('33.65', '-80.25'), ('33.65', '-80.9'), ('33.65', '-81.2'), ('33.65', '-81.7'), ('33.65', '-84.05'), ('33.65', '-84.1'), ('33.65', '-84.15'), ('33.65', '-84.2'), ('33.65', '-84.25'), ('33.65', '-84.3'), ('33.65', '-84.35'), ('33.65', '-84.4'), ('33.65', '-84.45'), ('33.65', '-84.5'), ('33.65', '-84.55'), ('33.65', '-84.6'), ('33.65', '-84.65'), ('33.65', '-84.75'), ('33.65', '-84.8'), ('33.65', '-84.85'), ('33.65', '-84.95'), ('33.65', '-85.15'), ('33.65', '-86.55'), ('33.7', '-111.9'), ('33.7', '-111.95'), ('33.7', '-112.0'), ('33.7', '-112.15'), ('33.7', '-116.25'), ('33.7', '-116.3'), ('33.7', '-116.4'), ('33.7', '-116.45'), ('33.7', '-117.0'), ('33.7', '-117.2'), ('33.7', '-117.35'), ('33.7', '-117.4'), ('33.7', '-117.8'), ('33.7', '-117.85'), ('33.7', '-117.9'), ('33.7', '-117.95'), ('33.7', '-118.0'), ('33.7', '-118.05'), ('33.7', '-118.1'), ('33.7', '-118.3'), ('33.7', '-118.35'), ('33.7', '-78.95'), ('33.7', '-79.85'), ('33.7', '-80.95'), ('33.7', '-81.6'), ('33.7', '-83.9'), ('33.7', '-83.95'), ('33.7', '-84.0'), ('33.7', '-84.05'), ('33.7', '-84.1'), ('33.7', '-84.15'), ('33.7', '-84.2'), ('33.7', '-84.25'), ('33.7', '-84.3'), ('33.7', '-84.35'), ('33.7', '-84.4'), ('33.7', '-84.45'), ('33.7', '-84.5'), ('33.7', '-84.55'), ('33.7', '-84.6'), ('33.7', '-84.7'), ('33.7', '-84.75'), ('33.7', '-84.8'), ('33.7', '-84.85'), ('33.7', '-84.9'), ('33.7', '-84.95'), ('33.7', '-85.0'), ('33.7', '-90.7'), ('33.7', '-97.2'), ('33.75', '-116.4'), ('33.75', '-117.0'), ('33.75', '-117.2'), ('33.75', '-117.25'), ('33.75', '-117.5'), ('33.75', '-117.55'), ('33.75', '-117.8'), ('33.75', '-117.85'), ('33.75', '-117.9'), ('33.75', '-117.95'), ('33.75', '-118.0'), ('33.75', '-118.05'), ('33.75', '-118.1'), ('33.75', '-118.15'), ('33.75', '-118.2'), ('33.75', '-118.25'), ('33.75', '-118.3'), ('33.75', '-118.35'), ('33.75', '-79.0'), ('33.75', '-79.05'), ('33.75', '-81.5'), ('33.75', '-81.55'), ('33.75', '-83.75'), ('33.75', '-84.0'), ('33.75', '-84.05'), ('33.75', '-84.1'), ('33.75', '-84.15'), ('33.75', '-84.2'), ('33.75', '-84.25'), ('33.75', '-84.3'), ('33.75', '-84.35'), ('33.75', '-84.4'), ('33.75', '-84.45'), ('33.75', '-84.5'), ('33.75', '-84.55'), ('33.75', '-84.6'), ('33.75', '-84.65'), ('33.75', '-84.7'), ('33.75', '-84.75'), ('33.75', '-84.8'), ('33.75', '-84.85'), ('33.75', '-90.75'), ('33.8', '-112.15'), ('33.8', '-116.45'), ('33.8', '-116.5'), ('33.8', '-116.55'), ('33.8', '-117.0'), ('33.8', '-117.05'), ('33.8', '-117.25'), ('33.8', '-117.3'), ('33.8', '-117.4'), ('33.8', '-117.6'), ('33.8', '-117.85'), ('33.8', '-117.9'), ('33.8', '-117.95'), ('33.8', '-118.0'), ('33.8', '-118.05'), ('33.8', '-118.1'), ('33.8', '-118.15'), ('33.8', '-118.2'), ('33.8', '-118.25'), ('33.8', '-118.3'), ('33.8', '-118.35'), ('33.8', '-118.4'), ('33.8', '-79.05'), ('33.8', '-83.95'), ('33.8', '-84.0'), ('33.8', '-84.05'), ('33.8', '-84.1'), ('33.8', '-84.15'), ('33.8', '-84.2'), ('33.8', '-84.25'), ('33.8', '-84.3'), ('33.8', '-84.35'), ('33.8', '-84.4'), ('33.8', '-84.45'), ('33.8', '-84.5'), ('33.8', '-84.55'), ('33.8', '-84.65'), ('33.8', '-84.7'), ('33.8', '-84.75'), ('33.8', '-84.8'), ('33.8', '-84.9'), ('33.8', '-85.8'), ('33.85', '-112.15'), ('33.85', '-117.25'), ('33.85', '-117.3'), ('33.85', '-117.35'), ('33.85', '-117.4'), ('33.85', '-117.45'), ('33.85', '-117.5'), ('33.85', '-117.55'), ('33.85', '-117.6'), ('33.85', '-117.65'), ('33.85', '-117.7'), ('33.85', '-117.75'), ('33.85', '-117.8'), ('33.85', '-117.85'), ('33.85', '-117.9'), ('33.85', '-117.95'), ('33.85', '-118.0'), ('33.85', '-118.05'), ('33.85', '-118.1'), ('33.85', '-118.15'), ('33.85', '-118.2'), ('33.85', '-118.25'), ('33.85', '-118.3'), ('33.85', '-118.35'), ('33.85', '-118.4'), ('33.85', '-118.45'), ('33.85', '-79.1'), ('33.85', '-80.35'), ('33.85', '-81.05'), ('33.85', '-84.0'), ('33.85', '-84.05'), ('33.85', '-84.1'), ('33.85', '-84.15'), ('33.85', '-84.2'), ('33.85', '-84.25'), ('33.85', '-84.3'), ('33.85', '-84.35'), ('33.85', '-84.4'), ('33.85', '-84.45'), ('33.85', '-84.5'), ('33.85', '-84.55'), ('33.85', '-84.6'), ('33.85', '-84.65'), ('33.85', '-84.7'), ('33.85', '-84.75'), ('33.85', '-98.5'), ('33.85', '-98.55'), ('33.85', '-98.65'), ('33.9', '-116.6'), ('33.9', '-116.7'), ('33.9', '-116.95'), ('33.9', '-117.0'), ('33.9', '-117.15'), ('33.9', '-117.2'), ('33.9', '-117.25'), ('33.9', '-117.3'), ('33.9', '-117.35'), ('33.9', '-117.4'), ('33.9', '-117.45'), ('33.9', '-117.5'), ('33.9', '-117.6'), ('33.9', '-117.7'), ('33.9', '-117.9'), ('33.9', '-117.95'), ('33.9', '-118.0'), ('33.9', '-118.05'), ('33.9', '-118.1'), ('33.9', '-118.15'), ('33.9', '-118.2'), ('33.9', '-118.25'), ('33.9', '-118.3'), ('33.9', '-118.35'), ('33.9', '-118.4'), ('33.9', '-118.45'), ('33.9', '-78.25'), ('33.9', '-78.95'), ('33.9', '-79.0'), ('33.9', '-80.35'), ('33.9', '-80.4'), ('33.9', '-80.85'), ('33.9', '-80.9'), ('33.9', '-80.95'), ('33.9', '-81.0'), ('33.9', '-81.05'), ('33.9', '-81.1'), ('33.9', '-81.15'), ('33.9', '-83.4'), ('33.9', '-83.45'), ('33.9', '-83.5'), ('33.9', '-83.95'), ('33.9', '-84.0'), ('33.9', '-84.05'), ('33.9', '-84.1'), ('33.9', '-84.15'), ('33.9', '-84.2'), ('33.9', '-84.25'), ('33.9', '-84.3'), ('33.9', '-84.35'), ('33.9', '-84.4'), ('33.9', '-84.45'), ('33.9', '-84.5'), ('33.9', '-84.55'), ('33.9', '-84.6'), ('33.9', '-84.65'), ('33.9', '-84.7'), ('33.9', '-87.6'), ('33.9', '-98.55'), ('33.95', '-116.5'), ('33.95', '-116.6'), ('33.95', '-117.05'), ('33.95', '-117.25'), ('33.95', '-117.3'), ('33.95', '-117.35'), ('33.95', '-117.4'), ('33.95', '-117.55'), ('33.95', '-117.6'), ('33.95', '-117.75'), ('33.95', '-117.8'), ('33.95', '-117.85'), ('33.95', '-117.9'), ('33.95', '-117.95'), ('33.95', '-118.0'), ('33.95', '-118.05'), ('33.95', '-118.1'), ('33.95', '-118.15'), ('33.95', '-118.2'), ('33.95', '-118.25'), ('33.95', '-118.3'), ('33.95', '-118.35'), ('33.95', '-118.4'), ('33.95', '-118.45'), ('33.95', '-118.5'), ('33.95', '-79.95'), ('33.95', '-80.4'), ('33.95', '-80.5'), ('33.95', '-80.55'), ('33.95', '-80.85'), ('33.95', '-80.9'), ('33.95', '-80.95'), ('33.95', '-81.0'), ('33.95', '-81.05'), ('33.95', '-81.1'), ('33.95', '-81.15'), ('33.95', '-83.4'), ('33.95', '-83.45'), ('33.95', '-83.9'), ('33.95', '-83.95'), ('33.95', '-84.0'), ('33.95', '-84.05'), ('33.95', '-84.1'), ('33.95', '-84.15'), ('33.95', '-84.2'), ('33.95', '-84.25'), ('33.95', '-84.3'), ('33.95', '-84.35'), ('33.95', '-84.4'), ('33.95', '-84.45'), ('33.95', '-84.5'), ('33.95', '-84.55'), ('33.95', '-84.6'), ('33.95', '-84.65'), ('33.95', '-84.7'), ('33.95', '-84.75'), ('33.95', '-84.9'), ('33.95', '-87.8'), ('33.95', '-98.75'), ('33.95', '-98.8'), ('34.0', '-111.95'), ('34.0', '-117.2'), ('34.0', '-117.3'), ('34.0', '-117.35'), ('34.0', '-117.45'), ('34.0', '-117.5'), ('34.0', '-117.55'), ('34.0', '-117.6'), ('34.0', '-117.65'), ('34.0', '-117.7'), ('34.0', '-117.75'), ('34.0', '-117.8'), ('34.0', '-117.85'), ('34.0', '-117.9'), ('34.0', '-117.95'), ('34.0', '-118.0'), ('34.0', '-118.05'), ('34.0', '-118.1'), ('34.0', '-118.15'), ('34.0', '-118.2'), ('34.0', '-118.25'), ('34.0', '-118.3'), ('34.0', '-118.35'), ('34.0', '-118.4'), ('34.0', '-118.45'), ('34.0', '-118.5'), ('34.0', '-118.7'), ('34.0', '-118.75'), ('34.0', '-80.95'), ('34.0', '-81.0'), ('34.0', '-81.05'), ('34.0', '-81.1'), ('34.0', '-81.15'), ('34.0', '-81.2'), ('34.0', '-81.25'), ('34.0', '-81.75'), ('34.0', '-81.8'), ('34.0', '-81.85'), ('34.0', '-83.9'), ('34.0', '-83.95'), ('34.0', '-84.0'), ('34.0', '-84.05'), ('34.0', '-84.1'), ('34.0', '-84.15'), ('34.0', '-84.2'), ('34.0', '-84.25'), ('34.0', '-84.3'), ('34.0', '-84.35'), ('34.0', '-84.4'), ('34.0', '-84.45'), ('34.0', '-84.5'), ('34.0', '-84.55'), ('34.0', '-84.6'), ('34.0', '-84.65'), ('34.0', '-84.7'), ('34.0', '-84.75'), ('34.0', '-98.95'), ('34.05', '-117.2'), ('34.05', '-117.25'), ('34.05', '-117.3'), ('34.05', '-117.35'), ('34.05', '-117.4'), ('34.05', '-117.45'), ('34.05', '-117.5'), ('34.05', '-117.55'), ('34.05', '-117.6'), ('34.05', '-117.65'), ('34.05', '-117.7'), ('34.05', '-117.75'), ('34.05', '-117.8'), ('34.05', '-117.85'), ('34.05', '-117.9'), ('34.05', '-117.95'), ('34.05', '-118.0'), ('34.05', '-118.05'), ('34.05', '-118.1'), ('34.05', '-118.15'), ('34.05', '-118.2'), ('34.05', '-118.25'), ('34.05', '-118.3'), ('34.05', '-118.35'), ('34.05', '-118.4'), ('34.05', '-118.45'), ('34.05', '-118.5'), ('34.05', '-79.3'), ('34.05', '-80.9'), ('34.05', '-80.95'), ('34.05', '-81.0'), ('34.05', '-81.05'), ('34.05', '-81.1'), ('34.05', '-81.15'), ('34.05', '-81.2'), ('34.05', '-81.25'), ('34.05', '-82.85'), ('34.05', '-83.9'), ('34.05', '-84.0'), ('34.05', '-84.05'), ('34.05', '-84.1'), ('34.05', '-84.15'), ('34.05', '-84.2'), ('34.05', '-84.25'), ('34.05', '-84.3'), ('34.05', '-84.35'), ('34.05', '-84.5'), ('34.05', '-84.6'), ('34.05', '-84.65'), ('34.05', '-84.7'), ('34.05', '-84.75'), ('34.05', '-84.8'), ('34.05', '-86.9'), ('34.1', '-116.1'), ('34.1', '-117.25'), ('34.1', '-117.3'), ('34.1', '-117.35'), ('34.1', '-117.4'), ('34.1', '-117.45'), ('34.1', '-117.5'), ('34.1', '-117.55'), ('34.1', '-117.6'), ('34.1', '-117.65'), ('34.1', '-117.7'), ('34.1', '-117.75'), ('34.1', '-117.8'), ('34.1', '-117.85'), ('34.1', '-117.9'), ('34.1', '-117.95'), ('34.1', '-118.0'), ('34.1', '-118.05'), ('34.1', '-118.1'), ('34.1', '-118.15'), ('34.1', '-118.2'), ('34.1', '-118.25'), ('34.1', '-118.3'), ('34.1', '-118.35'), ('34.1', '-118.4'), ('34.1', '-118.45'), ('34.1', '-118.5'), ('34.1', '-118.7'), ('34.1', '-118.8'), ('34.1', '-79.7'), ('34.1', '-79.8'), ('34.1', '-80.8'), ('34.1', '-80.85'), ('34.1', '-80.9'), ('34.1', '-80.95'), ('34.1', '-81.0'), ('34.1', '-81.05'), ('34.1', '-81.9'), ('34.1', '-82.9'), ('34.1', '-83.65'), ('34.1', '-83.75'), ('34.1', '-83.8'), ('34.1', '-83.9'), ('34.1', '-84.05'), ('34.1', '-84.15'), ('34.1', '-84.25'), ('34.1', '-84.35'), ('34.1', '-84.6'), ('34.1', '-84.9'), ('34.15', '-116.05'), ('34.15', '-116.15'), ('34.15', '-117.3'), ('34.15', '-117.35'), ('34.15', '-117.4'), ('34.15', '-117.45'), ('34.15', '-117.5'), ('34.15', '-117.55'), ('34.15', '-117.95'), ('34.15', '-118.05'), ('34.15', '-118.1'), ('34.15', '-118.15'), ('34.15', '-118.2'), ('34.15', '-118.3'), ('34.15', '-118.35'), ('34.15', '-118.4'), ('34.15', '-118.45'), ('34.15', '-118.5'), ('34.15', '-118.55'), ('34.15', '-118.6'), ('34.15', '-118.65'), ('34.15', '-118.85'), ('34.15', '-118.95'), ('34.15', '-119.15'), ('34.15', '-119.2'), ('34.15', '-77.9'), ('34.15', '-77.95'), ('34.15', '-79.65'), ('34.15', '-79.7'), ('34.15', '-79.75'), ('34.15', '-79.8'), ('34.15', '-79.85'), ('34.15', '-80.25'), ('34.15', '-80.3'), ('34.15', '-80.7'), ('34.15', '-80.75'), ('34.15', '-80.9'), ('34.15', '-80.95'), ('34.15', '-81.0'), ('34.15', '-82.9'), ('34.15', '-83.25'), ('34.15', '-83.9'), ('34.15', '-83.95'), ('34.15', '-84.0'), ('34.15', '-84.5'), ('34.15', '-84.55'), ('34.15', '-84.8'), ('34.15', '-99.3'), ('34.15', '-99.35'), ('34.2', '-116.1'), ('34.2', '-117.45'), ('34.2', '-118.2'), ('34.2', '-118.25'), ('34.2', '-118.35'), ('34.2', '-118.4'), ('34.2', '-118.45'), ('34.2', '-118.5'), ('34.2', '-118.55'), ('34.2', '-118.6'), ('34.2', '-118.65'), ('34.2', '-118.7'), ('34.2', '-119.05'), ('34.2', '-119.1'), ('34.2', '-119.2'), ('34.2', '-119.25'), ('34.2', '-77.9'), ('34.2', '-77.95'), ('34.2', '-79.75'), ('34.2', '-79.8'), ('34.2', '-79.85'), ('34.2', '-80.0'), ('34.2', '-80.4'), ('34.2', '-80.6'), ('34.2', '-80.65'), ('34.2', '-80.7'), ('34.2', '-81.0'), ('34.2', '-83.2'), ('34.2', '-83.5'), ('34.2', '-83.55'), ('34.2', '-83.85'), ('34.2', '-84.8'), ('34.2', '-84.85'), ('34.2', '-84.95'), ('34.2', '-85.1'), ('34.2', '-85.15'), ('34.2', '-85.2'), ('34.2', '-86.9'), ('34.2', '-92.0'), ('34.2', '-92.05'), ('34.25', '-117.5'), ('34.25', '-118.4'), ('34.25', '-118.45'), ('34.25', '-118.5'), ('34.25', '-118.55'), ('34.25', '-118.6'), ('34.25', '-118.65'), ('34.25', '-118.7'), ('34.25', '-118.8'), ('34.25', '-118.9'), ('34.25', '-119.15'), ('34.25', '-119.2'), ('34.25', '-119.25'), ('34.25', '-119.3'), ('34.25', '-119.35'), ('34.25', '-77.85'), ('34.25', '-77.95'), ('34.25', '-78.0'), ('34.25', '-79.45'), ('34.25', '-79.75'), ('34.25', '-79.9'), ('34.25', '-80.6'), ('34.25', '-80.65'), ('34.25', '-81.0'), ('34.25', '-83.15'), ('34.25', '-83.45'), ('34.25', '-83.8'), ('34.25', '-83.85'), ('34.25', '-85.05'), ('34.25', '-85.15'), ('34.25', '-85.2'), ('34.3', '-118.45'), ('34.3', '-118.5'), ('34.3', '-118.55'), ('34.3', '-119.15'), ('34.3', '-77.9'), ('34.3', '-77.95'), ('34.3', '-78.65'), ('34.3', '-79.8'), ('34.3', '-79.9'), ('34.3', '-80.55'), ('34.3', '-81.05'), ('34.3', '-83.15'), ('34.3', '-83.3'), ('34.3', '-83.35'), ('34.3', '-83.4'), ('34.3', '-84.9'), ('34.3', '-86.35'), ('34.35', '-112.2'), ('34.35', '-117.35'), ('34.35', '-117.45'), ('34.35', '-118.5'), ('34.35', '-118.55'), ('34.35', '-118.95'), ('34.35', '-119.05'), ('34.35', '-79.4'), ('34.35', '-79.5'), ('34.35', '-81.1'), ('34.35', '-82.85'), ('34.35', '-82.95'), ('34.35', '-83.05'), ('34.35', '-84.35'), ('34.35', '-84.95'), ('34.35', '-85.45'), ('34.35', '-89.6'), ('34.35', '-93.9'), ('34.4', '-117.3'), ('34.4', '-117.4'), ('34.4', '-117.45'), ('34.4', '-118.35'), ('34.4', '-118.4'), ('34.4', '-118.45'), ('34.4', '-118.5'), ('34.4', '-118.55'), ('34.4', '-118.6'), ('34.4', '-118.65'), ('34.4', '-119.25'), ('34.4', '-119.75'), ('34.4', '-119.8'), ('34.4', '-119.85'), ('34.4', '-119.9'), ('34.4', '-119.95'), ('34.4', '-79.4'), ('34.4', '-83.1'), ('34.4', '-83.15'), ('34.4', '-83.2'), ('34.4', '-83.25'), ('34.4', '-83.3'), ('34.4', '-84.95'), ('34.4', '-85.75'), ('34.4', '-86.25'), ('34.4', '-87.05'), ('34.4', '-87.2'), ('34.4', '-90.5'), ('34.45', '-117.3'), ('34.45', '-117.35'), ('34.45', '-117.4'), ('34.45', '-117.45'), ('34.45', '-118.2'), ('34.45', '-118.3'), ('34.45', '-79.9'), ('34.45', '-82.05'), ('34.45', '-83.05'), ('34.45', '-83.1'), ('34.45', '-83.2'), ('34.45', '-84.95'), ('34.45', '-85.35'), ('34.45', '-85.5'), ('34.45', '-85.7'), ('34.45', '-86.35'), ('34.45', '-86.4'), ('34.45', '-87.35'), ('34.5', '-117.3'), ('34.5', '-117.35'), ('34.5', '-117.4'), ('34.5', '-117.45'), ('34.5', '-117.95'), ('34.5', '-118.15'), ('34.5', '-118.65'), ('34.5', '-79.15'), ('34.5', '-81.0'), ('34.5', '-82.5'), ('34.5', '-82.55'), ('34.5', '-82.7'), ('34.5', '-82.85'), ('34.5', '-82.9'), ('34.5', '-83.55'), ('34.5', '-86.25'), ('34.5', '-86.3'), ('34.5', '-86.45'), ('34.5', '-86.6'), ('34.5', '-86.95'), ('34.5', '-90.6'), ('34.5', '-90.65'), ('34.5', '-90.7'), ('34.55', '-112.3'), ('34.55', '-112.35'), ('34.55', '-117.3'), ('34.55', '-118.05'), ('34.55', '-118.1'), ('34.55', '-118.15'), ('34.55', '-118.2'), ('34.55', '-78.5'), ('34.55', '-79.05'), ('34.55', '-81.05'), ('34.55', '-82.55'), ('34.55', '-82.7'), ('34.55', '-82.75'), ('34.55', '-86.45'), ('34.55', '-86.6'), ('34.55', '-86.9'), ('34.55', '-86.95'), ('34.55', '-87.0'), ('34.55', '-87.05'), ('34.55', '-87.1'), ('34.55', '-98.45'), ('34.6', '-112.35'), ('34.6', '-112.45'), ('34.6', '-118.05'), ('34.6', '-118.15'), ('34.6', '-118.2'), ('34.6', '-78.8'), ('34.6', '-79.0'), ('34.6', '-79.05'), ('34.6', '-80.9'), ('34.6', '-81.05'), ('34.6', '-82.15'), ('34.6', '-82.6'), ('34.6', '-82.75'), ('34.6', '-82.8'), ('34.6', '-82.9'), ('34.6', '-86.6'), ('34.6', '-86.85'), ('34.6', '-86.9'), ('34.6', '-86.95'), ('34.6', '-87.05'), ('34.6', '-90.0'), ('34.6', '-90.05'), ('34.6', '-92.35'), ('34.6', '-92.45'), ('34.6', '-92.55'), ('34.6', '-98.45'), ('34.6', '-98.5'), ('34.65', '-118.1'), ('34.65', '-118.15'), ('34.65', '-118.2'), ('34.65', '-118.25'), ('34.65', '-77.35'), ('34.65', '-78.5'), ('34.65', '-79.05'), ('34.65', '-79.2'), ('34.65', '-79.25'), ('34.65', '-80.8'), ('34.65', '-80.85'), ('34.65', '-80.9'), ('34.65', '-82.3'), ('34.65', '-82.4'), ('34.65', '-82.55'), ('34.65', '-82.8'), ('34.65', '-82.85'), ('34.65', '-82.9'), ('34.65', '-86.55'), ('34.65', '-86.6'), ('34.65', '-86.7'), ('34.65', '-86.75'), ('34.65', '-86.8'), ('34.65', '-86.85'), ('34.65', '-92.35'), ('34.65', '-92.4'), ('34.65', '-92.45'), ('34.7', '-118.15'), ('34.7', '-118.2'), ('34.7', '-77.35'), ('34.7', '-77.4'), ('34.7', '-77.5'), ('34.7', '-77.6'), ('34.7', '-80.8'), ('34.7', '-81.05'), ('34.7', '-81.2'), ('34.7', '-81.25'), ('34.7', '-82.3'), ('34.7', '-82.5'), ('34.7', '-82.85'), ('34.7', '-85.05'), ('34.7', '-86.0'), ('34.7', '-86.6'), ('34.7', '-86.65'), ('34.7', '-86.7'), ('34.7', '-86.75'), ('34.7', '-92.25'), ('34.7', '-92.3'), ('34.7', '-92.35'), ('34.7', '-92.4'), ('34.7', '-92.45'), ('34.75', '-118.2'), ('34.75', '-77.4'), ('34.75', '-77.45'), ('34.75', '-77.5'), ('34.75', '-77.55'), ('34.75', '-78.5'), ('34.75', '-78.85'), ('34.75', '-79.45'), ('34.75', '-79.5'), ('34.75', '-81.05'), ('34.75', '-82.3'), ('34.75', '-82.35'), ('34.75', '-82.4'), ('34.75', '-82.45'), ('34.75', '-82.5'), ('34.75', '-84.95'), ('34.75', '-86.5'), ('34.75', '-86.6'), ('34.75', '-86.65'), ('34.75', '-86.7'), ('34.75', '-86.75'), ('34.75', '-86.95'), ('34.75', '-87.0'), ('34.75', '-87.65'), ('34.75', '-88.4'), ('34.75', '-89.45'), ('34.75', '-92.2'), ('34.75', '-92.25'), ('34.75', '-92.3'), ('34.75', '-92.4'), ('34.75', '-92.45'), ('34.75', '-92.5'), ('34.8', '-117.5'), ('34.8', '-77.8'), ('34.8', '-79.0'), ('34.8', '-79.45'), ('34.8', '-79.55'), ('34.8', '-79.7'), ('34.8', '-79.75'), ('34.8', '-80.45'), ('34.8', '-80.8'), ('34.8', '-82.0'), ('34.8', '-82.3'), ('34.8', '-82.35'), ('34.8', '-82.45'), ('34.8', '-86.5'), ('34.8', '-86.6'), ('34.8', '-87.65'), ('34.8', '-88.25'), ('34.8', '-92.2'), ('34.85', '-117.05'), ('34.85', '-117.55'), ('34.85', '-78.05'), ('34.85', '-79.0'), ('34.85', '-79.1'), ('34.85', '-81.0'), ('34.85', '-81.05'), ('34.85', '-82.25'), ('34.85', '-82.35'), ('34.85', '-82.4'), ('34.85', '-82.45'), ('34.85', '-85.85'), ('34.85', '-86.95'), ('34.85', '-92.15'), ('34.85', '-92.2'), ('34.9', '-77.85'), ('34.9', '-77.95'), ('34.9', '-78.9'), ('34.9', '-79.05'), ('34.9', '-79.7'), ('34.9', '-79.8'), ('34.9', '-81.0'), ('34.9', '-81.05'), ('34.9', '-81.1'), ('34.9', '-81.95'), ('34.9', '-82.0'), ('34.9', '-82.05'), ('34.9', '-82.15'), ('34.9', '-82.3'), ('34.9', '-82.35'), ('34.9', '-82.45'), ('34.9', '-85.8'), ('34.9', '-95.75'), ('34.95', '-78.4'), ('34.95', '-78.9'), ('34.95', '-78.95'), ('34.95', '-79.0'), ('34.95', '-79.05'), ('34.95', '-79.15'), ('34.95', '-79.25'), ('34.95', '-80.15'), ('34.95', '-81.1'), ('34.95', '-81.9'), ('34.95', '-81.95'), ('34.95', '-82.0'), ('34.95', '-82.05'), ('34.95', '-82.1'), ('34.95', '-82.25'), ('34.95', '-84.1'), ('34.95', '-85.2'), ('34.95', '-85.25'), ('34.95', '-85.75'), ('34.95', '-86.9'), ('34.95', '-89.7'), ('34.95', '-89.85'), ('34.95', '-89.9'), ('34.95', '-89.95'), ('34.95', '-90.05'), ('34.95', '-90.1'), ('35.0', '-106.35'), ('35.0', '-106.75'), ('35.0', '-119.0'), ('35.0', '-78.8'), ('35.0', '-78.85'), ('35.0', '-78.9'), ('35.0', '-78.95'), ('35.0', '-79.0'), ('35.0', '-79.05'), ('35.0', '-79.3'), ('35.0', '-80.45'), ('35.0', '-80.6'), ('35.0', '-80.9'), ('35.0', '-81.0'), ('35.0', '-81.85'), ('35.0', '-81.9'), ('35.0', '-81.95'), ('35.0', '-82.0'), ('35.0', '-82.05'), ('35.0', '-83.85'), ('35.0', '-85.15'), ('35.0', '-85.2'), ('35.0', '-85.25'), ('35.0', '-85.3'), ('35.0', '-85.35'), ('35.0', '-86.6'), ('35.0', '-89.7'), ('35.0', '-89.8'), ('35.0', '-89.85'), ('35.0', '-89.9'), ('35.0', '-90.0'), ('35.0', '-90.05'), ('35.0', '-90.1'), ('35.0', '-97.95'), ('35.05', '-106.55'), ('35.05', '-106.6'), ('35.05', '-106.65'), ('35.05', '-106.75'), ('35.05', '-109.65'), ('35.05', '-116.45'), ('35.05', '-119.05'), ('35.05', '-77.15'), ('35.05', '-78.8'), ('35.05', '-78.85'), ('35.05', '-78.9'), ('35.05', '-78.95'), ('35.05', '-79.0'), ('35.05', '-79.05'), ('35.05', '-79.8'), ('35.05', '-80.65'), ('35.05', '-80.85'), ('35.05', '-80.9'), ('35.05', '-80.95'), ('35.05', '-81.0'), ('35.05', '-81.7'), ('35.05', '-81.75'), ('35.05', '-81.9'), ('35.05', '-82.0'), ('35.05', '-85.1'), ('35.05', '-85.2'), ('35.05', '-85.25'), ('35.05', '-85.3'), ('35.05', '-85.35'), ('35.05', '-89.25'), ('35.05', '-89.45'), ('35.05', '-89.8'), ('35.05', '-89.85'), ('35.05', '-89.9'), ('35.05', '-89.95'), ('35.05', '-90.0'), ('35.05', '-90.05'), ('35.05', '-90.1'), ('35.05', '-92.45'), ('35.05', '-92.5'), ('35.1', '-106.55'), ('35.1', '-106.6'), ('35.1', '-106.65'), ('35.1', '-106.75'), ('35.1', '-78.9'), ('35.1', '-78.95'), ('35.1', '-79.0'), ('35.1', '-79.05'), ('35.1', '-80.5'), ('35.1', '-80.65'), ('35.1', '-80.7'), ('35.1', '-80.75'), ('35.1', '-80.8'), ('35.1', '-80.85'), ('35.1', '-80.9'), ('35.1', '-80.95'), ('35.1', '-81.0'), ('35.1', '-81.55'), ('35.1', '-81.65'), ('35.1', '-81.75'), ('35.1', '-84.9'), ('35.1', '-85.0'), ('35.1', '-85.15'), ('35.1', '-85.3'), ('35.1', '-85.35'), ('35.1', '-89.8'), ('35.1', '-89.9'), ('35.1', '-89.95'), ('35.1', '-90.0'), ('35.1', '-90.05'), ('35.1', '-90.1'), ('35.1', '-92.45'), ('35.15', '-101.85'), ('35.15', '-101.9'), ('35.15', '-101.95'), ('35.15', '-106.6'), ('35.15', '-106.65'), ('35.15', '-106.7'), ('35.15', '-111.7'), ('35.15', '-119.05'), ('35.15', '-119.15'), ('35.15', '-78.85'), ('35.15', '-78.9'), ('35.15', '-79.0'), ('35.15', '-80.75'), ('35.15', '-80.8'), ('35.15', '-80.85'), ('35.15', '-80.9'), ('35.15', '-80.95'), ('35.15', '-81.0'), ('35.15', '-81.45'), ('35.15', '-81.5'), ('35.15', '-84.9'), ('35.15', '-84.95'), ('35.15', '-86.6'), ('35.15', '-89.8'), ('35.15', '-89.85'), ('35.15', '-89.9'), ('35.15', '-89.95'), ('35.15', '-90.0'), ('35.15', '-90.05'), ('35.15', '-90.1'), ('35.2', '-106.7'), ('35.2', '-78.5'), ('35.2', '-78.65'), ('35.2', '-80.7'), ('35.2', '-80.75'), ('35.2', '-80.8'), ('35.2', '-80.85'), ('35.2', '-80.9'), ('35.2', '-80.95'), ('35.2', '-81.0'), ('35.2', '-81.35'), ('35.2', '-82.75'), ('35.2', '-85.05'), ('35.2', '-89.4'), ('35.2', '-89.8'), ('35.2', '-89.9'), ('35.2', '-89.95'), ('35.2', '-90.0'), ('35.2', '-97.45'), ('35.2', '-97.5'), ('35.2', '-97.55'), ('35.25', '-119.25'), ('35.25', '-78.65'), ('35.25', '-78.95'), ('35.25', '-79.1'), ('35.25', '-80.7'), ('35.25', '-80.75'), ('35.25', '-80.8'), ('35.25', '-80.85'), ('35.25', '-80.9'), ('35.25', '-80.95'), ('35.25', '-81.0'), ('35.25', '-81.05'), ('35.25', '-81.15'), ('35.25', '-81.2'), ('35.25', '-81.25'), ('35.25', '-81.3'), ('35.25', '-81.4'), ('35.25', '-89.25'), ('35.25', '-89.35'), ('35.25', '-89.65'), ('35.25', '-89.8'), ('35.25', '-89.9'), ('35.25', '-90.05'), ('35.3', '-119.05'), ('35.3', '-119.1'), ('35.3', '-77.6'), ('35.3', '-78.6'), ('35.3', '-78.65'), ('35.3', '-80.7'), ('35.3', '-80.75'), ('35.3', '-80.8'), ('35.3', '-80.85'), ('35.3', '-80.9'), ('35.3', '-80.95'), ('35.3', '-81.05'), ('35.3', '-84.8'), ('35.3', '-89.55'), ('35.3', '-89.95'), ('35.3', '-97.5'), ('35.3', '-97.6'), ('35.35', '-119.0'), ('35.35', '-119.05'), ('35.35', '-77.5'), ('35.35', '-78.0'), ('35.35', '-78.55'), ('35.35', '-78.75'), ('35.35', '-78.85'), ('35.35', '-80.7'), ('35.35', '-80.75'), ('35.35', '-80.8'), ('35.35', '-80.85'), ('35.35', '-80.9'), ('35.35', '-80.95'), ('35.35', '-81.0'), ('35.35', '-81.05'), ('35.35', '-89.45'), ('35.35', '-89.5'), ('35.35', '-97.4'), ('35.4', '-119.1'), ('35.4', '-77.45'), ('35.4', '-77.55'), ('35.4', '-78.8'), ('35.4', '-78.9'), ('35.4', '-79.15'), ('35.4', '-80.6'), ('35.4', '-80.65'), ('35.4', '-80.7'), ('35.4', '-80.8'), ('35.4', '-80.85'), ('35.4', '-80.9'), ('35.4', '-80.95'), ('35.4', '-86.05'), ('35.4', '-89.4'), ('35.4', '-97.35'), ('35.4', '-97.45'), ('35.4', '-97.5'), ('35.45', '-77.4'), ('35.45', '-77.45'), ('35.45', '-77.6'), ('35.45', '-78.75'), ('35.45', '-78.85'), ('35.45', '-79.2'), ('35.45', '-80.6'), ('35.45', '-84.7'), ('35.45', '-86.1'), ('35.45', '-86.45'), ('35.45', '-94.35'), ('35.45', '-97.55'), ('35.45', '-97.6'), ('35.5', '-119.2'), ('35.5', '-77.4'), ('35.5', '-77.45'), ('35.5', '-77.55'), ('35.5', '-78.3'), ('35.5', '-78.35'), ('35.5', '-78.75'), ('35.5', '-78.85'), ('35.5', '-80.9'), ('35.5', '-86.15'), ('35.5', '-86.2'), ('35.5', '-97.55'), ('35.5', '-97.6'), ('35.5', '-97.65'), ('35.55', '-77.1'), ('35.55', '-77.35'), ('35.55', '-77.4'), ('35.55', '-77.45'), ('35.55', '-78.15'), ('35.55', '-78.2'), ('35.55', '-78.25'), ('35.55', '-78.7'), ('35.55', '-78.75'), ('35.55', '-78.8'), ('35.55', '-80.6'), ('35.55', '-89.15'), ('35.55', '-89.2'), ('35.55', '-97.0'), ('35.55', '-97.55'), ('35.55', '-97.6'), ('35.55', '-97.65'), ('35.6', '-77.35'), ('35.6', '-77.4'), ('35.6', '-77.45'), ('35.6', '-77.55'), ('35.6', '-78.15'), ('35.6', '-78.45'), ('35.6', '-78.7'), ('35.6', '-78.75'), ('35.6', '-80.55'), ('35.6', '-80.75'), ('35.6', '-86.15'), ('35.6', '-88.95'), ('35.6', '-97.55'), ('35.6', '-97.6'), ('35.6', '-97.65'), ('35.65', '-101.4'), ('35.65', '-77.45'), ('35.65', '-77.5'), ('35.65', '-78.0'), ('35.65', '-78.1'), ('35.65', '-78.4'), ('35.65', '-78.45'), ('35.65', '-78.5'), ('35.65', '-78.6'), ('35.65', '-79.8'), ('35.65', '-80.45'), ('35.65', '-80.5'), ('35.65', '-80.55'), ('35.65', '-81.2'), ('35.65', '-81.35'), ('35.65', '-88.85'), ('35.65', '-88.9'), ('35.65', '-97.5'), ('35.65', '-97.55'), ('35.7', '-77.3'), ('35.7', '-77.95'), ('35.7', '-78.5'), ('35.7', '-78.55'), ('35.7', '-78.6'), ('35.7', '-78.65'), ('35.7', '-78.7'), ('35.7', '-78.8'), ('35.7', '-78.85'), ('35.7', '-79.45'), ('35.7', '-80.4'), ('35.7', '-81.3'), ('35.7', '-81.35'), ('35.7', '-81.4'), ('35.7', '-81.45'), ('35.7', '-81.5'), ('35.7', '-84.0'), ('35.7', '-86.35'), ('35.7', '-86.9'), ('35.7', '-88.55'), ('35.7', '-88.65'), ('35.7', '-88.9'), ('35.75', '-78.0'), ('35.75', '-78.4'), ('35.75', '-78.5'), ('35.75', '-78.55'), ('35.75', '-78.6'), ('35.75', '-78.65'), ('35.75', '-78.7'), ('35.75', '-78.75'), ('35.75', '-78.8'), ('35.75', '-78.85'), ('35.75', '-79.55'), ('35.75', '-80.25'), ('35.75', '-80.35'), ('35.75', '-80.9'), ('35.75', '-83.95'), ('35.75', '-84.0'), ('35.75', '-84.05'), ('35.75', '-84.1'), ('35.75', '-86.4'), ('35.75', '-86.45'), ('35.75', '-86.9'), ('35.75', '-86.95'), ('35.75', '-90.6'), ('35.75', '-91.65'), ('35.8', '-119.3'), ('35.8', '-77.1'), ('35.8', '-78.0'), ('35.8', '-78.4'), ('35.8', '-78.45'), ('35.8', '-78.5'), ('35.8', '-78.55'), ('35.8', '-78.6'), ('35.8', '-78.65'), ('35.8', '-78.7'), ('35.8', '-78.75'), ('35.8', '-78.8'), ('35.8', '-78.85'), ('35.8', '-78.9'), ('35.8', '-79.0'), ('35.8', '-80.15'), ('35.8', '-80.3'), ('35.8', '-80.9'), ('35.8', '-83.6'), ('35.8', '-83.95'), ('35.8', '-84.0'), ('35.8', '-85.05'), ('35.8', '-86.35'), ('35.8', '-86.4'), ('35.8', '-86.45'), ('35.8', '-86.5'), ('35.8', '-88.9'), ('35.8', '-88.95'), ('35.8', '-90.7'), ('35.85', '-77.45'), ('35.85', '-77.55'), ('35.85', '-78.5'), ('35.85', '-78.55'), ('35.85', '-78.6'), ('35.85', '-78.65'), ('35.85', '-78.7'), ('35.85', '-78.75'), ('35.85', '-78.8'), ('35.85', '-78.85'), ('35.85', '-78.9'), ('35.85', '-78.95'), ('35.85', '-79.0'), ('35.85', '-79.05'), ('35.85', '-79.1'), ('35.85', '-79.25'), ('35.85', '-79.65'), ('35.85', '-80.05'), ('35.85', '-80.2'), ('35.85', '-80.85'), ('35.85', '-80.9'), ('35.85', '-80.95'), ('35.85', '-81.5'), ('35.85', '-83.25'), ('35.85', '-84.15'), ('35.85', '-84.2'), ('35.85', '-84.5'), ('35.85', '-85.05'), ('35.85', '-86.3'), ('35.85', '-86.35'), ('35.85', '-86.4'), ('35.85', '-86.45'), ('35.85', '-86.5'), ('35.85', '-87.75'), ('35.85', '-88.1'), ('35.85', '-90.7'), ('35.85', '-97.95'), ('35.9', '-115.25'), ('35.9', '-77.9'), ('35.9', '-78.2'), ('35.9', '-78.5'), ('35.9', '-78.55'), ('35.9', '-78.6'), ('35.9', '-78.8'), ('35.9', '-78.85'), ('35.9', '-78.9'), ('35.9', '-78.95'), ('35.9', '-79.0'), ('35.9', '-79.05'), ('35.9', '-79.1'), ('35.9', '-79.35'), ('35.9', '-79.95'), ('35.9', '-80.0'), ('35.9', '-80.05'), ('35.9', '-83.25'), ('35.9', '-83.95'), ('35.9', '-84.0'), ('35.9', '-84.05'), ('35.9', '-84.1'), ('35.9', '-84.15'), ('35.9', '-84.2'), ('35.9', '-84.95'), ('35.9', '-85.0'), ('35.9', '-86.45'), ('35.9', '-86.5'), ('35.9', '-86.85'), ('35.9', '-86.9'), ('35.9', '-86.95'), ('35.9', '-97.3'), ('35.95', '-114.9'), ('35.95', '-114.95'), ('35.95', '-115.1'), ('35.95', '-115.15'), ('35.95', '-115.2'), ('35.95', '-115.25'), ('35.95', '-77.85'), ('35.95', '-77.9'), ('35.95', '-78.5'), ('35.95', '-78.55'), ('35.95', '-78.6'), ('35.95', '-78.85'), ('35.95', '-78.9'), ('35.95', '-78.95'), ('35.95', '-79.0'), ('35.95', '-79.1'), ('35.95', '-79.35'), ('35.95', '-79.9'), ('35.95', '-79.95'), ('35.95', '-80.0'), ('35.95', '-80.05'), ('35.95', '-80.9'), ('35.95', '-83.25'), ('35.95', '-83.9'), ('35.95', '-83.95'), ('35.95', '-84.0'), ('35.95', '-84.05'), ('35.95', '-84.15'), ('35.95', '-84.95'), ('35.95', '-85.0'), ('35.95', '-85.05'), ('35.95', '-86.6'), ('35.95', '-86.85'), ('35.95', '-88.45'), ('35.95', '-94.0'), ('35.95', '-97.25'), ('36.0', '-114.95'), ('36.0', '-115.0'), ('36.0', '-115.05'), ('36.0', '-115.1'), ('36.0', '-115.15'), ('36.0', '-115.2'), ('36.0', '-115.25'), ('36.0', '-119.0'), ('36.0', '-77.7'), ('36.0', '-77.9'), ('36.0', '-78.85'), ('36.0', '-78.9'), ('36.0', '-78.95'), ('36.0', '-79.0'), ('36.0', '-79.1'), ('36.0', '-79.7'), ('36.0', '-79.8'), ('36.0', '-79.85'), ('36.0', '-79.9'), ('36.0', '-79.95'), ('36.0', '-80.0'), ('36.0', '-80.15'), ('36.0', '-80.3'), ('36.0', '-83.35'), ('36.0', '-84.0'), ('36.0', '-84.05'), ('36.0', '-84.25'), ('36.0', '-86.5'), ('36.0', '-86.55'), ('36.0', '-86.6'), ('36.0', '-86.65'), ('36.0', '-86.7'), ('36.0', '-86.85'), ('36.0', '-86.9'), ('36.0', '-87.25'), ('36.0', '-87.4'), ('36.0', '-88.4'), ('36.0', '-94.05'), ('36.0', '-94.2'), ('36.0', '-94.25'), ('36.0', '-95.85'), ('36.0', '-95.9'), ('36.0', '-95.95'), ('36.05', '-115.0'), ('36.05', '-115.05'), ('36.05', '-115.1'), ('36.05', '-115.15'), ('36.05', '-115.2'), ('36.05', '-115.25'), ('36.05', '-115.3'), ('36.05', '-119.0'), ('36.05', '-119.05'), ('36.05', '-78.5'), ('36.05', '-78.9'), ('36.05', '-78.95'), ('36.05', '-79.0'), ('36.05', '-79.3'), ('36.05', '-79.4'), ('36.05', '-79.45'), ('36.05', '-79.5'), ('36.05', '-79.65'), ('36.05', '-79.7'), ('36.05', '-79.75'), ('36.05', '-79.8'), ('36.05', '-79.85'), ('36.05', '-79.9'), ('36.05', '-79.95'), ('36.05', '-80.0'), ('36.05', '-80.05'), ('36.05', '-80.15'), ('36.05', '-80.2'), ('36.05', '-80.25'), ('36.05', '-80.3'), ('36.05', '-80.35'), ('36.05', '-80.4'), ('36.05', '-85.2'), ('36.05', '-86.55'), ('36.05', '-86.6'), ('36.05', '-86.65'), ('36.05', '-86.7'), ('36.05', '-86.75'), ('36.05', '-86.8'), ('36.05', '-86.85'), ('36.05', '-86.95'), ('36.05', '-87.0'), ('36.05', '-87.05'), ('36.05', '-94.05'), ('36.05', '-94.1'), ('36.05', '-94.15'), ('36.05', '-94.2'), ('36.05', '-94.25'), ('36.05', '-95.9'), ('36.05', '-95.95'), ('36.1', '-115.1'), ('36.1', '-115.15'), ('36.1', '-115.2'), ('36.1', '-115.25'), ('36.1', '-119.1'), ('36.1', '-119.2'), ('36.1', '-77.85'), ('36.1', '-79.4'), ('36.1', '-79.5'), ('36.1', '-79.55'), ('36.1', '-79.75'), ('36.1', '-79.8'), ('36.1', '-79.85'), ('36.1', '-79.9'), ('36.1', '-79.95'), ('36.1', '-80.0'), ('36.1', '-80.15'), ('36.1', '-80.2'), ('36.1', '-80.25'), ('36.1', '-80.3'), ('36.1', '-80.35'), ('36.1', '-86.55'), ('36.1', '-86.65'), ('36.1', '-86.7'), ('36.1', '-86.75'), ('36.1', '-86.8'), ('36.1', '-86.85'), ('36.1', '-86.9'), ('36.1', '-86.95'), ('36.1', '-93.95'), ('36.1', '-94.15'), ('36.1', '-95.95'), ('36.1', '-96.0'), ('36.1', '-97.1'), ('36.15', '-115.05'), ('36.15', '-115.1'), ('36.15', '-115.15'), ('36.15', '-115.2'), ('36.15', '-115.25'), ('36.15', '-115.3'), ('36.15', '-115.35'), ('36.15', '-119.1'), ('36.15', '-77.8'), ('36.15', '-79.8'), ('36.15', '-79.85'), ('36.15', '-80.25'), ('36.15', '-80.3'), ('36.15', '-80.35'), ('36.15', '-80.4'), ('36.15', '-81.65'), ('36.15', '-81.7'), ('36.15', '-83.35'), ('36.15', '-86.3'), ('36.15', '-86.65'), ('36.15', '-86.7'), ('36.15', '-86.75'), ('36.15', '-86.8'), ('36.15', '-86.85'), ('36.15', '-86.9'), ('36.15', '-94.15'), ('36.15', '-95.9'), ('36.15', '-95.95'), ('36.15', '-96.05'), ('36.2', '-115.1'), ('36.2', '-115.15'), ('36.2', '-115.2'), ('36.2', '-115.25'), ('36.2', '-115.3'), ('36.2', '-77.75'), ('36.2', '-81.65'), ('36.2', '-81.7'), ('36.2', '-83.1'), ('36.2', '-83.3'), ('36.2', '-86.3'), ('36.2', '-86.6'), ('36.2', '-86.7'), ('36.2', '-86.75'), ('36.2', '-86.8'), ('36.2', '-86.85'), ('36.2', '-86.9'), ('36.2', '-94.15'), ('36.2', '-96.0'), ('36.25', '-115.15'), ('36.25', '-115.2'), ('36.25', '-115.3'), ('36.25', '-119.3'), ('36.25', '-119.35'), ('36.25', '-76.25'), ('36.25', '-77.75'), ('36.25', '-78.6'), ('36.25', '-80.4'), ('36.25', '-86.6'), ('36.25', '-86.65'), ('36.25', '-86.7'), ('36.25', '-86.75'), ('36.25', '-86.8'), ('36.25', '-86.85'), ('36.25', '-94.2'), ('36.3', '-115.2'), ('36.3', '-115.3'), ('36.3', '-115.35'), ('36.3', '-119.15'), ('36.3', '-119.35'), ('36.3', '-78.4'), ('36.3', '-78.45'), ('36.3', '-78.5'), ('36.3', '-78.55'), ('36.3', '-78.6'), ('36.3', '-82.9'), ('36.3', '-86.45'), ('36.3', '-86.6'), ('36.3', '-86.65'), ('36.3', '-86.7'), ('36.3', '-88.9'), ('36.3', '-94.15'), ('36.3', '-94.2'), ('36.35', '-77.45'), ('36.35', '-78.4'), ('36.35', '-78.45'), ('36.35', '-78.5'), ('36.35', '-86.45'), ('36.35', '-86.5'), ('36.35', '-87.0'), ('36.35', '-87.05'), ('36.35', '-88.9'), ('36.35', '-98.65'), ('36.4', '-77.1'), ('36.4', '-77.15'), ('36.4', '-77.4'), ('36.4', '-77.45'), ('36.4', '-77.65'), ('36.4', '-77.95'), ('36.4', '-78.3'), ('36.4', '-82.5'), ('36.4', '-84.3'), ('36.4', '-87.05'), ('36.4', '-87.1'), ('36.45', '-77.65'), ('36.45', '-77.7'), ('36.45', '-80.65'), ('36.45', '-87.15'), ('36.5', '-115.0'), ('36.5', '-119.4'), ('36.5', '-119.6'), ('36.5', '-78.25'), ('36.5', '-82.35'), ('36.5', '-82.55'), ('36.5', '-82.6'), ('36.5', '-87.25'), ('36.5', '-87.35'), ('36.55', '-119.55'), ('36.55', '-76.05'), ('36.55', '-78.2'), ('36.55', '-82.6'), ('36.55', '-84.15'), ('36.55', '-87.3'), ('36.6', '-119.7'), ('36.6', '-76.25'), ('36.6', '-78.15'), ('36.6', '-79.4'), ('36.6', '-79.65'), ('36.6', '-80.75'), ('36.6', '-83.75'), ('36.6', '-84.15'), ('36.6', '-87.3'), ('36.6', '-87.4'), ('36.6', '-87.45'), ('36.6', '-87.5'), ('36.65', '-108.25'), ('36.65', '-76.25'), ('36.65', '-76.35'), ('36.65', '-76.8'), ('36.65', '-76.85'), ('36.65', '-76.95'), ('36.65', '-77.0'), ('36.65', '-77.55'), ('36.65', '-77.6'), ('36.65', '-78.15'), ('36.65', '-79.4'), ('36.65', '-80.75'), ('36.65', '-82.1'), ('36.65', '-84.15'), ('36.65', '-87.5'), ('36.7', '-108.2'), ('36.7', '-108.25'), ('36.7', '-108.35'), ('36.7', '-119.55'), ('36.7', '-119.7'), ('36.7', '-119.75'), ('36.7', '-119.8'), ('36.7', '-119.85'), ('36.7', '-76.1'), ('36.7', '-76.2'), ('36.7', '-76.25'), ('36.7', '-76.3'), ('36.7', '-76.35'), ('36.7', '-76.6'), ('36.7', '-76.65'), ('36.7', '-76.7'), ('36.7', '-77.05'), ('36.7', '-77.1'), ('36.7', '-77.15'), ('36.7', '-77.2'), ('36.7', '-77.55'), ('36.7', '-77.9'), ('36.7', '-78.1'), ('36.7', '-79.85'), ('36.7', '-80.75'), ('36.7', '-83.0'), ('36.75', '-108.15'), ('36.75', '-119.75'), ('36.75', '-119.85'), ('36.75', '-119.9'), ('36.75', '-76.0'), ('36.75', '-76.05'), ('36.75', '-76.1'), ('36.75', '-76.15'), ('36.75', '-76.2'), ('36.75', '-76.25'), ('36.75', '-76.3'), ('36.75', '-76.35'), ('36.75', '-76.4'), ('36.75', '-76.45'), ('36.75', '-76.6'), ('36.75', '-76.75'), ('36.75', '-77.85'), ('36.75', '-78.1'), ('36.75', '-78.95'), ('36.75', '-79.7'), ('36.8', '-114.1'), ('36.8', '-119.7'), ('36.8', '-119.75'), ('36.8', '-119.8'), ('36.8', '-119.85'), ('36.8', '-119.9'), ('36.8', '-76.0'), ('36.8', '-76.05'), ('36.8', '-76.1'), ('36.8', '-76.15'), ('36.8', '-76.2'), ('36.8', '-76.25'), ('36.8', '-76.3'), ('36.8', '-76.35'), ('36.8', '-76.4'), ('36.8', '-76.45'), ('36.8', '-76.6'), ('36.8', '-76.8'), ('36.8', '-77.5'), ('36.8', '-79.45'), ('36.8', '-84.2'), ('36.85', '-113.95'), ('36.85', '-119.8'), ('36.85', '-120.0'), ('36.85', '-76.0'), ('36.85', '-76.05'), ('36.85', '-76.15'), ('36.85', '-76.2'), ('36.85', '-76.25'), ('36.85', '-76.3'), ('36.85', '-76.35'), ('36.85', '-76.4'), ('36.85', '-76.45'), ('36.85', '-76.5'), ('36.85', '-76.75'), ('36.85', '-77.45'), ('36.85', '-78.6'), ('36.85', '-84.2'), ('36.85', '-86.45'), ('36.9', '-113.85'), ('36.9', '-76.15'), ('36.9', '-76.2'), ('36.9', '-76.25'), ('36.9', '-76.3'), ('36.9', '-76.35'), ('36.9', '-76.4'), ('36.9', '-76.45'), ('36.9', '-76.7'), ('36.9', '-81.0'), ('36.9', '-84.05'), ('36.95', '-76.3'), ('36.95', '-76.35'), ('36.95', '-76.4'), ('36.95', '-76.45'), ('36.95', '-76.5'), ('36.95', '-76.65'), ('36.95', '-77.25'), ('36.95', '-77.75'), ('36.95', '-77.85'), ('36.95', '-81.1'), ('36.95', '-84.1'), ('36.95', '-84.15'), ('37.0', '-76.3'), ('37.0', '-76.35'), ('37.0', '-76.4'), ('37.0', '-76.45'), ('37.0', '-76.5'), ('37.0', '-76.65'), ('37.0', '-77.65'), ('37.0', '-77.7'), ('37.0', '-78.25'), ('37.0', '-88.6'), ('37.05', '-113.6'), ('37.05', '-76.35'), ('37.05', '-76.4'), ('37.05', '-76.45'), ('37.05', '-76.5'), ('37.05', '-76.55'), ('37.05', '-77.6'), ('37.05', '-78.05'), ('37.05', '-79.35'), ('37.05', '-84.15'), ('37.1', '-113.5'), ('37.1', '-113.55'), ('37.1', '-113.6'), ('37.1', '-76.5'), ('37.1', '-76.55'), ('37.1', '-76.6'), ('37.1', '-77.3'), ('37.1', '-77.35'), ('37.1', '-77.4'), ('37.1', '-77.55'), ('37.15', '-76.5'), ('37.15', '-76.55'), ('37.15', '-76.6'), ('37.15', '-77.3'), ('37.15', '-77.35'), ('37.15', '-77.4'), ('37.15', '-77.45'), ('37.15', '-77.55'), ('37.15', '-78.25'), ('37.15', '-79.7'), ('37.2', '-76.55'), ('37.2', '-76.6'), ('37.2', '-76.65'), ('37.2', '-76.75'), ('37.2', '-77.35'), ('37.2', '-77.4'), ('37.2', '-77.45'), ('37.2', '-77.5'), ('37.2', '-78.15'), ('37.2', '-79.4'), ('37.2', '-79.9'), ('37.2', '-80.4'), ('37.2', '-80.45'), ('37.2', '-81.25'), ('37.25', '-76.0'), ('37.25', '-76.7'), ('37.25', '-76.75'), ('37.25', '-76.8'), ('37.25', '-77.35'), ('37.25', '-77.4'), ('37.25', '-77.45'), ('37.25', '-78.4'), ('37.25', '-78.45'), ('37.25', '-79.2'), ('37.25', '-79.9'), ('37.25', '-79.95'), ('37.25', '-80.0'), ('37.25', '-81.2'), ('37.3', '-76.75'), ('37.3', '-76.8'), ('37.3', '-77.35'), ('37.3', '-77.4'), ('37.3', '-77.45'), ('37.3', '-78.45'), ('37.3', '-79.2'), ('37.3', '-79.25'), ('37.3', '-79.9'), ('37.3', '-80.0'), ('37.35', '-76.8'), ('37.35', '-77.35'), ('37.35', '-77.4'), ('37.35', '-77.45'), ('37.35', '-77.5'), ('37.35', '-77.55'), ('37.35', '-77.7'), ('37.35', '-77.75'), ('37.35', '-79.2'), ('37.35', '-79.25'), ('37.35', '-84.35'), ('37.4', '-76.5'), ('37.4', '-76.85'), ('37.4', '-76.9'), ('37.4', '-77.45'), ('37.4', '-77.5'), ('37.4', '-77.55'), ('37.4', '-77.6'), ('37.4', '-77.65'), ('37.4', '-77.7'), ('37.4', '-77.75'), ('37.4', '-79.15'), ('37.4', '-79.2'), ('37.4', '-79.25'), ('37.4', '-81.1'), ('37.4', '-83.95'), ('37.4', '-84.05'), ('37.45', '-76.4'), ('37.45', '-76.5'), ('37.45', '-76.9'), ('37.45', '-76.95'), ('37.45', '-77.0'), ('37.45', '-77.05'), ('37.45', '-77.1'), ('37.45', '-77.3'), ('37.45', '-77.4'), ('37.45', '-77.45'), ('37.45', '-77.5'), ('37.45', '-77.55'), ('37.45', '-77.6'), ('37.45', '-77.65'), ('37.45', '-77.7'), ('37.45', '-79.15'), ('37.45', '-79.2'), ('37.5', '-77.15'), ('37.5', '-77.2'), ('37.5', '-77.25'), ('37.5', '-77.3'), ('37.5', '-77.35'), ('37.5', '-77.4'), ('37.5', '-77.45'), ('37.5', '-77.5'), ('37.5', '-77.55'), ('37.5', '-77.6'), ('37.5', '-77.65'), ('37.55', '-76.65'), ('37.55', '-77.35'), ('37.55', '-77.4'), ('37.55', '-77.45'), ('37.55', '-77.5'), ('37.55', '-77.55'), ('37.6', '-76.6'), ('37.6', '-77.4'), ('37.6', '-77.45'), ('37.6', '-77.5'), ('37.6', '-77.55'), ('37.6', '-77.6'), ('37.6', '-88.9'), ('37.6', '-97.5'), ('37.65', '-77.45'), ('37.65', '-77.5'), ('37.65', '-77.55'), ('37.65', '-77.6'), ('37.65', '-77.65'), ('37.65', '-81.15'), ('37.65', '-89.2'), ('37.65', '-97.2'), ('37.65', '-97.25'), ('37.65', '-97.35'), ('37.65', '-97.4'), ('37.65', '-97.45'), ('37.65', '-97.5'), ('37.7', '-84.3'), ('37.7', '-84.35'), ('37.7', '-85.9'), ('37.7', '-87.15'), ('37.7', '-88.9'), ('37.7', '-89.0'), ('37.7', '-89.2'), ('37.7', '-89.25'), ('37.7', '-89.35'), ('37.7', '-97.05'), ('37.7', '-97.25'), ('37.7', '-97.35'), ('37.7', '-97.4'), ('37.7', '-97.45'), ('37.75', '-77.5'), ('37.75', '-81.25'), ('37.75', '-87.25'), ('37.75', '-88.85'), ('37.75', '-88.9'), ('37.75', '-89.35'), ('37.75', '-90.45'), ('37.75', '-97.0'), ('37.75', '-97.05'), ('37.75', '-97.15'), ('37.8', '-77.5'), ('37.8', '-88.95'), ('37.8', '-96.9'), ('37.8', '-97.35'), ('37.8', '-97.45'), ('37.85', '-77.5'), ('37.9', '-76.9'), ('37.9', '-84.4'), ('37.9', '-86.8'), ('37.9', '-87.55'), ('37.95', '-84.4'), ('37.95', '-84.5'), ('37.95', '-84.55'), ('37.95', '-87.4'), ('37.95', '-87.5'), ('37.95', '-87.55'), ('38.0', '-75.55'), ('38.0', '-77.5'), ('38.0', '-78.0'), ('38.0', '-78.1'), ('38.0', '-78.45'), ('38.0', '-78.5'), ('38.0', '-78.55'), ('38.0', '-78.8'), ('38.0', '-78.9'), ('38.0', '-84.5'), ('38.0', '-84.55'), ('38.0', '-84.65'), ('38.0', '-85.75'), ('38.0', '-97.35'), ('38.05', '-76.7'), ('38.05', '-77.55'), ('38.05', '-78.25'), ('38.05', '-78.5'), ('38.05', '-78.95'), ('38.05', '-84.5'), ('38.05', '-84.55'), ('38.05', '-85.7'), ('38.05', '-97.35'), ('38.1', '-77.55'), ('38.1', '-78.2'), ('38.1', '-84.5'), ('38.1', '-84.8'), ('38.1', '-85.7'), ('38.15', '-75.7'), ('38.15', '-77.55'), ('38.15', '-79.05'), ('38.15', '-84.65'), ('38.15', '-84.85'), ('38.15', '-84.9'), ('38.15', '-84.95'), ('38.15', '-85.25'), ('38.15', '-85.7'), ('38.15', '-85.75'), ('38.15', '-85.8'), ('38.15', '-99.1'), ('38.2', '-75.7'), ('38.2', '-77.55'), ('38.2', '-84.8'), ('38.2', '-84.85'), ('38.2', '-84.9'), ('38.2', '-85.4'), ('38.2', '-85.55'), ('38.2', '-85.6'), ('38.2', '-85.7'), ('38.2', '-85.8'), ('38.2', '-85.85'), ('38.25', '-75.7'), ('38.25', '-76.5'), ('38.25', '-76.55'), ('38.25', '-77.5'), ('38.25', '-77.55'), ('38.25', '-84.55'), ('38.25', '-85.55'), ('38.25', '-85.6'), ('38.25', '-85.8'), ('38.3', '-75.6'), ('38.3', '-75.65'), ('38.3', '-77.5'), ('38.3', '-81.65'), ('38.3', '-81.75'), ('38.3', '-85.55'), ('38.3', '-85.6'), ('38.35', '-75.6'), ('38.35', '-77.5'), ('38.35', '-77.55'), ('38.35', '-81.65'), ('38.35', '-81.7'), ('38.35', '-81.75'), ('38.35', '-81.8'), ('38.35', '-81.85'), ('38.35', '-81.9'), ('38.35', '-84.6'), ('38.4', '-75.6'), ('38.4', '-75.7'), ('38.4', '-77.45'), ('38.4', '-78.9'), ('38.4', '-81.8'), ('38.4', '-81.85'), ('38.4', '-82.3'), ('38.4', '-84.6'), ('38.4', '-89.95'), ('38.4', '-90.35'), ('38.4', '-90.4'), ('38.4', '-98.55'), ('38.45', '-75.1'), ('38.45', '-75.2'), ('38.45', '-75.25'), ('38.45', '-75.4'), ('38.45', '-75.8'), ('38.45', '-77.4'), ('38.45', '-77.45'), ('38.45', '-77.55'), ('38.45', '-77.95'), ('38.45', '-78.9'), ('38.45', '-81.9'), ('38.45', '-89.9'), ('38.45', '-90.25'), ('38.45', '-90.35'), ('38.5', '-75.1'), ('38.5', '-75.15'), ('38.5', '-75.9'), ('38.5', '-75.95'), ('38.5', '-76.7'), ('38.5', '-76.95'), ('38.5', '-77.0'), ('38.5', '-77.05'), ('38.5', '-77.35'), ('38.5', '-77.4'), ('38.5', '-84.6'), ('38.5', '-89.15'), ('38.5', '-90.35'), ('38.5', '-90.4'), ('38.5', '-90.5'), ('38.55', '-76.9'), ('38.55', '-76.95'), ('38.55', '-77.05'), ('38.55', '-77.15'), ('38.55', '-77.3'), ('38.55', '-77.35'), ('38.55', '-77.8'), ('38.55', '-81.1'), ('38.55', '-89.15'), ('38.55', '-89.85'), ('38.55', '-89.9'), ('38.55', '-89.95'), ('38.55', '-90.0'), ('38.55', '-90.05'), ('38.55', '-90.1'), ('38.55', '-90.15'), ('38.55', '-90.25'), ('38.55', '-90.3'), ('38.55', '-90.35'), ('38.55', '-90.45'), ('38.55', '-90.5'), ('38.55', '-90.55'), ('38.55', '-95.3'), ('38.6', '-76.9'), ('38.6', '-76.95'), ('38.6', '-77.0'), ('38.6', '-77.05'), ('38.6', '-77.1'), ('38.6', '-77.3'), ('38.6', '-77.35'), ('38.6', '-77.4'), ('38.6', '-77.7'), ('38.6', '-78.5'), ('38.6', '-81.05'), ('38.6', '-89.85'), ('38.6', '-89.9'), ('38.6', '-90.1'), ('38.6', '-90.15'), ('38.6', '-90.2'), ('38.6', '-90.25'), ('38.6', '-90.3'), ('38.6', '-90.35'), ('38.6', '-90.4'), ('38.6', '-90.45'), ('38.6', '-90.5'), ('38.6', '-90.55'), ('38.6', '-90.6'), ('38.6', '-95.25'), ('38.6', '-95.3'), ('38.65', '-75.1'), ('38.65', '-75.2'), ('38.65', '-75.6'), ('38.65', '-76.8'), ('38.65', '-76.9'), ('38.65', '-77.0'), ('38.65', '-77.05'), ('38.65', '-77.25'), ('38.65', '-77.3'), ('38.65', '-77.35'), ('38.65', '-77.4'), ('38.65', '-77.45'), ('38.65', '-77.65'), ('38.65', '-78.45'), ('38.65', '-78.5'), ('38.65', '-84.65'), ('38.65', '-90.0'), ('38.65', '-90.05'), ('38.65', '-90.2'), ('38.65', '-90.25'), ('38.65', '-90.3'), ('38.65', '-90.35'), ('38.65', '-90.4'), ('38.65', '-90.45'), ('38.65', '-90.5'), ('38.65', '-90.6'), ('38.7', '-75.15'), ('38.7', '-76.7'), ('38.7', '-76.85'), ('38.7', '-76.9'), ('38.7', '-76.95'), ('38.7', '-77.0'), ('38.7', '-77.05'), ('38.7', '-77.1'), ('38.7', '-77.15'), ('38.7', '-77.2'), ('38.7', '-77.25'), ('38.7', '-77.3'), ('38.7', '-77.35'), ('38.7', '-77.45'), ('38.7', '-77.5'), ('38.7', '-77.55'), ('38.7', '-90.25'), ('38.7', '-90.3'), ('38.7', '-90.35'), ('38.7', '-90.4'), ('38.7', '-90.45'), ('38.7', '-90.6'), ('38.7', '-90.65'), ('38.7', '-90.7'), ('38.75', '-75.15'), ('38.75', '-75.6'), ('38.75', '-76.1'), ('38.75', '-76.8'), ('38.75', '-76.85'), ('38.75', '-76.9'), ('38.75', '-76.95'), ('38.75', '-77.0'), ('38.75', '-77.05'), ('38.75', '-77.1'), ('38.75', '-77.15'), ('38.75', '-77.2'), ('38.75', '-77.25'), ('38.75', '-77.3'), ('38.75', '-77.35'), ('38.75', '-77.5'), ('38.75', '-87.3'), ('38.75', '-89.95'), ('38.75', '-90.0'), ('38.75', '-90.2'), ('38.75', '-90.25'), ('38.75', '-90.3'), ('38.75', '-90.35'), ('38.75', '-90.4'), ('38.75', '-90.45'), ('38.75', '-90.5'), ('38.75', '-90.55'), ('38.75', '-90.6'), ('38.75', '-90.65'), ('38.8', '-75.6'), ('38.8', '-76.75'), ('38.8', '-76.8'), ('38.8', '-76.85'), ('38.8', '-76.9'), ('38.8', '-76.95'), ('38.8', '-77.0'), ('38.8', '-77.05'), ('38.8', '-77.1'), ('38.8', '-77.15'), ('38.8', '-77.2'), ('38.8', '-77.25'), ('38.8', '-77.3'), ('38.8', '-77.35'), ('38.8', '-77.5'), ('38.8', '-87.3'), ('38.8', '-90.0'), ('38.8', '-90.25'), ('38.8', '-90.3'), ('38.8', '-90.35'), ('38.8', '-90.4'), ('38.8', '-91.2'), ('38.8', '-94.45'), ('38.8', '-94.55'), ('38.8', '-94.85'), ('38.85', '-76.7'), ('38.85', '-76.75'), ('38.85', '-76.8'), ('38.85', '-76.85'), ('38.85', '-76.9'), ('38.85', '-76.95'), ('38.85', '-77.0'), ('38.85', '-77.05'), ('38.85', '-77.1'), ('38.85', '-77.15'), ('38.85', '-77.2'), ('38.85', '-77.25'), ('38.85', '-77.3'), ('38.85', '-77.35'), ('38.85', '-77.4'), ('38.85', '-77.45'), ('38.85', '-77.5'), ('38.85', '-78.3'), ('38.85', '-91.4'), ('38.85', '-92.35'), ('38.85', '-94.4'), ('38.85', '-94.5'), ('38.85', '-94.55'), ('38.85', '-94.6'), ('38.85', '-94.85'), ('38.85', '-97.8'), ('38.9', '-104.65'), ('38.9', '-75.6'), ('38.9', '-76.75'), ('38.9', '-76.8'), ('38.9', '-76.85'), ('38.9', '-76.9'), ('38.9', '-76.95'), ('38.9', '-77.0'), ('38.9', '-77.05'), ('38.9', '-77.1'), ('38.9', '-77.15'), ('38.9', '-77.25'), ('38.9', '-77.3'), ('38.9', '-77.35'), ('38.9', '-77.45'), ('38.9', '-77.55'), ('38.9', '-84.65'), ('38.9', '-92.3'), ('38.9', '-92.35'), ('38.9', '-92.4'), ('38.9', '-94.4'), ('38.9', '-94.45'), ('38.9', '-94.5'), ('38.9', '-94.55'), ('38.9', '-94.65'), ('38.9', '-94.7'), ('38.9', '-94.75'), ('38.9', '-95.25'), ('38.9', '-95.3'), ('38.95', '-75.6'), ('38.95', '-76.35'), ('38.95', '-76.4'), ('38.95', '-76.5'), ('38.95', '-76.55'), ('38.95', '-76.6'), ('38.95', '-76.65'), ('38.95', '-76.7'), ('38.95', '-76.75'), ('38.95', '-76.8'), ('38.95', '-76.85'), ('38.95', '-76.9'), ('38.95', '-76.95'), ('38.95', '-77.0'), ('38.95', '-77.05'), ('38.95', '-77.1'), ('38.95', '-77.15'), ('38.95', '-77.2'), ('38.95', '-77.25'), ('38.95', '-77.35'), ('38.95', '-77.4'), ('38.95', '-77.45'), ('38.95', '-77.5'), ('38.95', '-92.3'), ('38.95', '-92.35'), ('38.95', '-92.4'), ('38.95', '-92.45'), ('38.95', '-94.3'), ('38.95', '-94.4'), ('38.95', '-94.55'), ('38.95', '-94.75'), ('38.95', '-95.3'), ('38.95', '-95.75'), ('39.0', '-76.45'), ('39.0', '-76.5'), ('39.0', '-76.55'), ('39.0', '-76.7'), ('39.0', '-76.75'), ('39.0', '-76.8'), ('39.0', '-76.85'), ('39.0', '-76.9'), ('39.0', '-76.95'), ('39.0', '-77.0'), ('39.0', '-77.05'), ('39.0', '-77.1'), ('39.0', '-77.15'), ('39.0', '-77.2'), ('39.0', '-77.4'), ('39.0', '-77.45'), ('39.0', '-77.5'), ('39.0', '-77.55'), ('39.0', '-84.5'), ('39.0', '-84.6'), ('39.0', '-84.65'), ('39.0', '-84.7'), ('39.0', '-94.35'), ('39.0', '-94.4'), ('39.0', '-94.5'), ('39.0', '-94.55'), ('39.0', '-94.6'), ('39.0', '-94.65'), ('39.0', '-94.7'), ('39.0', '-94.75'), ('39.0', '-95.7'), ('39.0', '-95.75'), ('39.0', '-95.8'), ('39.05', '-75.65'), ('39.05', '-76.65'), ('39.05', '-76.7'), ('39.05', '-76.75'), ('39.05', '-76.85'), ('39.05', '-76.9'), ('39.05', '-76.95'), ('39.05', '-77.0'), ('39.05', '-77.05'), ('39.05', '-77.1'), ('39.05', '-77.15'), ('39.05', '-77.2'), ('39.05', '-77.5'), ('39.05', '-77.8'), ('39.05', '-84.0'), ('39.05', '-84.05'), ('39.05', '-84.25'), ('39.05', '-84.3'), ('39.05', '-84.55'), ('39.05', '-84.6'), ('39.05', '-84.65'), ('39.05', '-84.7'), ('39.05', '-94.4'), ('39.05', '-94.45'), ('39.05', '-94.55'), ('39.05', '-94.6'), ('39.05', '-95.7'), ('39.1', '-75.55'), ('39.1', '-76.6'), ('39.1', '-76.65'), ('39.1', '-76.7'), ('39.1', '-76.75'), ('39.1', '-76.8'), ('39.1', '-76.85'), ('39.1', '-76.9'), ('39.1', '-76.95'), ('39.1', '-77.05'), ('39.1', '-77.1'), ('39.1', '-77.15'), ('39.1', '-77.2'), ('39.1', '-77.25'), ('39.1', '-77.4'), ('39.1', '-77.7'), ('39.1', '-84.4'), ('39.1', '-84.45'), ('39.1', '-84.5'), ('39.1', '-84.55'), ('39.1', '-84.6'), ('39.1', '-86.6'), ('39.1', '-87.45'), ('39.1', '-94.4'), ('39.1', '-94.6'), ('39.1', '-94.65'), ('39.1', '-94.7'), ('39.1', '-94.75'), ('39.1', '-94.85'), ('39.15', '-75.55'), ('39.15', '-75.6'), ('39.15', '-75.65'), ('39.15', '-76.65'), ('39.15', '-76.7'), ('39.15', '-76.75'), ('39.15', '-76.8'), ('39.15', '-76.85'), ('39.15', '-76.9'), ('39.15', '-77.1'), ('39.15', '-77.15'), ('39.15', '-77.2'), ('39.15', '-77.25'), ('39.15', '-77.3'), ('39.15', '-77.35'), ('39.15', '-84.3'), ('39.15', '-84.4'), ('39.15', '-84.45'), ('39.15', '-84.5'), ('39.15', '-84.55'), ('39.15', '-84.6'), ('39.15', '-84.65'), ('39.15', '-86.5'), ('39.15', '-86.55'), ('39.15', '-86.6'), ('39.15', '-89.7'), ('39.15', '-94.8'), ('39.2', '-75.55'), ('39.2', '-75.6'), ('39.2', '-76.6'), ('39.2', '-76.65'), ('39.2', '-76.7'), ('39.2', '-76.75'), ('39.2', '-76.8'), ('39.2', '-76.85'), ('39.2', '-76.9'), ('39.2', '-77.0'), ('39.2', '-77.2'), ('39.2', '-77.25'), ('39.2', '-77.3'), ('39.2', '-80.0'), ('39.2', '-83.0'), ('39.2', '-84.4'), ('39.2', '-84.45'), ('39.2', '-84.5'), ('39.2', '-84.55'), ('39.2', '-84.6'), ('39.2', '-86.0'), ('39.2', '-86.65'), ('39.2', '-88.35'), ('39.2', '-94.7'), ('39.2', '-94.75'), ('39.25', '-74.6'), ('39.25', '-74.65'), ('39.25', '-75.6'), ('39.25', '-75.65'), ('39.25', '-76.5'), ('39.25', '-76.55'), ('39.25', '-76.6'), ('39.25', '-76.65'), ('39.25', '-76.7'), ('39.25', '-76.75'), ('39.25', '-76.8'), ('39.25', '-76.85'), ('39.25', '-76.9'), ('39.25', '-77.35'), ('39.25', '-80.1'), ('39.25', '-84.4'), ('39.25', '-84.45'), ('39.25', '-84.5'), ('39.25', '-84.55'), ('39.25', '-84.6'), ('39.25', '-87.4'), ('39.25', '-89.65'), ('39.25', '-94.7'), ('39.25', '-94.75'), ('39.25', '-94.9'), ('39.3', '-101.05'), ('39.3', '-104.9'), ('39.3', '-74.6'), ('39.3', '-74.65'), ('39.3', '-76.45'), ('39.3', '-76.5'), ('39.3', '-76.55'), ('39.3', '-76.6'), ('39.3', '-76.65'), ('39.3', '-76.7'), ('39.3', '-76.75'), ('39.3', '-76.8'), ('39.3', '-76.85'), ('39.3', '-76.9'), ('39.3', '-77.0'), ('39.3', '-77.4'), ('39.3', '-77.7'), ('39.3', '-79.9'), ('39.3', '-82.05'), ('39.3', '-82.1'), ('39.3', '-82.15'), ('39.3', '-83.0'), ('39.3', '-84.3'), ('39.3', '-84.45'), ('39.3', '-84.5'), ('39.3', '-84.55'), ('39.3', '-84.6'), ('39.3', '-85.5'), ('39.3', '-86.55'), ('39.3', '-94.95'), ('39.35', '-101.1'), ('39.35', '-74.45'), ('39.35', '-74.5'), ('39.35', '-74.55'), ('39.35', '-74.65'), ('39.35', '-76.4'), ('39.35', '-76.45'), ('39.35', '-76.5'), ('39.35', '-76.55'), ('39.35', '-76.6'), ('39.35', '-76.65'), ('39.35', '-76.7'), ('39.35', '-76.75'), ('39.35', '-76.8'), ('39.35', '-76.85'), ('39.35', '-77.0'), ('39.35', '-77.15'), ('39.35', '-77.2'), ('39.35', '-77.3'), ('39.35', '-77.35'), ('39.35', '-77.45'), ('39.35', '-83.0'), ('39.35', '-84.2'), ('39.35', '-84.3'), ('39.35', '-84.35'), ('39.35', '-84.4'), ('39.35', '-84.45'), ('39.35', '-84.5'), ('39.35', '-84.55'), ('39.35', '-85.5'), ('39.35', '-85.55'), ('39.4', '-74.4'), ('39.4', '-74.55'), ('39.4', '-74.65'), ('39.4', '-75.25'), ('39.4', '-75.7'), ('39.4', '-76.3'), ('39.4', '-76.35'), ('39.4', '-76.4'), ('39.4', '-76.5'), ('39.4', '-76.6'), ('39.4', '-76.65'), ('39.4', '-76.7'), ('39.4', '-76.75'), ('39.4', '-76.8'), ('39.4', '-76.85'), ('39.4', '-77.0'), ('39.4', '-77.35'), ('39.4', '-77.45'), ('39.4', '-79.4'), ('39.4', '-79.95'), ('39.4', '-80.2'), ('39.4', '-80.25'), ('39.4', '-84.35'), ('39.4', '-84.4'), ('39.4', '-84.45'), ('39.4', '-86.45'), ('39.4', '-87.4'), ('39.4', '-87.45'), ('39.45', '-74.55'), ('39.45', '-74.6'), ('39.45', '-75.0'), ('39.45', '-75.1'), ('39.45', '-75.7'), ('39.45', '-75.75'), ('39.45', '-76.3'), ('39.45', '-76.55'), ('39.45', '-76.65'), ('39.45', '-76.7'), ('39.45', '-77.2'), ('39.45', '-78.0'), ('39.45', '-80.2'), ('39.45', '-83.95'), ('39.45', '-84.0'), ('39.45', '-84.35'), ('39.45', '-84.4'), ('39.45', '-84.5'), ('39.45', '-85.65'), ('39.45', '-86.05'), ('39.45', '-87.1'), ('39.45', '-87.4'), ('39.45', '-87.45'), ('39.45', '-88.2'), ('39.5', '-104.95'), ('39.5', '-74.55'), ('39.5', '-74.7'), ('39.5', '-75.0'), ('39.5', '-75.65'), ('39.5', '-75.7'), ('39.5', '-76.15'), ('39.5', '-76.2'), ('39.5', '-76.25'), ('39.5', '-76.7'), ('39.5', '-77.45'), ('39.5', '-83.85'), ('39.5', '-84.35'), ('39.5', '-84.45'), ('39.5', '-84.75'), ('39.5', '-85.75'), ('39.5', '-85.8'), ('39.5', '-87.45'), ('39.5', '-88.35'), ('39.5', '-89.65'), ('39.55', '-104.75'), ('39.55', '-104.9'), ('39.55', '-104.95'), ('39.55', '-105.0'), ('39.55', '-105.05'), ('39.55', '-74.5'), ('39.55', '-74.8'), ('39.55', '-76.1'), ('39.55', '-76.2'), ('39.55', '-77.05'), ('39.55', '-79.35'), ('39.55', '-79.4'), ('39.55', '-82.95'), ('39.55', '-83.0'), ('39.55', '-85.85'), ('39.55', '-85.95'), ('39.55', '-86.1'), ('39.55', '-86.6'), ('39.6', '-104.75'), ('39.6', '-104.8'), ('39.6', '-104.9'), ('39.6', '-104.95'), ('39.6', '-105.0'), ('39.6', '-74.35'), ('39.6', '-74.4'), ('39.6', '-74.45'), ('39.6', '-74.85'), ('39.6', '-74.9'), ('39.6', '-75.7'), ('39.6', '-75.75'), ('39.6', '-75.8'), ('39.6', '-75.85'), ('39.6', '-75.9'), ('39.6', '-76.05'), ('39.6', '-76.7'), ('39.6', '-77.4'), ('39.6', '-78.85'), ('39.6', '-78.95'), ('39.6', '-79.35'), ('39.6', '-79.95'), ('39.6', '-80.0'), ('39.6', '-83.0'), ('39.6', '-84.15'), ('39.6', '-84.25'), ('39.6', '-86.05'), ('39.6', '-86.1'), ('39.6', '-86.15'), ('39.65', '-104.8'), ('39.65', '-104.85'), ('39.65', '-104.9'), ('39.65', '-104.95'), ('39.65', '-105.1'), ('39.65', '-105.15'), ('39.65', '-74.25'), ('39.65', '-75.4'), ('39.65', '-75.45'), ('39.65', '-75.55'), ('39.65', '-75.6'), ('39.65', '-75.65'), ('39.65', '-75.7'), ('39.65', '-75.75'), ('39.65', '-75.8'), ('39.65', '-77.2'), ('39.65', '-77.4'), ('39.65', '-77.45'), ('39.65', '-77.6'), ('39.65', '-77.65'), ('39.65', '-77.7'), ('39.65', '-77.75'), ('39.65', '-78.75'), ('39.65', '-78.9'), ('39.65', '-78.95'), ('39.65', '-79.0'), ('39.65', '-79.9'), ('39.65', '-79.95'), ('39.65', '-80.0'), ('39.65', '-84.0'), ('39.65', '-84.15'), ('39.65', '-86.15'), ('39.65', '-86.25'), ('39.7', '-104.8'), ('39.7', '-104.85'), ('39.7', '-104.9'), ('39.7', '-104.95'), ('39.7', '-105.0'), ('39.7', '-105.05'), ('39.7', '-105.2'), ('39.7', '-105.25'), ('39.7', '-74.3'), ('39.7', '-75.0'), ('39.7', '-75.05'), ('39.7', '-75.1'), ('39.7', '-75.15'), ('39.7', '-75.3'), ('39.7', '-75.35'), ('39.7', '-75.4'), ('39.7', '-75.55'), ('39.7', '-75.6'), ('39.7', '-75.65'), ('39.7', '-75.7'), ('39.7', '-75.95'), ('39.7', '-77.3'), ('39.7', '-78.2'), ('39.7', '-78.25'), ('39.7', '-78.4'), ('39.7', '-78.6'), ('39.7', '-82.65'), ('39.7', '-84.1'), ('39.7', '-84.15'), ('39.7', '-84.2'), ('39.7', '-84.25'), ('39.7', '-84.3'), ('39.7', '-86.2'), ('39.7', '-86.3'), ('39.7', '-86.35'), ('39.7', '-89.75'), ('39.7', '-90.05'), ('39.75', '-104.8'), ('39.75', '-104.85'), ('39.75', '-104.9'), ('39.75', '-104.95'), ('39.75', '-105.0'), ('39.75', '-105.05'), ('39.75', '-74.25'), ('39.75', '-74.75'), ('39.75', '-75.0'), ('39.75', '-75.05'), ('39.75', '-75.25'), ('39.75', '-75.3'), ('39.75', '-75.35'), ('39.75', '-75.4'), ('39.75', '-75.5'), ('39.75', '-75.55'), ('39.75', '-75.6'), ('39.75', '-75.95'), ('39.75', '-76.0'), ('39.75', '-76.05'), ('39.75', '-84.1'), ('39.75', '-84.15'), ('39.75', '-84.2'), ('39.75', '-84.25'), ('39.75', '-84.3'), ('39.75', '-85.95'), ('39.75', '-86.05'), ('39.75', '-86.2'), ('39.75', '-86.25'), ('39.75', '-86.3'), ('39.75', '-89.75'), ('39.8', '-104.7'), ('39.8', '-105.0'), ('39.8', '-74.45'), ('39.8', '-74.5'), ('39.8', '-74.95'), ('39.8', '-75.0'), ('39.8', '-75.05'), ('39.8', '-75.1'), ('39.8', '-75.15'), ('39.8', '-75.2'), ('39.8', '-75.25'), ('39.8', '-75.3'), ('39.8', '-75.4'), ('39.8', '-75.45'), ('39.8', '-75.5'), ('39.8', '-75.55'), ('39.8', '-75.6'), ('39.8', '-75.9'), ('39.8', '-75.95'), ('39.8', '-76.0'), ('39.8', '-79.55'), ('39.8', '-79.65'), ('39.8', '-83.15'), ('39.8', '-84.1'), ('39.8', '-84.2'), ('39.8', '-84.25'), ('39.8', '-84.3'), ('39.8', '-85.95'), ('39.8', '-86.0'), ('39.8', '-86.05'), ('39.8', '-86.1'), ('39.8', '-86.15'), ('39.8', '-86.2'), ('39.8', '-86.25'), ('39.8', '-86.3'), ('39.8', '-89.0'), ('39.8', '-89.65'), ('39.8', '-89.7'), ('39.85', '-104.7'), ('39.85', '-105.1'), ('39.85', '-74.25'), ('39.85', '-74.75'), ('39.85', '-74.85'), ('39.85', '-75.0'), ('39.85', '-75.05'), ('39.85', '-75.1'), ('39.85', '-75.2'), ('39.85', '-75.25'), ('39.85', '-75.3'), ('39.85', '-75.35'), ('39.85', '-75.4'), ('39.85', '-75.45'), ('39.85', '-75.5'), ('39.85', '-75.55'), ('39.85', '-75.6'), ('39.85', '-75.65'), ('39.85', '-75.7'), ('39.85', '-75.75'), ('39.85', '-79.75'), ('39.85', '-80.15'), ('39.85', '-80.25'), ('39.85', '-82.8'), ('39.85', '-82.85'), ('39.85', '-82.95'), ('39.85', '-83.85'), ('39.85', '-83.95'), ('39.85', '-84.1'), ('39.85', '-84.15'), ('39.85', '-84.2'), ('39.85', '-85.95'), ('39.85', '-86.0'), ('39.85', '-86.05'), ('39.85', '-86.1'), ('39.85', '-86.15'), ('39.85', '-86.2'), ('39.85', '-86.25'), ('39.85', '-86.3'), ('39.85', '-88.95'), ('39.9', '-104.95'), ('39.9', '-105.0'), ('39.9', '-105.05'), ('39.9', '-74.15'), ('39.9', '-74.25'), ('39.9', '-74.75'), ('39.9', '-74.85'), ('39.9', '-74.9'), ('39.9', '-74.95'), ('39.9', '-75.0'), ('39.9', '-75.05'), ('39.9', '-75.1'), ('39.9', '-75.15'), ('39.9', '-75.2'), ('39.9', '-75.25'), ('39.9', '-75.3'), ('39.9', '-75.35'), ('39.9', '-75.4'), ('39.9', '-75.45'), ('39.9', '-75.5'), ('39.9', '-75.55'), ('39.9', '-75.6'), ('39.9', '-75.65'), ('39.9', '-76.0'), ('39.9', '-76.8'), ('39.9', '-76.85'), ('39.9', '-79.7'), ('39.9', '-79.75'), ('39.9', '-82.75'), ('39.9', '-82.8'), ('39.9', '-82.85'), ('39.9', '-82.9'), ('39.9', '-82.95'), ('39.9', '-83.0'), ('39.9', '-83.05'), ('39.9', '-83.15'), ('39.9', '-83.45'), ('39.9', '-83.5'), ('39.9', '-83.75'), ('39.9', '-86.0'), ('39.9', '-86.05'), ('39.9', '-86.1'), ('39.9', '-86.15'), ('39.9', '-86.2'), ('39.9', '-86.25'), ('39.9', '-86.3'), ('39.9', '-86.35'), ('39.9', '-89.0'), ('39.95', '-104.9'), ('39.95', '-111.8'), ('39.95', '-74.15'), ('39.95', '-74.2'), ('39.95', '-74.25'), ('39.95', '-74.3'), ('39.95', '-74.65'), ('39.95', '-74.7'), ('39.95', '-74.75'), ('39.95', '-74.8'), ('39.95', '-74.9'), ('39.95', '-74.95'), ('39.95', '-75.0'), ('39.95', '-75.05'), ('39.95', '-75.1'), ('39.95', '-75.15'), ('39.95', '-75.2'), ('39.95', '-75.25'), ('39.95', '-75.3'), ('39.95', '-75.35'), ('39.95', '-75.45'), ('39.95', '-75.65'), ('39.95', '-76.4'), ('39.95', '-76.8'), ('39.95', '-78.75'), ('39.95', '-78.95'), ('39.95', '-79.65'), ('39.95', '-79.75'), ('39.95', '-82.8'), ('39.95', '-82.85'), ('39.95', '-82.9'), ('39.95', '-82.95'), ('39.95', '-83.0'), ('39.95', '-83.05'), ('39.95', '-83.1'), ('39.95', '-83.15'), ('39.95', '-83.25'), ('39.95', '-83.4'), ('39.95', '-85.9'), ('39.95', '-85.95'), ('39.95', '-86.0'), ('39.95', '-86.05'), ('39.95', '-86.2'), ('40.0', '-74.15'), ('40.0', '-74.2'), ('40.0', '-74.65'), ('40.0', '-74.75'), ('40.0', '-74.85'), ('40.0', '-74.9'), ('40.0', '-74.95'), ('40.0', '-75.0'), ('40.0', '-75.05'), ('40.0', '-75.1'), ('40.0', '-75.15'), ('40.0', '-75.2'), ('40.0', '-75.25'), ('40.0', '-75.3'), ('40.0', '-75.35'), ('40.0', '-75.45'), ('40.0', '-75.65'), ('40.0', '-75.75'), ('40.0', '-75.8'), ('40.0', '-78.1'), ('40.0', '-82.5'), ('40.0', '-82.8'), ('40.0', '-82.9'), ('40.0', '-82.95'), ('40.0', '-83.0'), ('40.0', '-83.05'), ('40.0', '-83.1'), ('40.0', '-83.15'), ('40.0', '-85.75'), ('40.0', '-86.0'), ('40.0', '-86.15'), ('40.05', '-102.2'), ('40.05', '-102.25'), ('40.05', '-102.3'), ('40.05', '-74.1'), ('40.05', '-74.15'), ('40.05', '-74.2'), ('40.05', '-74.75'), ('40.05', '-74.8'), ('40.05', '-74.85'), ('40.05', '-74.9'), ('40.05', '-74.95'), ('40.05', '-75.0'), ('40.05', '-75.05'), ('40.05', '-75.1'), ('40.05', '-75.15'), ('40.05', '-75.2'), ('40.05', '-75.25'), ('40.05', '-75.3'), ('40.05', '-75.35'), ('40.05', '-75.4'), ('40.05', '-75.45'), ('40.05', '-75.7'), ('40.05', '-76.45'), ('40.05', '-82.45'), ('40.05', '-82.5'), ('40.05', '-82.85'), ('40.05', '-82.9'), ('40.05', '-82.95'), ('40.05', '-83.0'), ('40.05', '-83.05'), ('40.05', '-83.1'), ('40.05', '-83.15'), ('40.05', '-85.7'), ('40.05', '-88.25'), ('40.05', '-88.3'), ('40.05', '-89.5'), ('40.1', '-74.1'), ('40.1', '-74.15'), ('40.1', '-74.7'), ('40.1', '-74.75'), ('40.1', '-74.8'), ('40.1', '-74.85'), ('40.1', '-74.9'), ('40.1', '-75.0'), ('40.1', '-75.1'), ('40.1', '-75.15'), ('40.1', '-75.2'), ('40.1', '-75.25'), ('40.1', '-75.3'), ('40.1', '-75.35'), ('40.1', '-75.4'), ('40.1', '-75.45'), ('40.1', '-75.5'), ('40.1', '-75.55'), ('40.1', '-75.7'), ('40.1', '-75.8'), ('40.1', '-82.95'), ('40.1', '-83.0'), ('40.1', '-83.05'), ('40.1', '-85.4'), ('40.1', '-85.65'), ('40.1', '-85.7'), ('40.1', '-85.75'), ('40.1', '-88.25'), ('40.1', '-88.3'), ('40.15', '-105.0'), ('40.15', '-74.05'), ('40.15', '-74.1'), ('40.15', '-74.45'), ('40.15', '-74.6'), ('40.15', '-74.65'), ('40.15', '-74.7'), ('40.15', '-74.8'), ('40.15', '-74.9'), ('40.15', '-74.95'), ('40.15', '-75.15'), ('40.15', '-75.3'), ('40.15', '-75.85'), ('40.15', '-76.75'), ('40.15', '-79.8'), ('40.15', '-80.15'), ('40.15', '-80.6'), ('40.15', '-82.95'), ('40.15', '-85.35'), ('40.15', '-85.4'), ('40.15', '-85.45'), ('40.15', '-85.7'), ('40.15', '-88.3'), ('40.2', '-111.7'), ('40.2', '-116.65'), ('40.2', '-74.05'), ('40.2', '-74.1'), ('40.2', '-74.3'), ('40.2', '-74.35'), ('40.2', '-74.55'), ('40.2', '-74.7'), ('40.2', '-74.75'), ('40.2', '-74.8'), ('40.2', '-74.85'), ('40.2', '-75.15'), ('40.2', '-75.25'), ('40.2', '-75.3'), ('40.2', '-75.35'), ('40.2', '-75.55'), ('40.2', '-75.7'), ('40.2', '-76.75'), ('40.2', '-76.8'), ('40.2', '-77.05'), ('40.2', '-79.9'), ('40.2', '-80.55'), ('40.2', '-81.6'), ('40.2', '-82.95'), ('40.2', '-85.4'), ('40.2', '-85.45'), ('40.2', '-85.85'), ('40.2', '-88.25'), ('40.25', '-74.0'), ('40.25', '-74.05'), ('40.25', '-74.1'), ('40.25', '-74.3'), ('40.25', '-74.55'), ('40.25', '-74.6'), ('40.25', '-74.7'), ('40.25', '-74.75'), ('40.25', '-74.8'), ('40.25', '-74.85'), ('40.25', '-75.85'), ('40.25', '-76.05'), ('40.25', '-76.8'), ('40.25', '-76.9'), ('40.25', '-79.45'), ('40.25', '-79.55'), ('40.25', '-79.6'), ('40.25', '-79.9'), ('40.25', '-82.95'), ('40.25', '-85.45'), ('40.25', '-85.8'), ('40.3', '-111.7'), ('40.3', '-74.0'), ('40.3', '-74.1'), ('40.3', '-74.2'), ('40.3', '-74.3'), ('40.3', '-74.4'), ('40.3', '-74.5'), ('40.3', '-74.65'), ('40.3', '-74.7'), ('40.3', '-75.9'), ('40.3', '-75.95'), ('40.3', '-76.0'), ('40.3', '-76.6'), ('40.3', '-76.85'), ('40.3', '-79.35'), ('40.3', '-79.4'), ('40.3', '-79.55'), ('40.3', '-79.85'), ('40.3', '-79.9'), ('40.3', '-79.95'), ('40.3', '-80.0'), ('40.3', '-80.05'), ('40.3', '-82.95'), ('40.3', '-84.2'), ('40.3', '-88.2'), ('40.35', '-104.7'), ('40.35', '-104.75'), ('40.35', '-74.1'), ('40.35', '-74.15'), ('40.35', '-74.25'), ('40.35', '-74.5'), ('40.35', '-75.95'), ('40.35', '-76.0'), ('40.35', '-79.85'), ('40.35', '-79.9'), ('40.35', '-79.95'), ('40.35', '-80.0'), ('40.35', '-80.05'), ('40.35', '-80.1'), ('40.35', '-80.15'), ('40.35', '-80.65'), ('40.35', '-83.8'), ('40.35', '-84.2'), ('40.4', '-104.75'), ('40.4', '-116.6'), ('40.4', '-74.0'), ('40.4', '-74.05'), ('40.4', '-74.15'), ('40.4', '-74.25'), ('40.4', '-74.3'), ('40.4', '-74.4'), ('40.4', '-74.45'), ('40.4', '-74.5'), ('40.4', '-74.55'), ('40.4', '-74.6'), ('40.4', '-75.95'), ('40.4', '-79.6'), ('40.4', '-79.65'), ('40.4', '-79.7'), ('40.4', '-79.75'), ('40.4', '-79.8'), ('40.4', '-79.85'), ('40.4', '-79.9'), ('40.4', '-79.95'), ('40.4', '-80.0'), ('40.4', '-80.05'), ('40.4', '-80.1'), ('40.4', '-81.55'), ('40.4', '-86.85'), ('40.45', '-105.0'), ('40.45', '-74.3'), ('40.45', '-74.35'), ('40.45', '-74.4'), ('40.45', '-74.45'), ('40.45', '-74.5'), ('40.45', '-74.55'), ('40.45', '-74.6'), ('40.45', '-75.5'), ('40.45', '-78.4'), ('40.45', '-79.85'), ('40.45', '-79.9'), ('40.45', '-79.95'), ('40.45', '-80.0'), ('40.45', '-80.05'), ('40.45', '-80.1'), ('40.45', '-80.2'), ('40.45', '-80.25'), ('40.45', '-80.3'), ('40.45', '-81.5'), ('40.45', '-82.8'), ('40.45', '-90.7'), ('40.45', '-91.45'), ('40.5', '-105.1'), ('40.5', '-74.05'), ('40.5', '-74.25'), ('40.5', '-74.3'), ('40.5', '-74.35'), ('40.5', '-74.4'), ('40.5', '-74.45'), ('40.5', '-74.5'), ('40.5', '-74.55'), ('40.5', '-74.65'), ('40.5', '-75.8'), ('40.5', '-78.4'), ('40.5', '-79.85'), ('40.5', '-79.95'), ('40.5', '-80.05'), ('40.5', '-80.25'), ('40.5', '-81.5'), ('40.5', '-82.7'), ('40.5', '-89.0'), ('40.5', '-89.05'), ('40.55', '-105.1'), ('40.55', '-105.15'), ('40.55', '-111.45'), ('40.55', '-111.9'), ('40.55', '-73.65'), ('40.55', '-73.7'), ('40.55', '-73.75'), ('40.55', '-73.8'), ('40.55', '-73.85'), ('40.55', '-73.9'), ('40.55', '-73.95'), ('40.55', '-74.0'), ('40.55', '-74.05'), ('40.55', '-74.1'), ('40.55', '-74.15'), ('40.55', '-74.2'), ('40.55', '-74.25'), ('40.55', '-74.3'), ('40.55', '-74.35'), ('40.55', '-74.4'), ('40.55', '-74.45'), ('40.55', '-74.5'), ('40.55', '-74.55'), ('40.55', '-74.6'), ('40.55', '-74.65'), ('40.55', '-74.75'), ('40.55', '-75.35'), ('40.55', '-75.4'), ('40.55', '-75.5'), ('40.55', '-79.6'), ('40.55', '-79.8'), ('40.55', '-79.85'), ('40.55', '-80.0'), ('40.55', '-80.05'), ('40.55', '-80.2'), ('40.55', '-82.65'), ('40.55', '-84.3'), ('40.55', '-90.7'), ('40.6', '-111.5'), ('40.6', '-73.6'), ('40.6', '-73.65'), ('40.6', '-73.7'), ('40.6', '-73.75'), ('40.6', '-73.8'), ('40.6', '-73.85'), ('40.6', '-73.9'), ('40.6', '-73.95'), ('40.6', '-74.0'), ('40.6', '-74.05'), ('40.6', '-74.1'), ('40.6', '-74.15'), ('40.6', '-74.2'), ('40.6', '-74.25'), ('40.6', '-74.3'), ('40.6', '-74.35'), ('40.6', '-74.4'), ('40.6', '-74.45'), ('40.6', '-74.5'), ('40.6', '-74.65'), ('40.6', '-74.75'), ('40.6', '-75.0'), ('40.6', '-75.4'), ('40.6', '-75.45'), ('40.6', '-75.5'), ('40.6', '-79.15'), ('40.6', '-79.2'), ('40.6', '-80.1'), ('40.6', '-83.65'), ('40.6', '-84.55'), ('40.6', '-88.05'), ('40.6', '-88.3'), ('40.6', '-89.7'), ('40.65', '-111.55'), ('40.65', '-73.3'), ('40.65', '-73.35'), ('40.65', '-73.4'), ('40.65', '-73.45'), ('40.65', '-73.5'), ('40.65', '-73.55'), ('40.65', '-73.6'), ('40.65', '-73.65'), ('40.65', '-73.7'), ('40.65', '-73.75'), ('40.65', '-73.8'), ('40.65', '-73.85'), ('40.65', '-73.9'), ('40.65', '-73.95'), ('40.65', '-74.0'), ('40.65', '-74.05'), ('40.65', '-74.1'), ('40.65', '-74.15'), ('40.65', '-74.2'), ('40.65', '-74.25'), ('40.65', '-74.3'), ('40.65', '-74.35'), ('40.65', '-74.4'), ('40.65', '-74.45'), ('40.65', '-74.5'), ('40.65', '-74.6'), ('40.65', '-75.1'), ('40.65', '-75.2'), ('40.65', '-75.25'), ('40.65', '-75.3'), ('40.65', '-75.45'), ('40.65', '-75.5'), ('40.65', '-75.55'), ('40.65', '-78.3'), ('40.65', '-80.1'), ('40.65', '-84.65'), ('40.65', '-89.6'), ('40.7', '-111.9'), ('40.7', '-73.2'), ('40.7', '-73.25'), ('40.7', '-73.3'), ('40.7', '-73.35'), ('40.7', '-73.4'), ('40.7', '-73.45'), ('40.7', '-73.5'), ('40.7', '-73.55'), ('40.7', '-73.6'), ('40.7', '-73.65'), ('40.7', '-73.7'), ('40.7', '-73.75'), ('40.7', '-73.8'), ('40.7', '-73.85'), ('40.7', '-73.9'), ('40.7', '-73.95'), ('40.7', '-74.0'), ('40.7', '-74.05'), ('40.7', '-74.1'), ('40.7', '-74.15'), ('40.7', '-74.2'), ('40.7', '-74.25'), ('40.7', '-74.3'), ('40.7', '-74.35'), ('40.7', '-74.4'), ('40.7', '-80.15'), ('40.7', '-82.55'), ('40.7', '-83.2'), ('40.7', '-84.6'), ('40.7', '-89.55'), ('40.7', '-89.6'), ('40.7', '-89.65'), ('40.7', '-89.7'), ('40.75', '-111.9'), ('40.75', '-112.0'), ('40.75', '-72.85'), ('40.75', '-72.9'), ('40.75', '-73.0'), ('40.75', '-73.05'), ('40.75', '-73.1'), ('40.75', '-73.15'), ('40.75', '-73.2'), ('40.75', '-73.25'), ('40.75', '-73.3'), ('40.75', '-73.35'), ('40.75', '-73.4'), ('40.75', '-73.45'), ('40.75', '-73.5'), ('40.75', '-73.55'), ('40.75', '-73.6'), ('40.75', '-73.65'), ('40.75', '-73.7'), ('40.75', '-73.75'), ('40.75', '-73.8'), ('40.75', '-73.85'), ('40.75', '-73.9'), ('40.75', '-73.95'), ('40.75', '-74.0'), ('40.75', '-74.05'), ('40.75', '-74.1'), ('40.75', '-74.15'), ('40.75', '-74.2'), ('40.75', '-74.25'), ('40.75', '-74.3'), ('40.75', '-74.35'), ('40.75', '-74.4'), ('40.75', '-74.45'), ('40.75', '-75.55'), ('40.75', '-76.25'), ('40.75', '-77.7'), ('40.75', '-77.85'), ('40.75', '-77.9'), ('40.75', '-78.15'), ('40.75', '-81.45'), ('40.75', '-81.55'), ('40.75', '-81.95'), ('40.75', '-82.4'), ('40.75', '-82.45'), ('40.75', '-89.6'), ('40.75', '-89.65'), ('40.75', '-89.7'), ('40.75', '-96.7'), ('40.75', '-96.75'), ('40.8', '-111.95'), ('40.8', '-72.75'), ('40.8', '-72.85'), ('40.8', '-72.9'), ('40.8', '-73.0'), ('40.8', '-73.05'), ('40.8', '-73.1'), ('40.8', '-73.15'), ('40.8', '-73.2'), ('40.8', '-73.25'), ('40.8', '-73.3'), ('40.8', '-73.35'), ('40.8', '-73.4'), ('40.8', '-73.45'), ('40.8', '-73.5'), ('40.8', '-73.55'), ('40.8', '-73.6'), ('40.8', '-73.65'), ('40.8', '-73.7'), ('40.8', '-73.75'), ('40.8', '-73.8'), ('40.8', '-73.85'), ('40.8', '-73.9'), ('40.8', '-73.95'), ('40.8', '-74.0'), ('40.8', '-74.05'), ('40.8', '-74.1'), ('40.8', '-74.15'), ('40.8', '-74.2'), ('40.8', '-74.25'), ('40.8', '-74.3'), ('40.8', '-74.35'), ('40.8', '-74.45'), ('40.8', '-74.5'), ('40.8', '-74.55'), ('40.8', '-74.6'), ('40.8', '-75.75'), ('40.8', '-76.9'), ('40.8', '-77.85'), ('40.8', '-77.9'), ('40.8', '-81.95'), ('40.8', '-82.3'), ('40.8', '-84.35'), ('40.8', '-96.65'), ('40.8', '-96.7'), ('40.8', '-96.75'), ('40.85', '-72.4'), ('40.85', '-72.45'), ('40.85', '-72.7'), ('40.85', '-72.95'), ('40.85', '-73.05'), ('40.85', '-73.1'), ('40.85', '-73.15'), ('40.85', '-73.25'), ('40.85', '-73.35'), ('40.85', '-73.45'), ('40.85', '-73.65'), ('40.85', '-73.8'), ('40.85', '-73.85'), ('40.85', '-73.9'), ('40.85', '-73.95'), ('40.85', '-74.0'), ('40.85', '-74.05'), ('40.85', '-74.1'), ('40.85', '-74.15'), ('40.85', '-74.2'), ('40.85', '-74.25'), ('40.85', '-74.3'), ('40.85', '-74.35'), ('40.85', '-74.4'), ('40.85', '-74.45'), ('40.85', '-74.5'), ('40.85', '-74.55'), ('40.85', '-74.6'), ('40.85', '-74.7'), ('40.85', '-74.75'), ('40.85', '-75.35'), ('40.85', '-80.75'), ('40.85', '-81.2'), ('40.85', '-81.4'), ('40.85', '-81.45'), ('40.85', '-81.8'), ('40.85', '-84.5'), ('40.85', '-84.6'), ('40.85', '-88.0'), ('40.85', '-96.65'), ('40.9', '-117.8'), ('40.9', '-72.3'), ('40.9', '-72.35'), ('40.9', '-72.65'), ('40.9', '-72.7'), ('40.9', '-72.75'), ('40.9', '-72.9'), ('40.9', '-73.1'), ('40.9', '-73.15'), ('40.9', '-73.8'), ('40.9', '-73.85'), ('40.9', '-73.9'), ('40.9', '-73.95'), ('40.9', '-74.0'), ('40.9', '-74.05'), ('40.9', '-74.1'), ('40.9', '-74.15'), ('40.9', '-74.2'), ('40.9', '-74.25'), ('40.9', '-74.3'), ('40.9', '-74.75'), ('40.9', '-74.8'), ('40.9', '-74.95'), ('40.9', '-75.1'), ('40.9', '-75.35'), ('40.9', '-76.05'), ('40.9', '-76.9'), ('40.9', '-77.05'), ('40.9', '-77.1'), ('40.9', '-77.15'), ('40.9', '-80.7'), ('40.9', '-81.15'), ('40.9', '-81.4'), ('40.9', '-81.45'), ('40.9', '-81.8'), ('40.9', '-82.15'), ('40.9', '-85.35'), ('40.95', '-117.75'), ('40.95', '-117.8'), ('40.95', '-72.95'), ('40.95', '-73.7'), ('40.95', '-73.75'), ('40.95', '-73.8'), ('40.95', '-73.85'), ('40.95', '-73.9'), ('40.95', '-73.95'), ('40.95', '-74.0'), ('40.95', '-74.05'), ('40.95', '-74.1'), ('40.95', '-74.15'), ('40.95', '-74.25'), ('40.95', '-74.3'), ('40.95', '-75.15'), ('40.95', '-75.2'), ('40.95', '-75.25'), ('40.95', '-75.3'), ('40.95', '-75.45'), ('40.95', '-76.0'), ('40.95', '-76.05'), ('40.95', '-76.45'), ('40.95', '-76.65'), ('40.95', '-76.9'), ('40.95', '-77.8'), ('40.95', '-80.35'), ('40.95', '-80.4'), ('40.95', '-80.7'), ('40.95', '-82.05'), ('40.95', '-84.8'), ('40.95', '-85.1'), ('40.95', '-85.2'), ('40.95', '-85.25'), ('41.0', '-117.7'), ('41.0', '-73.55'), ('41.0', '-73.6'), ('41.0', '-73.65'), ('41.0', '-73.7'), ('41.0', '-73.75'), ('41.0', '-73.8'), ('41.0', '-73.85'), ('41.0', '-73.9'), ('41.0', '-73.95'), ('41.0', '-74.15'), ('41.0', '-74.3'), ('41.0', '-74.4'), ('41.0', '-74.5'), ('41.0', '-74.75'), ('41.0', '-75.15'), ('41.0', '-75.2'), ('41.0', '-75.25'), ('41.0', '-75.3'), ('41.0', '-75.35'), ('41.0', '-76.45'), ('41.0', '-76.5'), ('41.0', '-80.35'), ('41.0', '-80.4'), ('41.0', '-80.6'), ('41.0', '-80.65'), ('41.0', '-80.7'), ('41.0', '-81.3'), ('41.0', '-81.45'), ('41.0', '-81.5'), ('41.0', '-81.55'), ('41.0', '-81.6'), ('41.0', '-81.65'), ('41.0', '-81.75'), ('41.0', '-81.95'), ('41.0', '-85.15'), ('41.0', '-85.25'), ('41.0', '-85.3'), ('41.0', '-93.8'), ('41.05', '-73.45'), ('41.05', '-73.5'), ('41.05', '-73.55'), ('41.05', '-73.6'), ('41.05', '-73.75'), ('41.05', '-73.8'), ('41.05', '-73.85'), ('41.05', '-73.9'), ('41.05', '-73.95'), ('41.05', '-74.0'), ('41.05', '-74.05'), ('41.05', '-74.15'), ('41.05', '-74.2'), ('41.05', '-74.5'), ('41.05', '-74.7'), ('41.05', '-74.75'), ('41.05', '-74.8'), ('41.05', '-75.1'), ('41.05', '-75.35'), ('41.05', '-75.75'), ('41.05', '-77.05'), ('41.05', '-80.6'), ('41.05', '-80.65'), ('41.05', '-80.7'), ('41.05', '-81.4'), ('41.05', '-81.5'), ('41.05', '-81.55'), ('41.05', '-81.6'), ('41.05', '-81.7'), ('41.05', '-81.85'), ('41.05', '-85.1'), ('41.05', '-85.15'), ('41.05', '-85.2'), ('41.05', '-85.25'), ('41.05', '-85.3'), ('41.1', '-73.25'), ('41.1', '-73.3'), ('41.1', '-73.35'), ('41.1', '-73.4'), ('41.1', '-73.45'), ('41.1', '-73.5'), ('41.1', '-73.55'), ('41.1', '-73.6'), ('41.1', '-73.75'), ('41.1', '-73.8'), ('41.1', '-73.85'), ('41.1', '-73.9'), ('41.1', '-73.95'), ('41.1', '-74.0'), ('41.1', '-74.05'), ('41.1', '-74.1'), ('41.1', '-74.15'), ('41.1', '-74.2'), ('41.1', '-74.6'), ('41.1', '-75.05'), ('41.1', '-75.4'), ('41.1', '-75.55'), ('41.1', '-76.0'), ('41.1', '-80.45'), ('41.1', '-80.6'), ('41.1', '-80.65'), ('41.1', '-80.7'), ('41.1', '-80.75'), ('41.1', '-81.35'), ('41.1', '-81.4'), ('41.1', '-81.45'), ('41.1', '-81.5'), ('41.1', '-81.55'), ('41.1', '-81.6'), ('41.1', '-81.65'), ('41.1', '-81.7'), ('41.1', '-81.85'), ('41.1', '-83.2'), ('41.1', '-85.05'), ('41.1', '-85.1'), ('41.1', '-85.15'), ('41.1', '-85.2'), ('41.1', '-89.1'), ('41.1', '-95.95'), ('41.15', '-73.1'), ('41.15', '-73.15'), ('41.15', '-73.2'), ('41.15', '-73.25'), ('41.15', '-73.3'), ('41.15', '-73.4'), ('41.15', '-73.75'), ('41.15', '-73.8'), ('41.15', '-73.85'), ('41.15', '-73.9'), ('41.15', '-74.0'), ('41.15', '-74.05'), ('41.15', '-74.1'), ('41.15', '-74.2'), ('41.15', '-74.6'), ('41.15', '-74.65'), ('41.15', '-75.35'), ('41.15', '-75.4'), ('41.15', '-75.45'), ('41.15', '-75.95'), ('41.15', '-76.0'), ('41.15', '-80.45'), ('41.15', '-80.5'), ('41.15', '-80.55'), ('41.15', '-80.7'), ('41.15', '-80.75'), ('41.15', '-81.25'), ('41.15', '-81.3'), ('41.15', '-81.35'), ('41.15', '-81.4'), ('41.15', '-81.45'), ('41.15', '-81.5'), ('41.15', '-81.55'), ('41.15', '-83.7'), ('41.15', '-85.15'), ('41.15', '-85.2'), ('41.15', '-89.1'), ('41.2', '-73.05'), ('41.2', '-73.1'), ('41.2', '-73.15'), ('41.2', '-73.2'), ('41.2', '-73.25'), ('41.2', '-73.7'), ('41.2', '-73.75'), ('41.2', '-73.85'), ('41.2', '-74.0'), ('41.2', '-74.05'), ('41.2', '-74.1'), ('41.2', '-75.5'), ('41.2', '-75.85'), ('41.2', '-75.9'), ('41.2', '-80.5'), ('41.2', '-80.55'), ('41.2', '-80.75'), ('41.2', '-80.85'), ('41.2', '-80.9'), ('41.2', '-81.15'), ('41.2', '-81.2'), ('41.2', '-81.35'), ('41.2', '-81.4'), ('41.2', '-81.5'), ('41.2', '-85.85'), ('41.2', '-85.9'), ('41.2', '-87.9'), ('41.2', '-95.85'), ('41.2', '-95.9'), ('41.2', '-95.95'), ('41.2', '-96.1'), ('41.25', '-72.4'), ('41.25', '-72.45'), ('41.25', '-72.5'), ('41.25', '-72.55'), ('41.25', '-72.6'), ('41.25', '-72.9'), ('41.25', '-72.95'), ('41.25', '-73.0'), ('41.25', '-73.1'), ('41.25', '-73.15'), ('41.25', '-73.2'), ('41.25', '-73.7'), ('41.25', '-73.95'), ('41.25', '-74.0'), ('41.25', '-75.55'), ('41.25', '-75.9'), ('41.25', '-80.9'), ('41.25', '-81.4'), ('41.25', '-81.45'), ('41.25', '-81.65'), ('41.25', '-81.7'), ('41.25', '-81.85'), ('41.25', '-85.85'), ('41.25', '-85.9'), ('41.25', '-87.85'), ('41.25', '-95.8'), ('41.25', '-95.85'), ('41.25', '-95.9'), ('41.25', '-95.95'), ('41.25', '-96.0'), ('41.25', '-96.05'), ('41.25', '-96.1'), ('41.3', '-72.05'), ('41.3', '-72.1'), ('41.3', '-72.9'), ('41.3', '-72.95'), ('41.3', '-73.0'), ('41.3', '-73.05'), ('41.3', '-73.1'), ('41.3', '-73.9'), ('41.3', '-74.15'), ('41.3', '-81.4'), ('41.3', '-81.45'), ('41.3', '-81.5'), ('41.3', '-81.55'), ('41.3', '-81.6'), ('41.3', '-81.65'), ('41.3', '-81.7'), ('41.3', '-81.85'), ('41.3', '-82.5'), ('41.3', '-83.65'), ('41.3', '-89.1'), ('41.3', '-89.25'), ('41.3', '-95.95'), ('41.3', '-96.0'), ('41.3', '-96.1'), ('41.35', '-71.6'), ('41.35', '-71.7'), ('41.35', '-71.85'), ('41.35', '-72.0'), ('41.35', '-72.05'), ('41.35', '-72.1'), ('41.35', '-72.15'), ('41.35', '-72.6'), ('41.35', '-72.9'), ('41.35', '-72.95'), ('41.35', '-73.45'), ('41.35', '-73.5'), ('41.35', '-73.55'), ('41.35', '-73.6'), ('41.35', '-74.0'), ('41.35', '-74.35'), ('41.35', '-74.4'), ('41.35', '-75.7'), ('41.35', '-80.85'), ('41.35', '-81.4'), ('41.35', '-81.45'), ('41.35', '-81.5'), ('41.35', '-81.55'), ('41.35', '-81.6'), ('41.35', '-81.65'), ('41.35', '-81.7'), ('41.35', '-81.75'), ('41.35', '-81.8'), ('41.35', '-81.85'), ('41.35', '-81.9'), ('41.35', '-82.0'), ('41.35', '-82.2'), ('41.35', '-82.4'), ('41.35', '-82.95'), ('41.35', '-83.1'), ('41.35', '-83.15'), ('41.35', '-83.45'), ('41.35', '-83.65'), ('41.35', '-89.15'), ('41.35', '-93.4'), ('41.35', '-95.9'), ('41.4', '-71.5'), ('41.4', '-71.55'), ('41.4', '-72.0'), ('41.4', '-72.15'), ('41.4', '-72.85'), ('41.4', '-72.9'), ('41.4', '-72.95'), ('41.4', '-73.0'), ('41.4', '-73.05'), ('41.4', '-73.4'), ('41.4', '-73.45'), ('41.4', '-73.5'), ('41.4', '-73.6'), ('41.4', '-73.65'), ('41.4', '-73.7'), ('41.4', '-74.1'), ('41.4', '-74.35'), ('41.4', '-74.4'), ('41.4', '-74.45'), ('41.4', '-75.7'), ('41.4', '-81.3'), ('41.4', '-81.45'), ('41.4', '-81.5'), ('41.4', '-81.55'), ('41.4', '-81.6'), ('41.4', '-81.65'), ('41.4', '-81.7'), ('41.4', '-81.75'), ('41.4', '-81.8'), ('41.4', '-81.85'), ('41.4', '-81.9'), ('41.4', '-82.1'), ('41.4', '-82.65'), ('41.4', '-83.15'), ('41.4', '-83.3'), ('41.4', '-83.65'), ('41.4', '-86.4'), ('41.4', '-87.35'), ('41.4', '-87.8'), ('41.4', '-96.5'), ('41.45', '-71.55'), ('41.45', '-71.6'), ('41.45', '-71.95'), ('41.45', '-72.0'), ('41.45', '-72.05'), ('41.45', '-72.1'), ('41.45', '-72.15'), ('41.45', '-72.8'), ('41.45', '-72.85'), ('41.45', '-73.2'), ('41.45', '-73.25'), ('41.45', '-73.4'), ('41.45', '-73.45'), ('41.45', '-73.5'), ('41.45', '-73.55'), ('41.45', '-73.65'), ('41.45', '-74.05'), ('41.45', '-74.1'), ('41.45', '-74.3'), ('41.45', '-74.35'), ('41.45', '-74.4'), ('41.45', '-74.45'), ('41.45', '-75.7'), ('41.45', '-81.5'), ('41.45', '-81.55'), ('41.45', '-81.6'), ('41.45', '-81.65'), ('41.45', '-81.7'), ('41.45', '-81.75'), ('41.45', '-81.8'), ('41.45', '-81.85'), ('41.45', '-81.9'), ('41.45', '-81.95'), ('41.45', '-82.0'), ('41.45', '-82.15'), ('41.45', '-82.85'), ('41.45', '-87.05'), ('41.45', '-87.1'), ('41.45', '-87.45'), ('41.45', '-87.65'), ('41.45', '-87.75'), ('41.45', '-88.25'), ('41.45', '-96.5'), ('41.5', '-71.5'), ('41.5', '-71.55'), ('41.5', '-72.1'), ('41.5', '-72.15'), ('41.5', '-72.65'), ('41.5', '-72.8'), ('41.5', '-72.85'), ('41.5', '-72.9'), ('41.5', '-73.0'), ('41.5', '-73.05'), ('41.5', '-73.1'), ('41.5', '-73.15'), ('41.5', '-73.6'), ('41.5', '-73.65'), ('41.5', '-73.75'), ('41.5', '-73.85'), ('41.5', '-74.0'), ('41.5', '-74.05'), ('41.5', '-74.1'), ('41.5', '-74.45'), ('41.5', '-81.45'), ('41.5', '-81.5'), ('41.5', '-81.55'), ('41.5', '-81.6'), ('41.5', '-81.65'), ('41.5', '-81.7'), ('41.5', '-81.75'), ('41.5', '-83.45'), ('41.5', '-83.65'), ('41.5', '-83.9'), ('41.5', '-87.4'), ('41.5', '-87.45'), ('41.5', '-87.6'), ('41.5', '-87.65'), ('41.5', '-87.7'), ('41.5', '-87.75'), ('41.5', '-87.8'), ('41.5', '-93.8'), ('41.5', '-95.9'), ('41.5', '-95.95'), ('41.55', '-109.3'), ('41.55', '-71.55'), ('41.55', '-72.05'), ('41.55', '-72.2'), ('41.55', '-72.65'), ('41.55', '-72.7'), ('41.55', '-72.75'), ('41.55', '-72.85'), ('41.55', '-72.9'), ('41.55', '-72.95'), ('41.55', '-73.0'), ('41.55', '-73.05'), ('41.55', '-73.1'), ('41.55', '-73.6'), ('41.55', '-73.85'), ('41.55', '-73.9'), ('41.55', '-74.1'), ('41.55', '-75.7'), ('41.55', '-81.4'), ('41.55', '-81.45'), ('41.55', '-81.5'), ('41.55', '-81.55'), ('41.55', '-81.6'), ('41.55', '-81.65'), ('41.55', '-83.5'), ('41.55', '-83.6'), ('41.55', '-83.7'), ('41.55', '-83.75'), ('41.55', '-84.05'), ('41.55', '-84.25'), ('41.55', '-87.05'), ('41.55', '-87.1'), ('41.55', '-87.15'), ('41.55', '-87.2'), ('41.55', '-87.25'), ('41.55', '-87.45'), ('41.55', '-87.5'), ('41.55', '-87.55'), ('41.55', '-87.6'), ('41.55', '-87.65'), ('41.55', '-87.7'), ('41.55', '-87.75'), ('41.55', '-87.8'), ('41.55', '-87.85'), ('41.55', '-88.2'), ('41.55', '-90.6'), ('41.55', '-90.65'), ('41.55', '-93.55'), ('41.55', '-93.6'), ('41.55', '-93.7'), ('41.55', '-93.75'), ('41.55', '-93.8'), ('41.55', '-93.95'), ('41.55', '-95.95'), ('41.6', '-70.95'), ('41.6', '-71.0'), ('41.6', '-71.05'), ('41.6', '-71.25'), ('41.6', '-71.5'), ('41.6', '-72.5'), ('41.6', '-72.7'), ('41.6', '-72.75'), ('41.6', '-72.8'), ('41.6', '-72.9'), ('41.6', '-73.1'), ('41.6', '-73.95'), ('41.6', '-74.1'), ('41.6', '-74.6'), ('41.6', '-81.4'), ('41.6', '-81.45'), ('41.6', '-81.5'), ('41.6', '-81.55'), ('41.6', '-83.55'), ('41.6', '-83.6'), ('41.6', '-83.65'), ('41.6', '-83.7'), ('41.6', '-83.75'), ('41.6', '-87.0'), ('41.6', '-87.05'), ('41.6', '-87.15'), ('41.6', '-87.35'), ('41.6', '-87.4'), ('41.6', '-87.45'), ('41.6', '-87.5'), ('41.6', '-87.55'), ('41.6', '-87.6'), ('41.6', '-87.65'), ('41.6', '-87.7'), ('41.6', '-87.75'), ('41.6', '-87.85'), ('41.6', '-87.9'), ('41.6', '-93.7'), ('41.6', '-93.75'), ('41.6', '-93.8'), ('41.65', '-70.3'), ('41.65', '-70.35'), ('41.65', '-70.95'), ('41.65', '-71.0'), ('41.65', '-71.45'), ('41.65', '-71.5'), ('41.65', '-71.55'), ('41.65', '-72.65'), ('41.65', '-72.7'), ('41.65', '-72.75'), ('41.65', '-72.8'), ('41.65', '-72.85'), ('41.65', '-72.9'), ('41.65', '-72.95'), ('41.65', '-73.9'), ('41.65', '-73.95'), ('41.65', '-74.1'), ('41.65', '-74.7'), ('41.65', '-75.65'), ('41.65', '-81.25'), ('41.65', '-81.35'), ('41.65', '-81.4'), ('41.65', '-81.45'), ('41.65', '-83.6'), ('41.65', '-83.65'), ('41.65', '-83.7'), ('41.65', '-86.1'), ('41.65', '-86.15'), ('41.65', '-86.3'), ('41.65', '-86.9'), ('41.65', '-87.0'), ('41.65', '-87.6'), ('41.65', '-87.65'), ('41.65', '-87.7'), ('41.65', '-87.75'), ('41.65', '-87.8'), ('41.65', '-88.1'), ('41.65', '-88.15'), ('41.65', '-88.2'), ('41.65', '-88.3'), ('41.65', '-88.4'), ('41.65', '-90.15'), ('41.65', '-91.55'), ('41.65', '-92.5'), ('41.65', '-93.6'), ('41.65', '-96.35'), ('41.7', '-71.0'), ('41.7', '-71.3'), ('41.7', '-71.35'), ('41.7', '-71.4'), ('41.7', '-71.45'), ('41.7', '-71.5'), ('41.7', '-71.55'), ('41.7', '-72.2'), ('41.7', '-72.25'), ('41.7', '-72.4'), ('41.7', '-72.65'), ('41.7', '-72.7'), ('41.7', '-72.75'), ('41.7', '-72.8'), ('41.7', '-73.4'), ('41.7', '-73.9'), ('41.7', '-73.95'), ('41.7', '-74.1'), ('41.7', '-74.4'), ('41.7', '-74.7'), ('41.7', '-75.55'), ('41.7', '-75.7'), ('41.7', '-81.3'), ('41.7', '-81.35'), ('41.7', '-83.5'), ('41.7', '-83.7'), ('41.7', '-85.65'), ('41.7', '-86.3'), ('41.7', '-86.35'), ('41.7', '-86.4'), ('41.7', '-87.55'), ('41.7', '-87.6'), ('41.7', '-87.65'), ('41.7', '-87.7'), ('41.7', '-87.75'), ('41.7', '-87.8'), ('41.7', '-87.85'), ('41.7', '-87.9'), ('41.7', '-88.0'), ('41.7', '-88.05'), ('41.7', '-88.15'), ('41.7', '-88.2'), ('41.7', '-88.25'), ('41.7', '-88.3'), ('41.7', '-88.35'), ('41.7', '-88.4'), ('41.7', '-88.45'), ('41.7', '-89.95'), ('41.7', '-90.05'), ('41.75', '-70.6'), ('41.75', '-70.65'), ('41.75', '-70.7'), ('41.75', '-70.75'), ('41.75', '-71.4'), ('41.75', '-71.45'), ('41.75', '-71.5'), ('41.75', '-72.2'), ('41.75', '-72.55'), ('41.75', '-72.6'), ('41.75', '-72.65'), ('41.75', '-72.7'), ('41.75', '-72.75'), ('41.75', '-73.15'), ('41.75', '-74.1'), ('41.75', '-74.65'), ('41.75', '-74.7'), ('41.75', '-75.7'), ('41.75', '-81.15'), ('41.75', '-86.45'), ('41.75', '-86.75'), ('41.75', '-87.6'), ('41.75', '-87.65'), ('41.75', '-87.7'), ('41.75', '-87.75'), ('41.75', '-87.8'), ('41.75', '-87.85'), ('41.75', '-87.9'), ('41.75', '-87.95'), ('41.75', '-88.1'), ('41.75', '-88.15'), ('41.75', '-88.2'), ('41.75', '-88.25'), ('41.75', '-88.3'), ('41.75', '-88.35'), ('41.75', '-88.4'), ('41.75', '-89.8'), ('41.75', '-89.85'), ('41.8', '-71.35'), ('41.8', '-71.4'), ('41.8', '-71.45'), ('41.8', '-71.5'), ('41.8', '-71.9'), ('41.8', '-72.15'), ('41.8', '-72.2'), ('41.8', '-72.25'), ('41.8', '-72.6'), ('41.8', '-72.65'), ('41.8', '-72.7'), ('41.8', '-72.75'), ('41.8', '-72.8'), ('41.8', '-73.15'), ('41.8', '-73.3'), ('41.8', '-75.7'), ('41.8', '-83.45'), ('41.8', '-87.6'), ('41.8', '-87.65'), ('41.8', '-87.7'), ('41.8', '-87.75'), ('41.8', '-87.8'), ('41.8', '-87.85'), ('41.8', '-87.9'), ('41.8', '-87.95'), ('41.8', '-88.0'), ('41.8', '-88.05'), ('41.8', '-88.1'), ('41.8', '-88.15'), ('41.8', '-88.35'), ('41.8', '-89.05'), ('41.8', '-94.1'), ('41.85', '-71.4'), ('41.85', '-71.45'), ('41.85', '-71.5'), ('41.85', '-72.2'), ('41.85', '-72.3'), ('41.85', '-72.65'), ('41.85', '-72.7'), ('41.85', '-72.75'), ('41.85', '-74.65'), ('41.85', '-80.8'), ('41.85', '-80.85'), ('41.85', '-83.5'), ('41.85', '-87.65'), ('41.85', '-87.7'), ('41.85', '-87.75'), ('41.85', '-87.8'), ('41.85', '-87.85'), ('41.85', '-87.9'), ('41.85', '-87.95'), ('41.85', '-88.0'), ('41.85', '-88.05'), ('41.85', '-88.1'), ('41.85', '-88.2'), ('41.85', '-88.35'), ('41.85', '-93.6'), ('41.9', '-71.05'), ('41.9', '-71.15'), ('41.9', '-71.35'), ('41.9', '-71.4'), ('41.9', '-71.5'), ('41.9', '-72.7'), ('41.9', '-79.55'), ('41.9', '-79.65'), ('41.9', '-83.5'), ('41.9', '-83.7'), ('41.9', '-85.1'), ('41.9', '-87.65'), ('41.9', '-87.7'), ('41.9', '-87.75'), ('41.9', '-87.8'), ('41.9', '-87.85'), ('41.9', '-87.9'), ('41.9', '-87.95'), ('41.9', '-88.0'), ('41.9', '-88.15'), ('41.9', '-88.35'), ('41.9', '-88.75'), ('41.9', '-88.8'), ('41.9', '-88.85'), ('41.9', '-91.45'), ('41.95', '-71.55'), ('41.95', '-75.35'), ('41.95', '-85.05'), ('41.95', '-87.7'), ('41.95', '-87.75'), ('41.95', '-87.8'), ('41.95', '-87.85'), ('41.95', '-87.9'), ('41.95', '-87.95'), ('41.95', '-88.0'), ('41.95', '-88.1'), ('41.95', '-88.25'), ('41.95', '-88.75'), ('41.95', '-88.8'), ('41.95', '-88.85'), ('41.95', '-93.6'), ('42.0', '-71.0'), ('42.0', '-71.1'), ('42.0', '-71.55'), ('42.0', '-72.6'), ('42.0', '-73.95'), ('42.0', '-75.8'), ('42.0', '-76.8'), ('42.0', '-83.3'), ('42.0', '-87.7'), ('42.0', '-87.75'), ('42.0', '-87.8'), ('42.0', '-87.9'), ('42.0', '-87.95'), ('42.0', '-88.0'), ('42.0', '-88.05'), ('42.0', '-88.35'), ('42.0', '-91.65'), ('42.0', '-93.6'), ('42.0', '-93.65'), ('42.05', '-71.0'), ('42.05', '-71.05'), ('42.05', '-71.1'), ('42.05', '-71.25'), ('42.05', '-71.3'), ('42.05', '-72.4'), ('42.05', '-72.5'), ('42.05', '-72.55'), ('42.05', '-72.6'), ('42.05', '-75.6'), ('42.05', '-75.85'), ('42.05', '-75.95'), ('42.05', '-76.0'), ('42.05', '-76.05'), ('42.05', '-76.8'), ('42.05', '-76.85'), ('42.05', '-79.25'), ('42.05', '-79.3'), ('42.05', '-80.1'), ('42.05', '-83.3'), ('42.05', '-83.65'), ('42.05', '-86.45'), ('42.05', '-86.5'), ('42.05', '-87.7'), ('42.05', '-87.9'), ('42.05', '-87.95'), ('42.05', '-88.05'), ('42.05', '-90.1'), ('42.1', '-70.95'), ('42.1', '-71.0'), ('42.1', '-71.05'), ('42.1', '-71.1'), ('42.1', '-71.25'), ('42.1', '-72.05'), ('42.1', '-72.1'), ('42.1', '-72.5'), ('42.1', '-72.55'), ('42.1', '-72.6'), ('42.1', '-72.65'), ('42.1', '-75.9'), ('42.1', '-75.95'), ('42.1', '-76.0'), ('42.1', '-76.05'), ('42.1', '-76.85'), ('42.1', '-77.0'), ('42.1', '-77.05'), ('42.1', '-79.35'), ('42.1', '-80.05'), ('42.1', '-80.1'), ('42.1', '-80.15'), ('42.1', '-83.25'), ('42.1', '-83.3'), ('42.1', '-86.5'), ('42.1', '-87.85'), ('42.1', '-87.9'), ('42.1', '-88.05'), ('42.15', '-70.95'), ('42.15', '-71.05'), ('42.15', '-71.1'), ('42.15', '-71.15'), ('42.15', '-71.2'), ('42.15', '-71.25'), ('42.15', '-71.85'), ('42.15', '-71.9'), ('42.15', '-72.65'), ('42.15', '-75.9'), ('42.15', '-76.85'), ('42.15', '-76.9'), ('42.15', '-83.2'), ('42.15', '-83.25'), ('42.15', '-83.3'), ('42.15', '-83.35'), ('42.15', '-84.4'), ('42.15', '-84.45'), ('42.15', '-87.85'), ('42.15', '-87.9'), ('42.15', '-88.0'), ('42.15', '-88.3'), ('42.15', '-88.4'), ('42.15', '-88.5'), ('42.2', '-70.95'), ('42.2', '-71.0'), ('42.2', '-71.05'), ('42.2', '-71.1'), ('42.2', '-71.15'), ('42.2', '-71.2'), ('42.2', '-71.25'), ('42.2', '-71.7'), ('42.2', '-71.75'), ('42.2', '-71.8'), ('42.2', '-71.85'), ('42.2', '-73.9'), ('42.2', '-83.2'), ('42.2', '-83.3'), ('42.2', '-83.35'), ('42.2', '-83.4'), ('42.2', '-83.45'), ('42.2', '-83.5'), ('42.2', '-83.55'), ('42.2', '-83.6'), ('42.2', '-83.65'), ('42.2', '-83.7'), ('42.2', '-83.75'), ('42.2', '-83.8'), ('42.2', '-84.45'), ('42.2', '-84.5'), ('42.2', '-85.6'), ('42.2', '-85.7'), ('42.2', '-85.75'), ('42.2', '-85.85'), ('42.2', '-87.85'), ('42.2', '-87.95'), ('42.2', '-88.9'), ('42.2', '-89.65'), ('42.25', '-117.75'), ('42.25', '-71.0'), ('42.25', '-71.05'), ('42.25', '-71.1'), ('42.25', '-71.15'), ('42.25', '-71.2'), ('42.25', '-71.25'), ('42.25', '-71.4'), ('42.25', '-71.8'), ('42.25', '-71.85'), ('42.25', '-71.9'), ('42.25', '-73.25'), ('42.25', '-73.3'), ('42.25', '-73.65'), ('42.25', '-83.1'), ('42.25', '-83.15'), ('42.25', '-83.2'), ('42.25', '-83.25'), ('42.25', '-83.3'), ('42.25', '-83.35'), ('42.25', '-83.4'), ('42.25', '-83.45'), ('42.25', '-83.5'), ('42.25', '-83.55'), ('42.25', '-83.6'), ('42.25', '-83.65'), ('42.25', '-83.7'), ('42.25', '-83.75'), ('42.25', '-83.8'), ('42.25', '-84.0'), ('42.25', '-84.45'), ('42.25', '-84.85'), ('42.25', '-84.95'), ('42.25', '-85.0'), ('42.25', '-85.05'), ('42.25', '-85.6'), ('42.25', '-85.65'), ('42.25', '-87.9'), ('42.25', '-87.95'), ('42.25', '-88.45'), ('42.25', '-89.0'), ('42.25', '-89.1'), ('42.25', '-89.6'), ('42.25', '-89.65'), ('42.25', '-89.7'), ('42.3', '-71.05'), ('42.3', '-71.1'), ('42.3', '-71.15'), ('42.3', '-71.2'), ('42.3', '-71.25'), ('42.3', '-71.3'), ('42.3', '-71.35'), ('42.3', '-71.45'), ('42.3', '-71.8'), ('42.3', '-71.85'), ('42.3', '-79.6'), ('42.3', '-82.95'), ('42.3', '-83.05'), ('42.3', '-83.1'), ('42.3', '-83.15'), ('42.3', '-83.2'), ('42.3', '-83.25'), ('42.3', '-83.3'), ('42.3', '-83.35'), ('42.3', '-83.4'), ('42.3', '-83.45'), ('42.3', '-83.5'), ('42.3', '-83.55'), ('42.3', '-83.6'), ('42.3', '-83.7'), ('42.3', '-83.75'), ('42.3', '-85.55'), ('42.3', '-85.7'), ('42.3', '-87.9'), ('42.3', '-88.05'), ('42.3', '-89.65'), ('42.35', '-71.0'), ('42.35', '-71.05'), ('42.35', '-71.1'), ('42.35', '-71.15'), ('42.35', '-71.2'), ('42.35', '-71.25'), ('42.35', '-72.5'), ('42.35', '-72.55'), ('42.35', '-76.9'), ('42.35', '-78.2'), ('42.35', '-79.55'), ('42.35', '-82.95'), ('42.35', '-83.0'), ('42.35', '-83.05'), ('42.35', '-83.1'), ('42.35', '-83.15'), ('42.35', '-83.2'), ('42.35', '-83.25'), ('42.35', '-83.3'), ('42.35', '-83.35'), ('42.35', '-83.4'), ('42.35', '-83.45'), ('42.35', '-83.55'), ('42.35', '-83.6'), ('42.35', '-86.25'), ('42.35', '-87.85'), ('42.35', '-87.9'), ('42.35', '-87.95'), ('42.35', '-88.0'), ('42.35', '-88.3'), ('42.4', '-71.05'), ('42.4', '-71.1'), ('42.4', '-71.15'), ('42.4', '-71.3'), ('42.4', '-73.55'), ('42.4', '-82.95'), ('42.4', '-83.0'), ('42.4', '-83.05'), ('42.4', '-83.1'), ('42.4', '-83.15'), ('42.4', '-83.2'), ('42.4', '-83.25'), ('42.4', '-83.3'), ('42.4', '-83.35'), ('42.4', '-83.4'), ('42.4', '-83.5'), ('42.4', '-83.55'), ('42.4', '-86.25'), ('42.4', '-87.85'), ('42.4', '-87.9'), ('42.4', '-89.0'), ('42.4', '-89.05'), ('42.45', '-71.0'), ('42.45', '-71.05'), ('42.45', '-71.15'), ('42.45', '-71.4'), ('42.45', '-71.5'), ('42.45', '-71.55'), ('42.45', '-73.75'), ('42.45', '-73.85'), ('42.45', '-76.35'), ('42.45', '-76.5'), ('42.45', '-82.9'), ('42.45', '-82.95'), ('42.45', '-83.0'), ('42.45', '-83.05'), ('42.45', '-83.1'), ('42.45', '-83.15'), ('42.45', '-83.2'), ('42.45', '-83.25'), ('42.45', '-83.3'), ('42.45', '-83.35'), ('42.45', '-83.4'), ('42.45', '-83.45'), ('42.45', '-83.5'), ('42.45', '-83.55'), ('42.45', '-83.7'), ('42.45', '-88.1'), ('42.45', '-90.7'), ('42.45', '-90.75'), ('42.45', '-96.4'), ('42.5', '-70.85'), ('42.5', '-70.9'), ('42.5', '-70.95'), ('42.5', '-71.05'), ('42.5', '-71.1'), ('42.5', '-71.3'), ('42.5', '-71.4'), ('42.5', '-71.5'), ('42.5', '-71.65'), ('42.5', '-71.75'), ('42.5', '-76.35'), ('42.5', '-82.9'), ('42.5', '-82.95'), ('42.5', '-83.05'), ('42.5', '-83.15'), ('42.5', '-83.2'), ('42.5', '-83.25'), ('42.5', '-83.3'), ('42.5', '-83.35'), ('42.5', '-83.4'), ('42.5', '-83.45'), ('42.5', '-83.5'), ('42.5', '-83.7'), ('42.5', '-84.85'), ('42.5', '-90.7'), ('42.5', '-90.75'), ('42.5', '-96.4'), ('42.5', '-96.45'), ('42.5', '-96.5'), ('42.55', '-70.9'), ('42.55', '-71.15'), ('42.55', '-71.3'), ('42.55', '-71.35'), ('42.55', '-71.45'), ('42.55', '-71.5'), ('42.55', '-71.6'), ('42.55', '-71.75'), ('42.55', '-71.8'), ('42.55', '-73.7'), ('42.55', '-76.15'), ('42.55', '-76.25'), ('42.55', '-76.4'), ('42.55', '-76.95'), ('42.55', '-82.9'), ('42.55', '-83.0'), ('42.55', '-83.05'), ('42.55', '-83.1'), ('42.55', '-83.15'), ('42.55', '-83.2'), ('42.55', '-83.25'), ('42.55', '-83.35'), ('42.55', '-83.4'), ('42.55', '-83.45'), ('42.55', '-83.75'), ('42.55', '-83.9'), ('42.55', '-83.95'), ('42.55', '-87.95'), ('42.55', '-89.75'), ('42.6', '-71.05'), ('42.6', '-71.2'), ('42.6', '-71.25'), ('42.6', '-71.35'), ('42.6', '-73.75'), ('42.6', '-73.8'), ('42.6', '-76.2'), ('42.6', '-78.75'), ('42.6', '-82.85'), ('42.6', '-82.9'), ('42.6', '-82.95'), ('42.6', '-83.0'), ('42.6', '-83.05'), ('42.6', '-83.1'), ('42.6', '-83.15'), ('42.6', '-83.2'), ('42.6', '-83.25'), ('42.6', '-83.3'), ('42.6', '-83.35'), ('42.6', '-83.4'), ('42.6', '-83.45'), ('42.6', '-83.5'), ('42.6', '-83.65'), ('42.6', '-84.05'), ('42.6', '-88.65'), ('42.6', '-88.7'), ('42.6', '-89.75'), ('42.65', '-71.15'), ('42.65', '-71.2'), ('42.65', '-73.7'), ('42.65', '-73.75'), ('42.65', '-73.8'), ('42.65', '-73.85'), ('42.65', '-73.9'), ('42.65', '-82.85'), ('42.65', '-83.0'), ('42.65', '-83.05'), ('42.65', '-83.1'), ('42.65', '-83.15'), ('42.65', '-83.2'), ('42.65', '-83.25'), ('42.65', '-83.3'), ('42.65', '-83.35'), ('42.65', '-83.45'), ('42.65', '-84.25'), ('42.65', '-84.35'), ('42.65', '-84.45'), ('42.65', '-84.5'), ('42.65', '-84.55'), ('42.65', '-84.6'), ('42.65', '-84.7'), ('42.7', '-71.15'), ('42.7', '-71.2'), ('42.7', '-73.75'), ('42.7', '-73.8'), ('42.7', '-73.85'), ('42.7', '-73.9'), ('42.7', '-78.9'), ('42.7', '-83.3'), ('42.7', '-83.35'), ('42.7', '-83.4'), ('42.7', '-83.45'), ('42.7', '-84.45'), ('42.7', '-84.5'), ('42.7', '-84.55'), ('42.7', '-84.6'), ('42.7', '-84.65'), ('42.7', '-84.7'), ('42.7', '-87.85'), ('42.7', '-88.05'), ('42.7', '-88.1'), ('42.7', '-90.5'), ('42.7', '-90.55'), ('42.7', '-93.25'), ('42.75', '-71.1'), ('42.75', '-73.7'), ('42.75', '-73.8'), ('42.75', '-73.85'), ('42.75', '-73.9'), ('42.75', '-73.95'), ('42.75', '-74.05'), ('42.75', '-78.85'), ('42.75', '-83.8'), ('42.75', '-84.45'), ('42.75', '-84.5'), ('42.75', '-84.55'), ('42.75', '-84.6'), ('42.75', '-84.7'), ('42.75', '-86.1'), ('42.75', '-86.15'), ('42.75', '-90.5'), ('42.8', '-103.0'), ('42.8', '-70.9'), ('42.8', '-70.95'), ('42.8', '-73.85'), ('42.8', '-73.9'), ('42.8', '-73.95'), ('42.8', '-74.0'), ('42.8', '-78.85'), ('42.8', '-84.3'), ('42.8', '-84.5'), ('42.8', '-85.8'), ('42.8', '-86.1'), ('42.8', '-86.15'), ('42.8', '-86.2'), ('42.8', '-88.75'), ('42.8', '-88.8'), ('42.85', '-70.95'), ('42.85', '-71.0'), ('42.85', '-74.05'), ('42.85', '-74.5'), ('42.85', '-75.65'), ('42.85', '-78.75'), ('42.85', '-78.8'), ('42.85', '-78.85'), ('42.85', '-78.9'), ('42.85', '-83.6'), ('42.85', '-83.8'), ('42.85', '-83.85'), ('42.85', '-84.15'), ('42.85', '-84.55'), ('42.85', '-85.65'), ('42.85', '-85.7'), ('42.85', '-85.75'), ('42.85', '-85.8'), ('42.85', '-85.85'), ('42.85', '-85.9'), ('42.85', '-87.7'), ('42.85', '-88.8'), ('42.9', '-72.3'), ('42.9', '-74.35'), ('42.9', '-74.45'), ('42.9', '-75.4'), ('42.9', '-75.45'), ('42.9', '-75.7'), ('42.9', '-76.55'), ('42.9', '-76.6'), ('42.9', '-78.7'), ('42.9', '-78.75'), ('42.9', '-78.8'), ('42.9', '-78.85'), ('42.9', '-78.9'), ('42.9', '-78.95'), ('42.9', '-81.25'), ('42.9', '-81.3'), ('42.9', '-83.65'), ('42.9', '-83.7'), ('42.9', '-83.75'), ('42.9', '-85.6'), ('42.9', '-85.7'), ('42.9', '-85.75'), ('42.9', '-85.8'), ('42.9', '-85.9'), ('42.9', '-87.9'), ('42.9', '-87.95'), ('42.95', '-75.35'), ('42.95', '-76.15'), ('42.95', '-76.55'), ('42.95', '-76.6'), ('42.95', '-77.05'), ('42.95', '-77.4'), ('42.95', '-78.75'), ('42.95', '-78.8'), ('42.95', '-78.85'), ('42.95', '-78.9'), ('42.95', '-78.95'), ('42.95', '-79.25'), ('42.95', '-81.2'), ('42.95', '-81.25'), ('42.95', '-81.3'), ('42.95', '-83.55'), ('42.95', '-83.6'), ('42.95', '-83.65'), ('42.95', '-83.7'), ('42.95', '-83.75'), ('42.95', '-83.8'), ('42.95', '-83.85'), ('42.95', '-83.9'), ('42.95', '-85.6'), ('42.95', '-85.65'), ('42.95', '-85.7'), ('42.95', '-85.75'), ('42.95', '-85.8'), ('42.95', '-85.85'), ('42.95', '-85.9'), ('42.95', '-85.95'), ('42.95', '-87.9'), ('42.95', '-87.95'), ('42.95', '-89.3'), ('43.0', '-70.85'), ('43.0', '-71.25'), ('43.0', '-75.0'), ('43.0', '-75.05'), ('43.0', '-75.1'), ('43.0', '-75.35'), ('43.0', '-76.1'), ('43.0', '-76.15'), ('43.0', '-76.2'), ('43.0', '-78.75'), ('43.0', '-78.8'), ('43.0', '-78.85'), ('43.0', '-78.9'), ('43.0', '-79.3'), ('43.0', '-81.2'), ('43.0', '-83.55'), ('43.0', '-83.6'), ('43.0', '-83.65'), ('43.0', '-83.7'), ('43.0', '-83.75'), ('43.0', '-83.8'), ('43.0', '-83.85'), ('43.0', '-85.65'), ('43.0', '-85.7'), ('43.0', '-87.95'), ('43.0', '-88.0'), ('43.0', '-88.05'), ('43.0', '-88.15'), ('43.0', '-89.45'), ('43.05', '-70.95'), ('43.05', '-73.8'), ('43.05', '-75.25'), ('43.05', '-75.3'), ('43.05', '-75.35'), ('43.05', '-75.95'), ('43.05', '-76.15'), ('43.05', '-76.2'), ('43.05', '-78.75'), ('43.05', '-78.8'), ('43.05', '-78.85'), ('43.05', '-78.9'), ('43.05', '-79.0'), ('43.05', '-79.05'), ('43.05', '-83.7'), ('43.05', '-83.75'), ('43.05', '-83.8'), ('43.05', '-83.85'), ('43.05', '-87.9'), ('43.05', '-87.95'), ('43.05', '-88.0'), ('43.05', '-88.05'), ('43.05', '-88.1'), ('43.05', '-88.25'), ('43.05', '-89.35'), ('43.05', '-89.4'), ('43.05', '-89.45'), ('43.1', '-70.75'), ('43.1', '-75.2'), ('43.1', '-75.25'), ('43.1', '-75.3'), ('43.1', '-75.4'), ('43.1', '-75.55'), ('43.1', '-77.5'), ('43.1', '-77.65'), ('43.1', '-78.7'), ('43.1', '-79.0'), ('43.1', '-79.1'), ('43.1', '-79.25'), ('43.1', '-80.3'), ('43.1', '-83.7'), ('43.1', '-83.75'), ('43.1', '-83.8'), ('43.1', '-85.65'), ('43.1', '-85.7'), ('43.1', '-87.9'), ('43.1', '-87.95'), ('43.1', '-88.0'), ('43.1', '-88.05'), ('43.1', '-89.45'), ('43.1', '-93.4'), ('43.1', '-93.5'), ('43.1', '-93.75'), ('43.15', '-76.15'), ('43.15', '-77.5'), ('43.15', '-77.55'), ('43.15', '-77.6'), ('43.15', '-77.65'), ('43.15', '-77.7'), ('43.15', '-77.9'), ('43.15', '-77.95'), ('43.15', '-78.7'), ('43.15', '-78.75'), ('43.15', '-79.25'), ('43.15', '-79.35'), ('43.15', '-80.25'), ('43.15', '-85.45'), ('43.15', '-85.6'), ('43.15', '-86.25'), ('43.15', '-88.0'), ('43.15', '-88.05'), ('43.15', '-88.1'), ('43.15', '-89.35'), ('43.15', '-89.4'), ('43.15', '-89.45'), ('43.2', '-77.95'), ('43.2', '-78.0'), ('43.2', '-78.7'), ('43.2', '-79.9'), ('43.2', '-79.95'), ('43.2', '-86.25'), ('43.2', '-86.3'), ('43.2', '-88.15'), ('43.2', '-93.4'), ('43.2', '-93.65'), ('43.25', '-79.9'), ('43.25', '-79.95'), ('43.25', '-83.85'), ('43.25', '-85.6'), ('43.25', '-86.25'), ('43.3', '-76.45'), ('43.3', '-79.85'), ('43.35', '-81.0'), ('43.35', '-86.25'), ('43.35', '-86.3'), ('43.35', '-86.4'), ('43.4', '-80.45'), ('43.4', '-80.5'), ('43.45', '-76.5'), ('43.45', '-76.55'), ('43.45', '-79.7'), ('43.45', '-80.05'), ('43.45', '-80.55'), ('43.45', '-80.6'), ('43.45', '-83.95'), ('43.45', '-84.0'), ('43.45', '-85.5'), ('43.5', '-116.15'), ('43.5', '-116.2'), ('43.5', '-116.3'), ('43.5', '-116.35'), ('43.5', '-79.65'), ('43.5', '-79.7'), ('43.5', '-79.75'), ('43.5', '-79.85'), ('43.5', '-79.9'), ('43.5', '-83.95'), ('43.5', '-84.0'), ('43.5', '-84.1'), ('43.5', '-96.75'), ('43.5', '-96.8'), ('43.55', '-116.2'), ('43.55', '-116.25'), ('43.55', '-116.3'), ('43.55', '-79.6'), ('43.55', '-79.65'), ('43.55', '-79.7'), ('43.55', '-79.75'), ('43.55', '-79.8'), ('43.55', '-79.85'), ('43.55', '-79.9'), ('43.55', '-80.25'), ('43.55', '-80.3'), ('43.6', '-116.2'), ('43.6', '-116.25'), ('43.6', '-116.3'), ('43.6', '-116.35'), ('43.6', '-116.45'), ('43.6', '-79.4'), ('43.6', '-79.45'), ('43.6', '-79.5'), ('43.6', '-79.55'), ('43.6', '-79.6'), ('43.6', '-79.65'), ('43.6', '-79.7'), ('43.6', '-79.75'), ('43.6', '-79.8'), ('43.65', '-116.35'), ('43.65', '-72.3'), ('43.65', '-72.35'), ('43.65', '-79.3'), ('43.65', '-79.35'), ('43.65', '-79.4'), ('43.65', '-79.45'), ('43.65', '-79.5'), ('43.65', '-79.55'), ('43.65', '-79.6'), ('43.65', '-79.7'), ('43.65', '-79.75'), ('43.65', '-79.8'), ('43.65', '-79.85'), ('43.65', '-80.75'), ('43.65', '-85.55'), ('43.7', '-79.25'), ('43.7', '-79.3'), ('43.7', '-79.35'), ('43.7', '-79.4'), ('43.7', '-79.45'), ('43.7', '-79.5'), ('43.7', '-79.55'), ('43.7', '-79.6'), ('43.7', '-79.65'), ('43.7', '-79.7'), ('43.7', '-79.75'), ('43.7', '-79.8'), ('43.7', '-85.55'), ('43.75', '-79.15'), ('43.75', '-79.2'), ('43.75', '-79.25'), ('43.75', '-79.3'), ('43.75', '-79.35'), ('43.75', '-79.4'), ('43.75', '-79.45'), ('43.75', '-79.5'), ('43.75', '-79.55'), ('43.75', '-79.7'), ('43.75', '-79.75'), ('43.75', '-79.8'), ('43.75', '-87.95'), ('43.75', '-88.45'), ('43.8', '-79.05'), ('43.8', '-79.1'), ('43.8', '-79.15'), ('43.8', '-79.2'), ('43.8', '-79.25'), ('43.8', '-79.3'), ('43.8', '-79.35'), ('43.8', '-79.4'), ('43.8', '-79.45'), ('43.8', '-79.5'), ('43.8', '-79.55'), ('43.8', '-79.6'), ('43.8', '-87.9'), ('43.8', '-87.95'), ('43.8', '-88.0'), ('43.8', '-88.05'), ('43.85', '-78.85'), ('43.85', '-78.9'), ('43.85', '-78.95'), ('43.85', '-79.0'), ('43.85', '-79.05'), ('43.85', '-79.1'), ('43.85', '-79.3'), ('43.85', '-79.35'), ('43.85', '-79.45'), ('43.85', '-87.95'), ('43.9', '-69.8'), ('43.9', '-69.85'), ('43.9', '-78.85'), ('43.9', '-78.9'), ('43.9', '-78.95'), ('43.95', '-75.95'), ('44.0', '-103.25'), ('44.0', '-69.95'), ('44.0', '-75.8'), ('44.0', '-75.85'), ('44.0', '-78.0'), ('44.05', '-75.8'), ('44.05', '-85.5'), ('44.05', '-87.7'), ('44.1', '-103.1'), ('44.1', '-103.15'), ('44.1', '-87.6'), ('44.1', '-87.65'), ('44.1', '-87.7'), ('44.15', '-87.75'), ('44.2', '-79.5'), ('44.25', '-76.7'), ('44.25', '-76.8'), ('44.25', '-76.85'), ('44.25', '-76.95'), ('44.25', '-78.35'), ('44.25', '-78.4'), ('44.25', '-93.3'), ('44.25', '-94.45'), ('44.3', '-78.3'), ('44.3', '-78.35'), ('44.3', '-94.5'), ('44.4', '-69.75'), ('44.45', '-73.2'), ('44.45', '-80.25'), ('44.45', '-80.3'), ('44.5', '-69.7'), ('44.5', '-73.05'), ('44.5', '-80.25'), ('44.5', '-89.8'), ('44.6', '-63.599999999999994'), ('44.6', '-69.55'), ('44.6', '-75.25'), ('44.6', '-93.25'), ('44.65', '-63.599999999999994'), ('44.65', '-73.5'), ('44.7', '-63.849999999999994'), ('44.7', '-69.45'), ('44.75', '-85.65'), ('44.75', '-85.8'), ('44.8', '-68.75'), ('44.8', '-68.8'), ('44.8', '-85.7'), ('44.8', '-93.25'), ('44.8', '-93.3'), ('44.8', '-93.4'), ('44.8', '-93.45'), ('44.8', '-93.55'), ('44.8', '-93.6'), ('44.8', '-93.65'), ('44.85', '-63.55'), ('44.85', '-68.7'), ('44.85', '-85.85'), ('44.85', '-93.2'), ('44.85', '-93.25'), ('44.85', '-93.3'), ('44.85', '-93.35'), ('44.85', '-93.45'), ('44.85', '-93.55'), ('44.85', '-93.6'), ('44.85', '-93.65'), ('44.85', '-93.7'), ('44.9', '-68.7'), ('44.9', '-92.9'), ('44.9', '-93.05'), ('44.9', '-93.1'), ('44.9', '-93.15'), ('44.9', '-93.2'), ('44.9', '-93.25'), ('44.9', '-93.3'), ('44.9', '-93.35'), ('44.9', '-93.7'), ('44.95', '-64.05'), ('44.95', '-85.65'), ('44.95', '-93.0'), ('44.95', '-93.05'), ('44.95', '-93.1'), ('44.95', '-93.15'), ('44.95', '-93.2'), ('44.95', '-93.25'), ('44.95', '-93.3'), ('44.95', '-93.35'), ('44.95', '-93.45'), ('44.95', '-93.5'), ('44.95', '-93.65'), ('45.0', '-93.05'), ('45.0', '-93.1'), ('45.0', '-93.2'), ('45.0', '-93.25'), ('45.0', '-93.3'), ('45.0', '-93.35'), ('45.0', '-93.5'), ('45.05', '-93.35'), ('45.05', '-93.4'), ('45.05', '-93.45'), ('45.05', '-93.55'), ('45.1', '-93.2'), ('45.1', '-93.3'), ('45.1', '-93.5'), ('45.1', '-93.55'), ('45.2', '-76.2'), ('45.3', '-75.8'), ('45.35', '-75.7'), ('45.35', '-75.75'), ('45.35', '-75.8'), ('45.35', '-75.85'), ('45.4', '-73.65'), ('45.4', '-74.25'), ('45.4', '-75.65'), ('45.4', '-75.7'), ('45.4', '-75.75'), ('45.45', '-73.45'), ('45.45', '-73.5'), ('45.45', '-73.55'), ('45.45', '-73.6'), ('45.45', '-73.65'), ('45.45', '-73.7'), ('45.45', '-74.3'), ('45.45', '-75.55'), ('45.5', '-73.6'), ('45.5', '-73.65'), ('45.5', '-73.7'), ('45.5', '-73.75'), ('45.5', '-73.85'), ('45.55', '-73.4'), ('45.55', '-73.6'), ('45.55', '-73.65'), ('45.55', '-73.7'), ('45.55', '-73.75'), ('45.55', '-73.8'), ('45.6', '-72.95'), ('45.6', '-73.15'), ('45.6', '-73.65'), ('45.6', '-94.2'), ('45.65', '-72.9'), ('45.65', '-73.7'), ('45.65', '-73.8'), ('45.7', '-94.3'), ('45.8', '-108.6'), ('45.8', '-64.2'), ('45.85', '-74.15'), ('45.9', '-66.7'), ('45.95', '-66.7'), ('45.95', '-66.75'), ('46.0', '-60.4'), ('46.05', '-64.8'), ('46.1', '-60.2'), ('46.1', '-60.25'), ('46.150000000000006', '-119.2'), ('46.150000000000006', '-64.65'), ('46.2', '-119.15'), ('46.2', '-119.2'), ('46.2', '-119.85'), ('46.25', '-119.5'), ('46.25', '-119.9'), ('46.25', '-119.95'), ('46.25', '-120.0'), ('46.25', '-63.15'), ('46.25', '-63.2'), ('46.35', '-76.6'), ('46.650000000000006', '-92.25'), ('46.7', '-92.15'), ('46.7', '-92.2'), ('46.7', '-92.25'), ('46.75', '-71.3'), ('46.75', '-92.1'), ('46.8', '-71.2'), ('46.8', '-71.25'), ('46.8', '-71.3'), ('46.85', '-100.8'), ('46.85', '-96.85'), ('47.1', '-84.7'), ('47.2', '-115.3'), ('47.6', '-101.35'), ('47.7', '-101.3'), ('47.7', '-117.35'), ('47.8', '-101.4'), ('47.8', '-117.4'), ('48.1', '-101.1'), ('48.150000000000006', '-101.3'), ('48.2', '-101.35'), ('48.35', '-100.35'), ('48.400000000000006', '-119.55'), ('48.8', '-100.5'), ('57.2', '-108.3')]\n"
     ]
    }
   ],
   "source": [
    "positivity_score()"
   ]
  },
  {
   "cell_type": "markdown",
   "id": "cf8e5306",
   "metadata": {},
   "source": [
    "## Visualizing results\n",
    "Now your goal is to visualize positivity on the map. You can learn how to create your own map visualizations [here](). "
   ]
  },
  {
   "cell_type": "markdown",
   "id": "596307dd",
   "metadata": {},
   "source": [
    "<div style=\"background-color:yellow;\">\n",
    "    <h3>Task 5. Create visualization input</h3>    \n",
    "</div>"
   ]
  },
  {
   "cell_type": "markdown",
   "id": "ee46694f",
   "metadata": {},
   "source": [
    "If you want to use the provided demo template, you would need to create a javascript variable `data` in JSON format and write this object to file `data.js` (located in public_html folder) as following:\n",
    "\n",
    "`var data =[{\"score\": 0, \"g\": -122.197916, \"t\": 47.528139}, {\"score\": 0.5, \"g\": -122.197916, \"t\": 47.528139}, … ];`\n",
    "\n",
    "As you see, `data` is an array of Javascript ‘objects’, and each object contains 3 attributes: ‘score’ of the area, ‘g’ for longitude and ‘t’ for latitude. Do not forget to add 0.05/2 to each coordinate to represent the center of the rectangular area rather than its left upper corner.\n",
    "\n",
    "Dump your resulting object to file `data.js`, place this file into the public_html folder, and explore the visualization by opening index.html in your browser. \n",
    "\n",
    "What areas are most positive, which ones are most negative?  Write down your observations in a new cell."
   ]
  },
  {
   "cell_type": "code",
   "execution_count": 23,
   "id": "52379ebc",
   "metadata": {},
   "outputs": [],
   "source": [
    "def generate_js_data():\n",
    "    tsvfile = open(\"positivity_score.tsv\", encoding=\"utf-8\")\n",
    "    readCSV = csv.reader(tsvfile, delimiter='\\t')\n",
    "    \n",
    "    data = \"var data = [\"\n",
    "    for row in readCSV:\n",
    "        list_arr = list(row)\n",
    "        \n",
    "        long = \", \\\"g\\\": \"\n",
    "        long += str(float(list_arr[0]) + (0.05/2))\n",
    "        lat = \", \\\"t\\\": \"\n",
    "        lat += str(float(list_arr[1]) + (0.05/2))\n",
    "        score = \"\\\"score\\\": \"\n",
    "        score += list_arr[2]\n",
    "        data += \"{\" + score + long + lat + \"}, \"\n",
    "    \n",
    "    data = data[0:len(data) - 2] + \"];\"\n",
    "    \n",
    "    with open('public_html/data.js', 'w') as file:\n",
    "        file.write(data)\n",
    "    "
   ]
  },
  {
   "cell_type": "markdown",
   "id": "65216f19",
   "metadata": {},
   "source": [
    "Run it and test if it worked."
   ]
  },
  {
   "cell_type": "code",
   "execution_count": 27,
   "id": "3573984c",
   "metadata": {},
   "outputs": [],
   "source": [
    "generate_js_data()"
   ]
  },
  {
   "cell_type": "markdown",
   "id": "0ec2e476",
   "metadata": {},
   "source": [
    "('20.45', '-87.0') has the lowest positivity score, while ('57.2', '-108.3') is one of the highest scores, as well as ('48.400000000000006', '-119.55') and ('48.8', '-100.5')."
   ]
  },
  {
   "cell_type": "markdown",
   "id": "230c3984",
   "metadata": {},
   "source": [
    "## Before you submit\n",
    "Check that everything still works as expected if you call all your functions one after another:"
   ]
  },
  {
   "cell_type": "code",
   "execution_count": 20,
   "id": "6cfc15c7",
   "metadata": {},
   "outputs": [
    {
     "name": "stderr",
     "output_type": "stream",
     "text": [
      "363386it [00:21, 16963.35it/s]\n"
     ]
    },
    {
     "name": "stdout",
     "output_type": "stream",
     "text": [
      "Longitude: 40.2, Latitude: -74.85, Score: 0.5\n",
      "Longitude: 40.2, Latitude: -74.75, Score: 0.5\n",
      "Longitude: 40.2, Latitude: -74.8, Score: 0.5\n",
      "Longitude: 40.15, Latitude: -74.8, Score: 0.5\n",
      "Longitude: 40.25, Latitude: -74.7, Score: 0.5\n",
      "Longitude: 40.3, Latitude: -74.7, Score: 0.5\n",
      "Longitude: 40.25, Latitude: -74.8, Score: 0.5\n",
      "Longitude: 40.25, Latitude: -74.75, Score: 0.5\n",
      "Longitude: 40.1, Latitude: -74.9, Score: 0.5\n",
      "Longitude: 40.45, Latitude: -74.3, Score: 0.5\n",
      "Longitude: 40.65, Latitude: -74.0, Score: 0.5\n",
      "Longitude: 40.8, Latitude: -73.95, Score: 0.5\n",
      "Longitude: 40.8, Latitude: -73.9, Score: 0.5\n",
      "Longitude: 40.7, Latitude: -74.0, Score: 0.5\n",
      "Longitude: 41.9, Latitude: -87.7, Score: 0.5\n",
      "Longitude: 41.85, Latitude: -87.75, Score: 0.5\n",
      "Longitude: 41.85, Latitude: -87.7, Score: 0.5\n",
      "Longitude: 42.05, Latitude: -88.05, Score: 0.5\n",
      "Longitude: 41.75, Latitude: -87.9, Score: 0.5\n",
      "Longitude: 38.15, Latitude: -84.9, Score: 0.5\n",
      "Longitude: 38.15, Latitude: -84.95, Score: 0.5\n",
      "Longitude: 39.1, Latitude: -84.5, Score: 0.5\n",
      "Longitude: 40.05, Latitude: -83.0, Score: 0.5\n",
      "Longitude: 39.95, Latitude: -83.05, Score: 0.5\n",
      "Longitude: 39.8, Latitude: -83.15, Score: 0.5\n",
      "Longitude: 39.5, Latitude: -83.85, Score: 0.5\n",
      "Longitude: 39.35, Latitude: -84.2, Score: 0.5\n",
      "Longitude: 38.5, Latitude: -84.6, Score: 0.5\n",
      "Longitude: 38.35, Latitude: -84.6, Score: 0.5\n",
      "Longitude: 38.15, Latitude: -84.65, Score: 0.5\n",
      "Longitude: 43.8, Latitude: -79.25, Score: 0.5\n",
      "Longitude: 43.75, Latitude: -79.35, Score: 0.5\n",
      "Longitude: 43.75, Latitude: -79.45, Score: 0.5\n",
      "Longitude: 43.8, Latitude: -79.35, Score: 0.5\n",
      "Longitude: 43.75, Latitude: -79.4, Score: 0.5\n",
      "Longitude: 37.5, Latitude: -77.5, Score: 0.5\n",
      "Longitude: 37.5, Latitude: -77.45, Score: 0.5\n",
      "Longitude: 37.55, Latitude: -77.5, Score: 0.5\n",
      "Longitude: 37.45, Latitude: -77.55, Score: 0.5\n",
      "Longitude: 37.45, Latitude: -77.6, Score: 0.5\n",
      "Longitude: 38.15, Latitude: -79.05, Score: 0.5\n",
      "Longitude: 41.5, Latitude: -95.9, Score: 0.5\n",
      "Longitude: 41.55, Latitude: -95.95, Score: 0.5\n",
      "Longitude: 41.5, Latitude: -95.95, Score: 0.5\n",
      "Longitude: 41.25, Latitude: -95.8, Score: 0.5\n",
      "Longitude: 41.35, Latitude: -95.9, Score: 0.5\n",
      "Longitude: 34.2, Latitude: -118.65, Score: 0.5\n",
      "Longitude: 30.35, Latitude: -91.15, Score: 0.5\n",
      "Longitude: 30.4, Latitude: -91.1, Score: 0.5\n",
      "Longitude: 30.4, Latitude: -91.15, Score: 0.5\n"
     ]
    }
   ],
   "source": [
    "word_counts_dict = {} # \"word\": [positive, negative, neutral, irrelevant, total counts]\n",
    "total_entries = [0, 0, 0, 0, 0] #[positive, negative, neutral, irrelevant, total counts]\n",
    "\n",
    "produce_counts() #count tweets in training data\n",
    "\n",
    "prior_probabilities = [0,0,0,0] #probabilities of 'positive', 'negative', 'neutral', 'irrelevant'\n",
    "probabilities_dict = {} #key: word, value array [positive, negative, neutral, irrelevant]\n",
    "\n",
    "probabilities() #calculate probabilities\n",
    "classify() #classify and write locations_classified.tsv\n",
    "positivity_score() #calculate positivity scores and write positivity_score.tsv\n",
    "generate_js_data() #write data.js"
   ]
  },
  {
   "cell_type": "markdown",
   "id": "40fd46f2",
   "metadata": {},
   "source": [
    "## Submit your work by committing the forked repository to github. \n",
    "*Do not commit any data files: they are too big for github*"
   ]
  },
  {
   "cell_type": "markdown",
   "id": "43a388f8",
   "metadata": {},
   "source": [
    "### This is the end of the Skill lab 3. \n",
    "\n",
    "Copyright &copy; 2024 Marina Barsky."
   ]
  }
 ],
 "metadata": {
  "kernelspec": {
   "display_name": "Python 3",
   "language": "python",
   "name": "python3"
  },
  "language_info": {
   "codemirror_mode": {
    "name": "ipython",
    "version": 3
   },
   "file_extension": ".py",
   "mimetype": "text/x-python",
   "name": "python",
   "nbconvert_exporter": "python",
   "pygments_lexer": "ipython3",
   "version": "3.8.8"
  }
 },
 "nbformat": 4,
 "nbformat_minor": 5
}
